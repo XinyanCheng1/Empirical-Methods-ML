{
 "cells": [
  {
   "cell_type": "markdown",
   "metadata": {
    "slideshow": {
     "slide_type": "slide"
    }
   },
   "source": [
    "# Data Pre-Processing"
   ]
  },
  {
   "cell_type": "markdown",
   "metadata": {
    "slideshow": {
     "slide_type": "slide"
    }
   },
   "source": [
    "## Dealing with [*Missing* Data](https://en.wikipedia.org/wiki/Missing_data)"
   ]
  },
  {
   "cell_type": "markdown",
   "metadata": {
    "slideshow": {
     "slide_type": "fragment"
    }
   },
   "source": [
    "In most online _machine learning_ classes you are taught that when your data set is **incomplete** you can either:\n",
    "1. Erase the corresponding rows with missing cells; or\n",
    "2. _Impute_ (fill) the sample average of each column into those missing cells.\n",
    "\n",
    "It turns out that the second option would require stronger assumptions than the first. If the observations are **missing completely at random** and your sample is i.i.d., the first option is harmless for large data sets."
   ]
  },
  {
   "cell_type": "markdown",
   "metadata": {
    "slideshow": {
     "slide_type": "slide"
    }
   },
   "source": [
    "## Encoding [Categorical Variables](https://en.wikipedia.org/wiki/Categorical_variable)"
   ]
  },
  {
   "cell_type": "markdown",
   "metadata": {
    "slideshow": {
     "slide_type": "subslide"
    }
   },
   "source": [
    "💻 Consider the ```hprice3``` data set from the ```wooldridge``` package:"
   ]
  },
  {
   "cell_type": "code",
   "execution_count": 23,
   "metadata": {},
   "outputs": [],
   "source": [
    "%reload_ext rpy2.ipython"
   ]
  },
  {
   "cell_type": "code",
   "execution_count": 24,
   "metadata": {
    "slideshow": {
     "slide_type": "fragment"
    }
   },
   "outputs": [
    {
     "data": {
      "text/html": [
       "\n",
       "        <span>StrVector with 1 elements.</span>\n",
       "        <table>\n",
       "        <tbody>\n",
       "          <tr>\n",
       "          \n",
       "            <td>\n",
       "            'hprice3'\n",
       "            </td>\n",
       "          \n",
       "          </tr>\n",
       "        </tbody>\n",
       "        </table>\n",
       "        "
      ],
      "text/plain": [
       "<rpy2.robjects.vectors.StrVector object at 0x00000276CDA025C0> [RTYPES.STRSXP]\n",
       "R classes: ('character',)\n",
       "['hprice3']"
      ]
     },
     "execution_count": 24,
     "metadata": {},
     "output_type": "execute_result"
    }
   ],
   "source": [
    "## installing the 'wooldridge' package if not previously installed\n",
    "%R if (!require(wooldridge)) install.packages('wooldridge')\n",
    "\n",
    "%R data(hprice3)\n",
    "\n",
    "## Obs:   321\n",
    "\n",
    "##  1. year                     1978, 1981\n",
    "##  2. age                      age of house\n",
    "##  3. agesq                    age^2\n",
    "##  4. nbh                      neighborhood, 1 to 6\n",
    "##  5. cbd                      dist. to central bus. dstrct, feet\n",
    "##  6. inst                     dist. to interstate, feet\n",
    "##  7. linst                    log(inst)\n",
    "##  8. price                    selling price\n",
    "##  9. rooms                    # rooms in house\n",
    "## 10. area                     square footage of house\n",
    "## 11. land                     square footage lot\n",
    "## 12. baths                    # bathrooms\n",
    "## 13. dist                     dist. from house to incin., feet\n",
    "## 14. ldist                    log(dist)\n",
    "## 15. lprice                   log(price)\n",
    "## 16. y81                      =1 if year = 1981\n",
    "## 17. larea                    log(area)\n",
    "## 18. lland                    log(land)\n",
    "## 19. linstsq                  linst^2"
   ]
  },
  {
   "cell_type": "code",
   "execution_count": 25,
   "metadata": {},
   "outputs": [],
   "source": [
    "import wooldridge as woo\n",
    "hprice3 = woo.dataWoo('hprice3')"
   ]
  },
  {
   "cell_type": "markdown",
   "metadata": {
    "slideshow": {
     "slide_type": "subslide"
    }
   },
   "source": [
    "💻 Variables ```y81```, ```rooms```, and ```nbh``` are examples of <ins>categorical</ins> variables. In Econometrics, ```y81``` is called a standard dummy variable, ```rooms``` is called an _ordered_ categorical variable, ```nbh``` is called an _unordered_ categorical variable. Both ```rooms``` and ```nbh``` have _multiple_ categories. The fucntion ```as.factor()``` with option ```ordered=TRUE``` and ```ordered=FALSE``` (default) will allow us to handle them accordingly in all analysis."
   ]
  },
  {
   "cell_type": "code",
   "execution_count": 26,
   "metadata": {
    "slideshow": {
     "slide_type": "fragment"
    }
   },
   "outputs": [
    {
     "data": {
      "text/plain": [
       "<rpy2.robjects.environments.Environment object at 0x00000276CD9DF740> [RTYPES.ENVSXP]\n",
       "R classes: ('environment',)\n",
       "n items: 19"
      ]
     },
     "execution_count": 26,
     "metadata": {},
     "output_type": "execute_result"
    }
   ],
   "source": [
    "## without using the 'as.factor' function\n",
    "%R attach(hprice3)\n",
    "%R no.factor <- data.frame(y81=y81,rooms=rooms,nbh=nbh)\n",
    "%R summary(no.factor)\n",
    "%R detach(hprice3)\n",
    "\n",
    "## using the 'factor' function\n",
    "%R attach(hprice3)\n",
    "%R yes.factor <- data.frame(y81=factor(y81),rooms=factor(rooms,ordered=TRUE),nbh=factor(nbh,ordered=FALSE))\n",
    "%R summary(yes.factor)\n",
    "%R detach(hprice3)"
   ]
  },
  {
   "cell_type": "code",
   "execution_count": 27,
   "metadata": {},
   "outputs": [
    {
     "name": "stdout",
     "output_type": "stream",
     "text": [
      "y81      int64\n",
      "rooms    int64\n",
      "nbh      int64\n",
      "dtype: object\n",
      "y81         int64\n",
      "rooms    category\n",
      "nbh      category\n",
      "dtype: object\n"
     ]
    }
   ],
   "source": [
    "import pandas as pd\n",
    "no_factor = hprice3[['y81','rooms','nbh']]\n",
    "print(no_factor.dtypes)\n",
    "yes_factor = pd.DataFrame({'y81':hprice3['y81'],\n",
    "                           'rooms':hprice3['rooms'].astype('category'),\n",
    "                           'nbh':hprice3['nbh'].astype('category')})\n",
    "yes_factor.rooms.cat.set_categories(\n",
    "    new_categories = sorted(hprice3['rooms'].unique()), ordered = True, inplace = True)\n",
    "print(yes_factor.dtypes)"
   ]
  },
  {
   "cell_type": "markdown",
   "metadata": {
    "slideshow": {
     "slide_type": "subslide"
    }
   },
   "source": [
    "💻 The default behavior in regression is to transformed ordered and unordered categorical variable with multiple categories into a set of $c-1$ dummy variables and include them as regressors, where $c$ represents the number of categories."
   ]
  },
  {
   "cell_type": "code",
   "execution_count": 29,
   "metadata": {
    "slideshow": {
     "slide_type": "fragment"
    }
   },
   "outputs": [
    {
     "data": {
      "text/plain": [
       "array([[ 3.49741358e+00,  2.26653689e+00,  1.54306493e+00,\n",
       "         1.23876247e-01],\n",
       "       [ 1.22178750e-01,  3.73452537e-02,  3.27160047e+00,\n",
       "         1.19500174e-03],\n",
       "       [ 3.53527029e-01,  6.49602385e-02,  5.44220645e+00,\n",
       "         1.09993076e-07],\n",
       "       [-3.09093781e-02,  5.76761515e-02, -5.35912632e-01,\n",
       "         5.92418700e-01],\n",
       "       [ 3.79015730e-01,  2.44748845e-02,  1.54859047e+01,\n",
       "         4.28742798e-40],\n",
       "       [ 1.32637038e-01,  1.56849504e-01,  8.45632498e-01,\n",
       "         3.98436262e-01],\n",
       "       [ 6.15074992e-02,  1.58817991e-01,  3.87282945e-01,\n",
       "         6.98823196e-01],\n",
       "       [ 1.40493063e-01,  1.65317814e-01,  8.49836201e-01,\n",
       "         3.96098400e-01],\n",
       "       [ 1.73819280e-01,  1.67557064e-01,  1.03737363e+00,\n",
       "         3.00402774e-01],\n",
       "       [ 2.90598039e-01,  1.83811551e-01,  1.58095635e+00,\n",
       "         1.14948788e-01],\n",
       "       [ 3.93247317e-01,  2.15237037e-01,  1.82704297e+00,\n",
       "         6.86934107e-02],\n",
       "       [-3.05386380e-02,  6.13458334e-02, -4.97811120e-01,\n",
       "         6.18984325e-01],\n",
       "       [-5.68361290e-02,  3.20025849e-02, -1.77598557e+00,\n",
       "         7.67556552e-02],\n",
       "       [-1.98881539e-01,  5.40649769e-02, -3.67856514e+00,\n",
       "         2.78236518e-04],\n",
       "       [-1.35533074e-02,  4.85884953e-02, -2.78940670e-01,\n",
       "         7.80483833e-01],\n",
       "       [-7.19175918e-02,  4.17110501e-02, -1.72418560e+00,\n",
       "         8.57113720e-02],\n",
       "       [-4.82670441e-02,  4.78596777e-02, -1.00851168e+00,\n",
       "         3.14027055e-01],\n",
       "       [ 6.22789867e-01,  4.11821139e-01,  1.51228242e+00,\n",
       "         1.31521773e-01],\n",
       "       [-3.84262698e-02,  2.39383129e-02, -1.60522047e+00,\n",
       "         1.09504464e-01],\n",
       "       [ 1.41697280e-01,  7.87289253e-02,  1.79981220e+00,\n",
       "         7.29016597e-02],\n",
       "       [ 9.89640802e-02,  2.75174971e-02,  3.59640558e+00,\n",
       "         3.77548105e-04],\n",
       "       [-6.85451709e-03,  1.67431021e-03, -4.09393495e+00,\n",
       "         5.46742659e-05],\n",
       "       [ 2.74108596e-05,  1.15081569e-05,  2.38186356e+00,\n",
       "         1.78527637e-02]])"
      ]
     },
     "execution_count": 29,
     "metadata": {},
     "output_type": "execute_result"
    }
   ],
   "source": [
    "%R ols <- lm(lprice ~ lland + larea + I(log(cbd)) +as.factor(y81) + as.factor(rooms) + as.factor(nbh) +linst + linstsq + ldist + baths + age + agesq,data=hprice3)\n",
    "\n",
    "## installing the 'lmtest', 'sandwich' packages if not previously installed\n",
    "%R if (!require(lmtest)) install.packages('lmtest')\n",
    "%R if (!require(sandwich)) install.packages('sandwich')\n",
    "\n",
    "## turning 'off' scientific notation\n",
    "%R options(scipen = 999) \n",
    "\n",
    "## calculating standard t-statistics for 'significance'\n",
    "%R coeftest(ols, vcov = vcovHC, type = 'HC1')"
   ]
  },
  {
   "cell_type": "markdown",
   "metadata": {
    "slideshow": {
     "slide_type": "subslide"
    }
   },
   "source": [
    "💻 In many machine learning algorithms you are required to provide the design (model) matrix, $\\mathbf{X}$ (*without* and intercept), and response vector, $\\mathbf{y}$."
   ]
  },
  {
   "cell_type": "markdown",
   "metadata": {
    "slideshow": {
     "slide_type": "skip"
    },
    "solution2": "hidden",
    "solution2_first": true
   },
   "source": [
    "**<span style=\"color:green\">Exercise:</span>**: Use the ```model.matrix``` function to extract the design matrix _without_ an intercept from the previously created ```ols``` object and verify it contains 22 columns of regressors/features."
   ]
  },
  {
   "cell_type": "code",
   "execution_count": 30,
   "metadata": {
    "slideshow": {
     "slide_type": "fragment"
    },
    "solution2": "hidden"
   },
   "outputs": [
    {
     "data": {
      "text/html": [
       "\n",
       "        <span>StrVector with 22 elements.</span>\n",
       "        <table>\n",
       "        <tbody>\n",
       "          <tr>\n",
       "          \n",
       "            <td>\n",
       "            'lland'\n",
       "            </td>\n",
       "          \n",
       "            <td>\n",
       "            'larea'\n",
       "            </td>\n",
       "          \n",
       "            <td>\n",
       "            'I(log(cb...\n",
       "            </td>\n",
       "          \n",
       "            <td>\n",
       "            ...\n",
       "            </td>\n",
       "          \n",
       "            <td>\n",
       "            'baths'\n",
       "            </td>\n",
       "          \n",
       "            <td>\n",
       "            'age'\n",
       "            </td>\n",
       "          \n",
       "            <td>\n",
       "            'agesq'\n",
       "            </td>\n",
       "          \n",
       "          </tr>\n",
       "        </tbody>\n",
       "        </table>\n",
       "        "
      ],
      "text/plain": [
       "<rpy2.robjects.vectors.StrVector object at 0x00000276CD9B8380> [RTYPES.STRSXP]\n",
       "R classes: ('character',)\n",
       "['lland', 'larea', 'I(log(cb..., 'as.facto..., ..., 'ldist', 'baths', 'age', 'agesq']"
      ]
     },
     "execution_count": 30,
     "metadata": {},
     "output_type": "execute_result"
    }
   ],
   "source": [
    "%R X <- model.matrix(ols)[,-1]\n",
    "%R dim(X)\n",
    "%R colnames(X)"
   ]
  },
  {
   "cell_type": "markdown",
   "metadata": {
    "slideshow": {
     "slide_type": "skip"
    },
    "solution2": "shown",
    "solution2_first": true
   },
   "source": [
    "📌 It is good practice to define categorical variables _outside_ the model formula/fitting. When doing this, one can easily change the 'base' category using the ```relevel()``` function along with the ```within()``` function."
   ]
  },
  {
   "cell_type": "markdown",
   "metadata": {
    "slideshow": {
     "slide_type": "skip"
    },
    "solution2": "hidden",
    "solution2_first": true
   },
   "source": [
    "**<span style=\"color:green\">Exercise:</span>**:\n",
    "1. Create a copy of the ```hprice3``` data frame, call it ```hprice3.copy``` that contains all the variables used in fitting the model ```ols``` above."
   ]
  },
  {
   "cell_type": "code",
   "execution_count": 31,
   "metadata": {
    "solution2": "hidden"
   },
   "outputs": [
    {
     "data": {
      "text/html": [
       "\n",
       "        <span>StrVector with 13 elements.</span>\n",
       "        <table>\n",
       "        <tbody>\n",
       "          <tr>\n",
       "          \n",
       "            <td>\n",
       "            'lprice'\n",
       "            </td>\n",
       "          \n",
       "            <td>\n",
       "            'lland'\n",
       "            </td>\n",
       "          \n",
       "            <td>\n",
       "            'larea'\n",
       "            </td>\n",
       "          \n",
       "            <td>\n",
       "            ...\n",
       "            </td>\n",
       "          \n",
       "            <td>\n",
       "            'baths'\n",
       "            </td>\n",
       "          \n",
       "            <td>\n",
       "            'age'\n",
       "            </td>\n",
       "          \n",
       "            <td>\n",
       "            'agesq'\n",
       "            </td>\n",
       "          \n",
       "          </tr>\n",
       "        </tbody>\n",
       "        </table>\n",
       "        "
      ],
      "text/plain": [
       "<rpy2.robjects.vectors.StrVector object at 0x00000276CDAE5E80> [RTYPES.STRSXP]\n",
       "R classes: ('character',)\n",
       "['lprice', 'lland', 'larea', 'cbd', ..., 'ldist', 'baths', 'age', 'agesq']"
      ]
     },
     "execution_count": 31,
     "metadata": {},
     "output_type": "execute_result"
    }
   ],
   "source": [
    "%R hprice3.copy <- subset(hprice3,select=c('lprice','lland','larea','cbd','y81','rooms','nbh','linst','linstsq','ldist','baths','age','agesq'))\n",
    "%R names(hprice3.copy)"
   ]
  },
  {
   "cell_type": "markdown",
   "metadata": {
    "slideshow": {
     "slide_type": "skip"
    },
    "solution2": "hidden",
    "solution2_first": true
   },
   "source": [
    "2. Add the variable ```lcbd``` which equals the natural logarithm of ```cbd``` and then drop ```cbd``` from ```hprice3.copy```."
   ]
  },
  {
   "cell_type": "code",
   "execution_count": 32,
   "metadata": {
    "solution2": "hidden"
   },
   "outputs": [
    {
     "data": {
      "text/html": [
       "\n",
       "        <span>StrVector with 13 elements.</span>\n",
       "        <table>\n",
       "        <tbody>\n",
       "          <tr>\n",
       "          \n",
       "            <td>\n",
       "            'lprice'\n",
       "            </td>\n",
       "          \n",
       "            <td>\n",
       "            'lland'\n",
       "            </td>\n",
       "          \n",
       "            <td>\n",
       "            'larea'\n",
       "            </td>\n",
       "          \n",
       "            <td>\n",
       "            ...\n",
       "            </td>\n",
       "          \n",
       "            <td>\n",
       "            'age'\n",
       "            </td>\n",
       "          \n",
       "            <td>\n",
       "            'agesq'\n",
       "            </td>\n",
       "          \n",
       "            <td>\n",
       "            'lcbd'\n",
       "            </td>\n",
       "          \n",
       "          </tr>\n",
       "        </tbody>\n",
       "        </table>\n",
       "        "
      ],
      "text/plain": [
       "<rpy2.robjects.vectors.StrVector object at 0x00000276D338C280> [RTYPES.STRSXP]\n",
       "R classes: ('character',)\n",
       "['lprice', 'lland', 'larea', 'y81', ..., 'baths', 'age', 'agesq', 'lcbd']"
      ]
     },
     "execution_count": 32,
     "metadata": {},
     "output_type": "execute_result"
    }
   ],
   "source": [
    "%R hprice3.copy$lcbd <- log(hprice3.copy$cbd)\n",
    "%R hprice3.copy <- subset(hprice3.copy,select=-c(cbd))\n",
    "%R names(hprice3.copy)"
   ]
  },
  {
   "cell_type": "markdown",
   "metadata": {
    "slideshow": {
     "slide_type": "skip"
    },
    "solution2": "hidden",
    "solution2_first": true
   },
   "source": [
    "3. Replace ```y81```, ```rooms```, and ```nbh``` by their factor versions in ```hprice3.copy```."
   ]
  },
  {
   "cell_type": "code",
   "execution_count": 33,
   "metadata": {
    "solution2": "hidden"
   },
   "outputs": [
    {
     "data": {
      "text/html": [
       "<div>\n",
       "<style scoped>\n",
       "    .dataframe tbody tr th:only-of-type {\n",
       "        vertical-align: middle;\n",
       "    }\n",
       "\n",
       "    .dataframe tbody tr th {\n",
       "        vertical-align: top;\n",
       "    }\n",
       "\n",
       "    .dataframe thead th {\n",
       "        text-align: right;\n",
       "    }\n",
       "</style>\n",
       "<table border=\"1\" class=\"dataframe\">\n",
       "  <thead>\n",
       "    <tr style=\"text-align: right;\">\n",
       "      <th></th>\n",
       "      <th>lprice</th>\n",
       "      <th>lland</th>\n",
       "      <th>larea</th>\n",
       "      <th>y81</th>\n",
       "      <th>rooms</th>\n",
       "      <th>nbh</th>\n",
       "      <th>linst</th>\n",
       "      <th>linstsq</th>\n",
       "      <th>ldist</th>\n",
       "      <th>baths</th>\n",
       "      <th>age</th>\n",
       "      <th>agesq</th>\n",
       "      <th>lcbd</th>\n",
       "    </tr>\n",
       "  </thead>\n",
       "  <tbody>\n",
       "    <tr>\n",
       "      <th>1</th>\n",
       "      <td>11.002100</td>\n",
       "      <td>8.429017</td>\n",
       "      <td>7.414573</td>\n",
       "      <td>0</td>\n",
       "      <td>7</td>\n",
       "      <td>4</td>\n",
       "      <td>6.9078</td>\n",
       "      <td>47.717705</td>\n",
       "      <td>9.277999</td>\n",
       "      <td>1</td>\n",
       "      <td>48</td>\n",
       "      <td>2304.0</td>\n",
       "      <td>8.006368</td>\n",
       "    </tr>\n",
       "    <tr>\n",
       "      <th>2</th>\n",
       "      <td>10.596635</td>\n",
       "      <td>9.032409</td>\n",
       "      <td>7.867871</td>\n",
       "      <td>0</td>\n",
       "      <td>6</td>\n",
       "      <td>4</td>\n",
       "      <td>6.9078</td>\n",
       "      <td>47.717705</td>\n",
       "      <td>9.305651</td>\n",
       "      <td>2</td>\n",
       "      <td>83</td>\n",
       "      <td>6889.0</td>\n",
       "      <td>8.294050</td>\n",
       "    </tr>\n",
       "    <tr>\n",
       "      <th>3</th>\n",
       "      <td>10.434115</td>\n",
       "      <td>8.517193</td>\n",
       "      <td>7.042286</td>\n",
       "      <td>0</td>\n",
       "      <td>6</td>\n",
       "      <td>4</td>\n",
       "      <td>6.9078</td>\n",
       "      <td>47.717705</td>\n",
       "      <td>9.350102</td>\n",
       "      <td>1</td>\n",
       "      <td>58</td>\n",
       "      <td>3364.0</td>\n",
       "      <td>8.294050</td>\n",
       "    </tr>\n",
       "    <tr>\n",
       "      <th>4</th>\n",
       "      <td>11.065075</td>\n",
       "      <td>9.210340</td>\n",
       "      <td>7.035269</td>\n",
       "      <td>0</td>\n",
       "      <td>5</td>\n",
       "      <td>4</td>\n",
       "      <td>6.9078</td>\n",
       "      <td>47.717705</td>\n",
       "      <td>9.384294</td>\n",
       "      <td>1</td>\n",
       "      <td>11</td>\n",
       "      <td>121.0</td>\n",
       "      <td>8.294050</td>\n",
       "    </tr>\n",
       "    <tr>\n",
       "      <th>5</th>\n",
       "      <td>10.691945</td>\n",
       "      <td>9.210340</td>\n",
       "      <td>7.532624</td>\n",
       "      <td>0</td>\n",
       "      <td>5</td>\n",
       "      <td>4</td>\n",
       "      <td>7.6009</td>\n",
       "      <td>57.773682</td>\n",
       "      <td>9.400961</td>\n",
       "      <td>1</td>\n",
       "      <td>48</td>\n",
       "      <td>2304.0</td>\n",
       "      <td>8.294050</td>\n",
       "    </tr>\n",
       "    <tr>\n",
       "      <th>6</th>\n",
       "      <td>10.736397</td>\n",
       "      <td>9.159047</td>\n",
       "      <td>7.484369</td>\n",
       "      <td>0</td>\n",
       "      <td>6</td>\n",
       "      <td>4</td>\n",
       "      <td>7.6009</td>\n",
       "      <td>57.773682</td>\n",
       "      <td>9.210340</td>\n",
       "      <td>3</td>\n",
       "      <td>78</td>\n",
       "      <td>6084.0</td>\n",
       "      <td>8.006368</td>\n",
       "    </tr>\n",
       "  </tbody>\n",
       "</table>\n",
       "</div>"
      ],
      "text/plain": [
       "      lprice     lland     larea y81 rooms nbh   linst    linstsq     ldist  \\\n",
       "1  11.002100  8.429017  7.414573   0     7   4  6.9078  47.717705  9.277999   \n",
       "2  10.596635  9.032409  7.867871   0     6   4  6.9078  47.717705  9.305651   \n",
       "3  10.434115  8.517193  7.042286   0     6   4  6.9078  47.717705  9.350102   \n",
       "4  11.065075  9.210340  7.035269   0     5   4  6.9078  47.717705  9.384294   \n",
       "5  10.691945  9.210340  7.532624   0     5   4  7.6009  57.773682  9.400961   \n",
       "6  10.736397  9.159047  7.484369   0     6   4  7.6009  57.773682  9.210340   \n",
       "\n",
       "   baths  age   agesq      lcbd  \n",
       "1      1   48  2304.0  8.006368  \n",
       "2      2   83  6889.0  8.294050  \n",
       "3      1   58  3364.0  8.294050  \n",
       "4      1   11   121.0  8.294050  \n",
       "5      1   48  2304.0  8.294050  \n",
       "6      3   78  6084.0  8.006368  "
      ]
     },
     "execution_count": 33,
     "metadata": {},
     "output_type": "execute_result"
    }
   ],
   "source": [
    "%R hprice3.copy$y81 <- factor(hprice3.copy$y81)\n",
    "%R hprice3.copy$rooms <- factor(hprice3.copy$rooms,ordered=TRUE)\n",
    "%R hprice3.copy$nbh <- factor(hprice3.copy$nbh,ordered=FALSE)\n",
    "%R head(hprice3.copy)"
   ]
  },
  {
   "cell_type": "markdown",
   "metadata": {
    "slideshow": {
     "slide_type": "skip"
    },
    "solution2": "hidden",
    "solution2_first": true
   },
   "source": [
    "4. Make ```y81==1``` and ```nbh==3``` the base categories in ```hprice3.copy```"
   ]
  },
  {
   "cell_type": "code",
   "execution_count": 34,
   "metadata": {
    "solution2": "hidden"
   },
   "outputs": [
    {
     "data": {
      "text/html": [
       "<div>\n",
       "<style scoped>\n",
       "    .dataframe tbody tr th:only-of-type {\n",
       "        vertical-align: middle;\n",
       "    }\n",
       "\n",
       "    .dataframe tbody tr th {\n",
       "        vertical-align: top;\n",
       "    }\n",
       "\n",
       "    .dataframe thead th {\n",
       "        text-align: right;\n",
       "    }\n",
       "</style>\n",
       "<table border=\"1\" class=\"dataframe\">\n",
       "  <thead>\n",
       "    <tr style=\"text-align: right;\">\n",
       "      <th></th>\n",
       "      <th>lprice</th>\n",
       "      <th>lland</th>\n",
       "      <th>larea</th>\n",
       "      <th>y81</th>\n",
       "      <th>rooms</th>\n",
       "      <th>nbh</th>\n",
       "      <th>linst</th>\n",
       "      <th>linstsq</th>\n",
       "      <th>ldist</th>\n",
       "      <th>baths</th>\n",
       "      <th>age</th>\n",
       "      <th>agesq</th>\n",
       "      <th>lcbd</th>\n",
       "    </tr>\n",
       "  </thead>\n",
       "  <tbody>\n",
       "    <tr>\n",
       "      <th>1</th>\n",
       "      <td>11.002100</td>\n",
       "      <td>8.429017</td>\n",
       "      <td>7.414573</td>\n",
       "      <td>0</td>\n",
       "      <td>7</td>\n",
       "      <td>4</td>\n",
       "      <td>6.9078</td>\n",
       "      <td>47.717705</td>\n",
       "      <td>9.277999</td>\n",
       "      <td>1</td>\n",
       "      <td>48</td>\n",
       "      <td>2304.0</td>\n",
       "      <td>8.006368</td>\n",
       "    </tr>\n",
       "    <tr>\n",
       "      <th>2</th>\n",
       "      <td>10.596635</td>\n",
       "      <td>9.032409</td>\n",
       "      <td>7.867871</td>\n",
       "      <td>0</td>\n",
       "      <td>6</td>\n",
       "      <td>4</td>\n",
       "      <td>6.9078</td>\n",
       "      <td>47.717705</td>\n",
       "      <td>9.305651</td>\n",
       "      <td>2</td>\n",
       "      <td>83</td>\n",
       "      <td>6889.0</td>\n",
       "      <td>8.294050</td>\n",
       "    </tr>\n",
       "    <tr>\n",
       "      <th>3</th>\n",
       "      <td>10.434115</td>\n",
       "      <td>8.517193</td>\n",
       "      <td>7.042286</td>\n",
       "      <td>0</td>\n",
       "      <td>6</td>\n",
       "      <td>4</td>\n",
       "      <td>6.9078</td>\n",
       "      <td>47.717705</td>\n",
       "      <td>9.350102</td>\n",
       "      <td>1</td>\n",
       "      <td>58</td>\n",
       "      <td>3364.0</td>\n",
       "      <td>8.294050</td>\n",
       "    </tr>\n",
       "    <tr>\n",
       "      <th>4</th>\n",
       "      <td>11.065075</td>\n",
       "      <td>9.210340</td>\n",
       "      <td>7.035269</td>\n",
       "      <td>0</td>\n",
       "      <td>5</td>\n",
       "      <td>4</td>\n",
       "      <td>6.9078</td>\n",
       "      <td>47.717705</td>\n",
       "      <td>9.384294</td>\n",
       "      <td>1</td>\n",
       "      <td>11</td>\n",
       "      <td>121.0</td>\n",
       "      <td>8.294050</td>\n",
       "    </tr>\n",
       "    <tr>\n",
       "      <th>5</th>\n",
       "      <td>10.691945</td>\n",
       "      <td>9.210340</td>\n",
       "      <td>7.532624</td>\n",
       "      <td>0</td>\n",
       "      <td>5</td>\n",
       "      <td>4</td>\n",
       "      <td>7.6009</td>\n",
       "      <td>57.773682</td>\n",
       "      <td>9.400961</td>\n",
       "      <td>1</td>\n",
       "      <td>48</td>\n",
       "      <td>2304.0</td>\n",
       "      <td>8.294050</td>\n",
       "    </tr>\n",
       "    <tr>\n",
       "      <th>...</th>\n",
       "      <td>...</td>\n",
       "      <td>...</td>\n",
       "      <td>...</td>\n",
       "      <td>...</td>\n",
       "      <td>...</td>\n",
       "      <td>...</td>\n",
       "      <td>...</td>\n",
       "      <td>...</td>\n",
       "      <td>...</td>\n",
       "      <td>...</td>\n",
       "      <td>...</td>\n",
       "      <td>...</td>\n",
       "      <td>...</td>\n",
       "    </tr>\n",
       "    <tr>\n",
       "      <th>317</th>\n",
       "      <td>11.002100</td>\n",
       "      <td>8.922658</td>\n",
       "      <td>7.235619</td>\n",
       "      <td>1</td>\n",
       "      <td>6</td>\n",
       "      <td>0</td>\n",
       "      <td>9.2103</td>\n",
       "      <td>84.829636</td>\n",
       "      <td>9.735069</td>\n",
       "      <td>1</td>\n",
       "      <td>25</td>\n",
       "      <td>625.0</td>\n",
       "      <td>9.210340</td>\n",
       "    </tr>\n",
       "    <tr>\n",
       "      <th>318</th>\n",
       "      <td>11.881035</td>\n",
       "      <td>10.795219</td>\n",
       "      <td>8.051978</td>\n",
       "      <td>1</td>\n",
       "      <td>7</td>\n",
       "      <td>6</td>\n",
       "      <td>10.1660</td>\n",
       "      <td>103.347565</td>\n",
       "      <td>10.126630</td>\n",
       "      <td>3</td>\n",
       "      <td>0</td>\n",
       "      <td>0.0</td>\n",
       "      <td>10.085809</td>\n",
       "    </tr>\n",
       "    <tr>\n",
       "      <th>319</th>\n",
       "      <td>11.482467</td>\n",
       "      <td>10.711458</td>\n",
       "      <td>7.167038</td>\n",
       "      <td>1</td>\n",
       "      <td>6</td>\n",
       "      <td>0</td>\n",
       "      <td>9.6158</td>\n",
       "      <td>92.463608</td>\n",
       "      <td>9.966462</td>\n",
       "      <td>2</td>\n",
       "      <td>20</td>\n",
       "      <td>400.0</td>\n",
       "      <td>9.615805</td>\n",
       "    </tr>\n",
       "    <tr>\n",
       "      <th>320</th>\n",
       "      <td>11.461632</td>\n",
       "      <td>10.696073</td>\n",
       "      <td>7.045776</td>\n",
       "      <td>1</td>\n",
       "      <td>5</td>\n",
       "      <td>0</td>\n",
       "      <td>9.6158</td>\n",
       "      <td>92.463608</td>\n",
       "      <td>9.928180</td>\n",
       "      <td>2</td>\n",
       "      <td>19</td>\n",
       "      <td>361.0</td>\n",
       "      <td>9.546813</td>\n",
       "    </tr>\n",
       "    <tr>\n",
       "      <th>321</th>\n",
       "      <td>12.226268</td>\n",
       "      <td>10.724698</td>\n",
       "      <td>7.723562</td>\n",
       "      <td>1</td>\n",
       "      <td>7</td>\n",
       "      <td>0</td>\n",
       "      <td>9.4727</td>\n",
       "      <td>89.732048</td>\n",
       "      <td>9.873028</td>\n",
       "      <td>3</td>\n",
       "      <td>0</td>\n",
       "      <td>0.0</td>\n",
       "      <td>9.472705</td>\n",
       "    </tr>\n",
       "  </tbody>\n",
       "</table>\n",
       "<p>321 rows × 13 columns</p>\n",
       "</div>"
      ],
      "text/plain": [
       "        lprice      lland     larea y81 rooms nbh    linst     linstsq  \\\n",
       "1    11.002100   8.429017  7.414573   0     7   4   6.9078   47.717705   \n",
       "2    10.596635   9.032409  7.867871   0     6   4   6.9078   47.717705   \n",
       "3    10.434115   8.517193  7.042286   0     6   4   6.9078   47.717705   \n",
       "4    11.065075   9.210340  7.035269   0     5   4   6.9078   47.717705   \n",
       "5    10.691945   9.210340  7.532624   0     5   4   7.6009   57.773682   \n",
       "..         ...        ...       ...  ..   ...  ..      ...         ...   \n",
       "317  11.002100   8.922658  7.235619   1     6   0   9.2103   84.829636   \n",
       "318  11.881035  10.795219  8.051978   1     7   6  10.1660  103.347565   \n",
       "319  11.482467  10.711458  7.167038   1     6   0   9.6158   92.463608   \n",
       "320  11.461632  10.696073  7.045776   1     5   0   9.6158   92.463608   \n",
       "321  12.226268  10.724698  7.723562   1     7   0   9.4727   89.732048   \n",
       "\n",
       "         ldist  baths  age   agesq       lcbd  \n",
       "1     9.277999      1   48  2304.0   8.006368  \n",
       "2     9.305651      2   83  6889.0   8.294050  \n",
       "3     9.350102      1   58  3364.0   8.294050  \n",
       "4     9.384294      1   11   121.0   8.294050  \n",
       "5     9.400961      1   48  2304.0   8.294050  \n",
       "..         ...    ...  ...     ...        ...  \n",
       "317   9.735069      1   25   625.0   9.210340  \n",
       "318  10.126630      3    0     0.0  10.085809  \n",
       "319   9.966462      2   20   400.0   9.615805  \n",
       "320   9.928180      2   19   361.0   9.546813  \n",
       "321   9.873028      3    0     0.0   9.472705  \n",
       "\n",
       "[321 rows x 13 columns]"
      ]
     },
     "execution_count": 34,
     "metadata": {},
     "output_type": "execute_result"
    }
   ],
   "source": [
    "%R hprice3.copy <- within(hprice3.copy, y81 <- relevel(y81,ref=2))\n",
    "%R hprice3.copy <- within(hprice3.copy, nbh <- relevel(nbh,ref=4))"
   ]
  },
  {
   "cell_type": "markdown",
   "metadata": {
    "slideshow": {
     "slide_type": "skip"
    },
    "solution2": "hidden",
    "solution2_first": true
   },
   "source": [
    "5. Run a regression of ```lprice``` on all the other features in the ```hprice3.copy``` and report the outcome."
   ]
  },
  {
   "cell_type": "code",
   "execution_count": 35,
   "metadata": {
    "solution2": "hidden"
   },
   "outputs": [
    {
     "data": {
      "text/plain": [
       "array([ 3.84787666e+00,  1.22178750e-01,  3.53527029e-01, -3.79015730e-01,\n",
       "        3.03878850e-01,  7.61890305e-02,  5.02041440e-02, -5.67797715e-02,\n",
       "        3.52380668e-02, -4.69159928e-02,  1.98881539e-01,  1.68342901e-01,\n",
       "        1.42045410e-01,  1.85328232e-01,  1.26963948e-01,  1.50614495e-01,\n",
       "        6.22789867e-01, -3.84262698e-02,  1.41697280e-01,  9.89640802e-02,\n",
       "       -6.85451709e-03,  2.74108596e-05, -3.09093781e-02])"
      ]
     },
     "execution_count": 35,
     "metadata": {},
     "output_type": "execute_result"
    }
   ],
   "source": [
    "%R ols.sim <- lm(lprice~.,data=hprice3.copy)\n",
    "%R coef(ols.sim)"
   ]
  },
  {
   "cell_type": "markdown",
   "metadata": {
    "slideshow": {
     "slide_type": "slide"
    }
   },
   "source": [
    "## Including [Interaction Terms](https://en.wikipedia.org/wiki/Interaction_(statistics) )"
   ]
  },
  {
   "cell_type": "markdown",
   "metadata": {
    "slideshow": {
     "slide_type": "fragment"
    }
   },
   "source": [
    "In the previously fitted model we included ```linstsq``` and ```agesq``` as predictors. These correspond to the squared of the original predictors ```linst``` and ```age```. In economics we include such predictors to account for increasing/decreasing returns to scale in modelling. Since $\\texttt{linst}^2=\\texttt{linst}\\times\\texttt{linst}$ and $\\texttt{age}^2=\\texttt{age}\\times\\texttt{age}$, one can think of them as a specific type of interaction terms (products with themselves)."
   ]
  },
  {
   "cell_type": "markdown",
   "metadata": {
    "slideshow": {
     "slide_type": "fragment"
    }
   },
   "source": [
    "<ins>Example</ins>: Consider the following version of the previously estimated model\n",
    "\n",
    "$$\n",
    "\\begin{aligned}\n",
    "\\texttt{lprice}&=\\beta_0+\\beta_1\\texttt{lland}+\\beta_2\\texttt{larea}+ \\beta_3\\texttt{linst}+\\beta_4\\texttt{age}\\\\\n",
    "               & + \\beta_5\\texttt{linst}\\times\\texttt{age}+\\beta_6\\texttt{linst}^2+\\beta_7\\texttt{age}^2+e\n",
    "\\end{aligned}\n",
    "$$"
   ]
  },
  {
   "cell_type": "code",
   "execution_count": 36,
   "metadata": {
    "slideshow": {
     "slide_type": "subslide"
    }
   },
   "outputs": [
    {
     "data": {
      "text/plain": [
       "array([ 2.25472e+00,  1.02120e-01,  6.38390e-01,  8.52790e-01,\n",
       "       -1.74100e-02,  7.40000e-04, -5.22600e-02,  4.00000e-05])"
      ]
     },
     "execution_count": 36,
     "metadata": {},
     "output_type": "execute_result"
    }
   ],
   "source": [
    "## OLS: estimating this new model\n",
    "%R ols.0 <- lm(lprice ~ lland + larea + linst + age + I(linst*age) + linstsq + agesq,data=hprice3)\n",
    "%R round(coef(ols.0),5)"
   ]
  },
  {
   "cell_type": "markdown",
   "metadata": {
    "slideshow": {
     "slide_type": "subslide"
    }
   },
   "source": [
    "By defining $\\mathbf{x}=[\\texttt{lland},\\texttt{larea},\\texttt{linst},\\texttt{age}]^\\prime$, and Assumption MLR.4, one has\n",
    "\n",
    "$$\n",
    "\\frac{\\partial E[\\texttt{lprice}|\\mathbf{x}]}{\\partial \\texttt{linst}}=\\beta_3+\\beta_5\\texttt{age}+2\\beta_6\\texttt{linst}.\n",
    "$$\n",
    "\n",
    "Then $\\beta_3$ represents the average price elasticty with respect to the distance from the highway for a home that is brand new ($\\texttt{age}=0$) and that is located 1 feet away from the highway ($\\texttt{linst}=\\log(\\texttt{inst})=0$, i.e., $\\texttt{inst}=1$)."
   ]
  },
  {
   "cell_type": "markdown",
   "metadata": {
    "slideshow": {
     "slide_type": "fragment"
    }
   },
   "source": [
    "💻 Calculating the summary statistics for variables ```age``` and ```inst``` in the data set."
   ]
  },
  {
   "cell_type": "code",
   "execution_count": 37,
   "metadata": {
    "slideshow": {
     "slide_type": "fragment"
    }
   },
   "outputs": [
    {
     "name": "stdout",
     "output_type": "stream",
     "text": [
      "      age              inst           linst       \n",
      " Min.   :  0.00   Min.   : 1000   Min.   : 6.908  \n",
      " 1st Qu.:  0.00   1st Qu.: 9000   1st Qu.: 9.105  \n",
      " Median :  4.00   Median :16000   Median : 9.680  \n",
      " Mean   : 18.01   Mean   :16442   Mean   : 9.481  \n",
      " 3rd Qu.: 22.00   3rd Qu.:24000   3rd Qu.:10.086  \n",
      " Max.   :189.00   Max.   :34000   Max.   :10.434  \n"
     ]
    },
    {
     "data": {
      "text/html": [
       "\n",
       "        <span>StrMatrix with 18 elements.</span>\n",
       "        <table>\n",
       "        <tbody>\n",
       "          <tr>\n",
       "          \n",
       "            <td>\n",
       "            'Min.   :...\n",
       "            </td>\n",
       "          \n",
       "            <td>\n",
       "            '1st Qu.:...\n",
       "            </td>\n",
       "          \n",
       "            <td>\n",
       "            'Median :...\n",
       "            </td>\n",
       "          \n",
       "            <td>\n",
       "            ...\n",
       "            </td>\n",
       "          \n",
       "            <td>\n",
       "            'Mean   :...\n",
       "            </td>\n",
       "          \n",
       "            <td>\n",
       "            '3rd Qu.:...\n",
       "            </td>\n",
       "          \n",
       "            <td>\n",
       "            'Max.   :...\n",
       "            </td>\n",
       "          \n",
       "          </tr>\n",
       "        </tbody>\n",
       "        </table>\n",
       "        "
      ],
      "text/plain": [
       "<rpy2.robjects.vectors.StrMatrix object at 0x00000276CD9B6740> [RTYPES.STRSXP]\n",
       "R classes: ('table',)\n",
       "['Min.   :..., '1st Qu.:..., 'Median :..., 'Mean   :..., ..., 'Median :..., 'Mean   :..., '3rd Qu.:..., 'Max.   :...]"
      ]
     },
     "execution_count": 37,
     "metadata": {},
     "output_type": "execute_result"
    }
   ],
   "source": [
    "## printing summary statistics for 'age' and 'inst'\n",
    "%R print(summary(subset(hprice3,select=c('age','inst','linst'))))"
   ]
  },
  {
   "cell_type": "markdown",
   "metadata": {
    "slideshow": {
     "slide_type": "subslide"
    }
   },
   "source": [
    "Now consider the following alternative specification\n",
    "\n",
    "$$\n",
    "\\begin{aligned}\n",
    "\\texttt{lprice}&=\\delta_0+\\beta_1\\texttt{lland}+\\beta_2\\texttt{larea}+ \\delta_3\\texttt{linst}+\\delta_4\\texttt{age}\\\\\n",
    "               & + \\beta_5[\\texttt{linst}-\\mu_{\\texttt{linst}}]\\times[\\texttt{age}-\\mu_{\\texttt{age}}]+\\beta_6[\\texttt{linst}-\\mu_{\\texttt{linst}}]^2+\\beta_7[\\texttt{age}-\\mu_{\\texttt{age}}]^2+e.\n",
    "\\end{aligned}\n",
    "$$\n",
    "\n",
    "In this case\n",
    "\n",
    "$$\n",
    "\\frac{\\partial E[\\texttt{lprice}|\\mathbf{x}]}{\\partial \\texttt{linst}}=\\delta_3+\\beta_5[\\texttt{age}-\\mu_{\\texttt{age}}]+2\\beta_6[\\texttt{linst}-\\mu_{\\texttt{linst}}].\n",
    "$$\n",
    "\n",
    "Then $\\delta_3$ represents the average price elasticty with respect to the distance from the highway for a home that is 18 years old ($\\widehat{\\mu}_{\\texttt{age}}\\approx 18.01$) and that is located 16,442 feet away from the highway ($\\widehat{\\mu}_{\\texttt{inst}}\\approx 16,442$)."
   ]
  },
  {
   "cell_type": "code",
   "execution_count": 38,
   "metadata": {
    "slideshow": {
     "slide_type": "subslide"
    }
   },
   "outputs": [
    {
     "data": {
      "text/html": [
       "<div>\n",
       "<style scoped>\n",
       "    .dataframe tbody tr th:only-of-type {\n",
       "        vertical-align: middle;\n",
       "    }\n",
       "\n",
       "    .dataframe tbody tr th {\n",
       "        vertical-align: top;\n",
       "    }\n",
       "\n",
       "    .dataframe thead th {\n",
       "        text-align: right;\n",
       "    }\n",
       "</style>\n",
       "<table border=\"1\" class=\"dataframe\">\n",
       "  <thead>\n",
       "    <tr style=\"text-align: right;\">\n",
       "      <th></th>\n",
       "      <th>ols.0</th>\n",
       "      <th>ols.1</th>\n",
       "    </tr>\n",
       "  </thead>\n",
       "  <tbody>\n",
       "    <tr>\n",
       "      <th>(Intercept)</th>\n",
       "      <td>2.25472</td>\n",
       "      <td>7.03626</td>\n",
       "    </tr>\n",
       "    <tr>\n",
       "      <th>lland</th>\n",
       "      <td>0.10212</td>\n",
       "      <td>0.10212</td>\n",
       "    </tr>\n",
       "    <tr>\n",
       "      <th>larea</th>\n",
       "      <td>0.63839</td>\n",
       "      <td>0.63839</td>\n",
       "    </tr>\n",
       "    <tr>\n",
       "      <th>linst</th>\n",
       "      <td>0.85279</td>\n",
       "      <td>-0.14856</td>\n",
       "    </tr>\n",
       "    <tr>\n",
       "      <th>age</th>\n",
       "      <td>-0.01741</td>\n",
       "      <td>-0.00865</td>\n",
       "    </tr>\n",
       "    <tr>\n",
       "      <th>I(linst * age)</th>\n",
       "      <td>0.00074</td>\n",
       "      <td>0.00074</td>\n",
       "    </tr>\n",
       "    <tr>\n",
       "      <th>linstsq</th>\n",
       "      <td>-0.05226</td>\n",
       "      <td>-0.05226</td>\n",
       "    </tr>\n",
       "    <tr>\n",
       "      <th>agesq</th>\n",
       "      <td>0.00004</td>\n",
       "      <td>0.00004</td>\n",
       "    </tr>\n",
       "  </tbody>\n",
       "</table>\n",
       "</div>"
      ],
      "text/plain": [
       "                  ols.0    ols.1\n",
       "(Intercept)     2.25472  7.03626\n",
       "lland           0.10212  0.10212\n",
       "larea           0.63839  0.63839\n",
       "linst           0.85279 -0.14856\n",
       "age            -0.01741 -0.00865\n",
       "I(linst * age)  0.00074  0.00074\n",
       "linstsq        -0.05226 -0.05226\n",
       "agesq           0.00004  0.00004"
      ]
     },
     "execution_count": 38,
     "metadata": {},
     "output_type": "execute_result"
    }
   ],
   "source": [
    "## OLS: estimating this new 'version' model\n",
    "%R ols.1 <- lm(lprice ~ lland + larea + linst + age + I((linst-log(mean(inst)))*(age-mean(age))) + I((linst-log(mean(inst)))^2) + I((age-mean(age))^2),data=hprice3)\n",
    "\n",
    "## printing ols results up to 5 decimals\n",
    "%R round(data.frame(ols.0=coef(ols.0),ols.1=coef(ols.1)),5)"
   ]
  },
  {
   "cell_type": "markdown",
   "metadata": {
    "slideshow": {
     "slide_type": "fragment"
    }
   },
   "source": [
    "⁉️ Is it a coincidence that some of the estimates are the same in both specifications? provide an algebraic explanation."
   ]
  },
  {
   "cell_type": "markdown",
   "metadata": {
    "slideshow": {
     "slide_type": "slide"
    }
   },
   "source": [
    "## Beta Coefficients"
   ]
  },
  {
   "cell_type": "markdown",
   "metadata": {
    "slideshow": {
     "slide_type": "subslide"
    }
   },
   "source": [
    "Why is standardization useful? It is easiest to start with the original OLS equation, with the variables in their original forms:\n",
    "\n",
    "$$\n",
    "y_{i}=\\widehat{\\beta}_{0}+\\widehat{\\beta}_{1} x_{i 1}+\\widehat{\\beta}_{2} x_{i 2}+\\ldots+\\widehat{\\beta}_{k} x_{i k}+\\hat{e}_{i}.\n",
    "$$\n",
    "\n",
    "We have included the observation subscript i to emphasize that our standardization is applied to all sample values. If we average the previous equation and use the fact that $\\{\\widehat{e}_i:i=1,\\ldots,n\\}$ has sample mean zero one has\n",
    "\n",
    "$$\n",
    "y_{i}-\\overline{y}=\\widehat{\\beta}_{1}\\left(x_{i 1}-\\overline{x}_{1}\\right)+\\widehat{\\beta}_{2}\\left(x_{i 2}-\\overline{x}_{2}\\right)+\\ldots+\\widehat{\\beta}_{k}\\left(x_{i k}-\\overline{x}_{k}\\right)+\\widehat{e}_{i}.\n",
    "$$"
   ]
  },
  {
   "cell_type": "markdown",
   "metadata": {
    "slideshow": {
     "slide_type": "subslide"
    }
   },
   "source": [
    "Now, let $\\widehat{\\sigma}_{y}$ be the sample standard deviation for the dependent variable, let $\\widehat{\\sigma}_{1}$ be the sample sd for $x_{1}$, let $\\widehat{\\sigma}_{2}$ be the sample standard deviation, ```sd()```, for $x_{2}$, and so on. Then, simple algebra gives the equation\n",
    "\n",
    "$$\n",
    "\\begin{aligned}\n",
    "\\left(y_{i}-\\overline{y}\\right) / \\widehat{\\sigma}_{y} &=\\left(\\widehat{\\sigma}_{1} / \\widehat{\\sigma}_{y}\\right) \\widehat{\\beta}_{1}\\left[\\left(x_{i 1}-\\overline{x}_{1}\\right) / \\widehat{\\sigma}_{1}\\right]+\\ldots \\\\ &+\\left(\\widehat{\\sigma}_{k} / \\widehat{\\sigma}_{y}\\right) \\widehat{\\beta}_{k}\\left[\\left(x_{i k}-\\overline{x}_{k}\\right) / \\widehat{\\sigma}_{k}\\right]+\\left(\\widehat{e}_{i} / \\widehat{\\sigma}_{y}\\right).\n",
    "\\end{aligned}\n",
    "$$\n",
    "\n",
    "Now define $z_{i y}=\\left(y_{i}-\\overline{y}\\right) / \\widehat{\\sigma}_{y}$, $z_{i l}=\\left[\\left(x_{i l}-\\overline{x}_{l}\\right) / \\widehat{\\sigma}_{l}\\right]$, $\\widehat{b}_{l}=\\left(\\widehat{\\sigma}_{l} / \\widehat{\\sigma}_{y}\\right) \\widehat{\\beta}_{l}$ for $l=1,\\ldots,k$, and $\\widehat{\\varepsilon}_i=\\left(\\widehat{e}_{i} / \\widehat{\\sigma}_{y}\\right)$. Then\n",
    "\n",
    "$$\n",
    "z_{y}=\\widehat{b}_{1} z_{1}+\\widehat{b}_{2} z_{2}+\\ldots+\\widehat{b}_{k} z_{k}+\\widehat{\\varepsilon}_i.\n",
    "$$\n",
    "\n",
    "The new coefficients are\n",
    "\n",
    "$$\n",
    "\\widehat{b}_{j}=\\left(\\widehat{\\sigma}_{j} / \\widehat{\\sigma}_{y}\\right) \\widehat{\\beta}_{j} \\text { for } j=1, \\ldots, k.\n",
    "$$\n",
    "\n",
    "These $\\widehat{b}_{j}$ are traditionally called **standardized coefficients** or **beta coefficients**.\n",
    "\n",
    "✍🏽 If $x_l$ increases by one standard deviation, then $\\widehat{y}$ changes by $\\widehat{b}_l$ standard deviations. Thus, *we are measuring effects not in terms of the original units of $y$ or the $x_l$, but in standard deviation units*."
   ]
  },
  {
   "cell_type": "code",
   "execution_count": 39,
   "metadata": {
    "slideshow": {
     "slide_type": "subslide"
    }
   },
   "outputs": [
    {
     "data": {
      "text/html": [
       "\n",
       "        <span>ListVector with 13 elements.</span>\n",
       "        <table>\n",
       "        <tbody>\n",
       "        \n",
       "          <tr>\n",
       "            <th>\n",
       "            coefficients\n",
       "            </th>\n",
       "            <td>\n",
       "            \n",
       "        <span>FloatVector with 8 elements.</span>\n",
       "        <table>\n",
       "        <tbody>\n",
       "          <tr>\n",
       "          \n",
       "            <td>\n",
       "            7.036262\n",
       "            </td>\n",
       "          \n",
       "            <td>\n",
       "            0.102120\n",
       "            </td>\n",
       "          \n",
       "            <td>\n",
       "            0.638386\n",
       "            </td>\n",
       "          \n",
       "            <td>\n",
       "            ...\n",
       "            </td>\n",
       "          \n",
       "            <td>\n",
       "            0.000740\n",
       "            </td>\n",
       "          \n",
       "            <td>\n",
       "            -0.052262\n",
       "            </td>\n",
       "          \n",
       "            <td>\n",
       "            0.000044\n",
       "            </td>\n",
       "          \n",
       "          </tr>\n",
       "        </tbody>\n",
       "        </table>\n",
       "        \n",
       "            </td>\n",
       "          </tr>\n",
       "        \n",
       "          <tr>\n",
       "            <th>\n",
       "            residuals\n",
       "            </th>\n",
       "            <td>\n",
       "            \n",
       "        <span>FloatVector with 321 elements.</span>\n",
       "        <table>\n",
       "        <tbody>\n",
       "          <tr>\n",
       "          \n",
       "            <td>\n",
       "            0.245695\n",
       "            </td>\n",
       "          \n",
       "            <td>\n",
       "            -0.280823\n",
       "            </td>\n",
       "          \n",
       "            <td>\n",
       "            -0.017002\n",
       "            </td>\n",
       "          \n",
       "            <td>\n",
       "            ...\n",
       "            </td>\n",
       "          \n",
       "            <td>\n",
       "            0.378994\n",
       "            </td>\n",
       "          \n",
       "            <td>\n",
       "            0.428553\n",
       "            </td>\n",
       "          \n",
       "            <td>\n",
       "            0.557044\n",
       "            </td>\n",
       "          \n",
       "          </tr>\n",
       "        </tbody>\n",
       "        </table>\n",
       "        \n",
       "            </td>\n",
       "          </tr>\n",
       "        \n",
       "          <tr>\n",
       "            <th>\n",
       "            effects\n",
       "            </th>\n",
       "            <td>\n",
       "            \n",
       "        <span>FloatVector with 321 elements.</span>\n",
       "        <table>\n",
       "        <tbody>\n",
       "          <tr>\n",
       "          \n",
       "            <td>\n",
       "            -203.855741\n",
       "            </td>\n",
       "          \n",
       "            <td>\n",
       "            3.734756\n",
       "            </td>\n",
       "          \n",
       "            <td>\n",
       "            4.006019\n",
       "            </td>\n",
       "          \n",
       "            <td>\n",
       "            ...\n",
       "            </td>\n",
       "          \n",
       "            <td>\n",
       "            0.340165\n",
       "            </td>\n",
       "          \n",
       "            <td>\n",
       "            0.388358\n",
       "            </td>\n",
       "          \n",
       "            <td>\n",
       "            0.504099\n",
       "            </td>\n",
       "          \n",
       "          </tr>\n",
       "        </tbody>\n",
       "        </table>\n",
       "        \n",
       "            </td>\n",
       "          </tr>\n",
       "        \n",
       "          <tr>\n",
       "            <th>\n",
       "            ...\n",
       "            </th>\n",
       "            <td>\n",
       "            ...\n",
       "            </td>\n",
       "          </tr>\n",
       "        \n",
       "          <tr>\n",
       "            <th>\n",
       "            terms\n",
       "            </th>\n",
       "            <td>\n",
       "            lprice ~ lland + larea + linst + age + I((linst - log(mean(inst))) * \n",
       "    (age - mean(age))) + I((linst - log(mean(inst)))^2) + I((age - \n",
       "    mean(age))^2)\n",
       "attr(,\"variables\")\n",
       "list(lprice, lland, larea, linst, age, I((linst - log(mean(inst))) * \n",
       "    (age - mean(age))), I((linst - log(mean(inst)))^2), I((age - \n",
       "    mean(age))^2))\n",
       "attr(,\"factors\")\n",
       "                                                 lland larea linst age\n",
       "lprice                                               0     0     0   0\n",
       "lland                                                1     0     0   0\n",
       "larea                                                0     1     0   0\n",
       "linst                                                0     0     1   0\n",
       "age                                                  0     0     0   1\n",
       "I((linst - log(mean(inst))) * (age - mean(age)))     0     0     0   0\n",
       "I((linst - log(mean(inst)))^2)                       0     0     0   0\n",
       "I((age - mean(age))^2)                               0     0     0   0\n",
       "                                                 I((linst - log(mean(inst))) * (age - mean(age)))\n",
       "lprice                                                                                          0\n",
       "lland                                                                                           0\n",
       "larea                                                                                           0\n",
       "linst                                                                                           0\n",
       "age                                                                                             0\n",
       "I((linst - log(mean(inst))) * (age - mean(age)))                                                1\n",
       "I((linst - log(mean(inst)))^2)                                                                  0\n",
       "I((age - mean(age))^2)                                                                          0\n",
       "                                                 I((linst - log(mean(inst)))^2)\n",
       "lprice                                                                        0\n",
       "lland                                                                         0\n",
       "larea                                                                         0\n",
       "linst                                                                         0\n",
       "age                                                                           0\n",
       "I((linst - log(mean(inst))) * (age - mean(age)))                              0\n",
       "I((linst - log(mean(inst)))^2)                                                1\n",
       "I((age - mean(age))^2)                                                        0\n",
       "                                                 I((age - mean(age))^2)\n",
       "lprice                                                                0\n",
       "lland                                                                 0\n",
       "larea                                                                 0\n",
       "linst                                                                 0\n",
       "age                                                                   0\n",
       "I((linst - log(mean(inst))) * (age - mean(age)))                      0\n",
       "I((linst - log(mean(inst)))^2)                                        0\n",
       "I((age - mean(age))^2)                                                1\n",
       "attr(,\"term.labels\")\n",
       "[1] \"lland\"                                           \n",
       "[2] \"larea\"                                           \n",
       "[3] \"linst\"                                           \n",
       "[4] \"age\"                                             \n",
       "[5] \"I((linst - log(mean(inst))) * (age - mean(age)))\"\n",
       "[6] \"I((linst - log(mean(inst)))^2)\"                  \n",
       "[7] \"I((age - mean(age))^2)\"                          \n",
       "attr(,\"order\")\n",
       "[1] 1 1 1 1 1 1 1\n",
       "attr(,\"intercept\")\n",
       "[1] 1\n",
       "attr(,\"response\")\n",
       "[1] 1\n",
       "attr(,\".Environment\")\n",
       "<environment: R_GlobalEnv>\n",
       "attr(,\"predvars\")\n",
       "list(lprice, lland, larea, linst, age, I((linst - log(mean(inst))) * \n",
       "    (age - mean(age))), I((linst - log(mean(inst)))^2), I((age - \n",
       "    mean(age))^2))\n",
       "attr(,\"dataClasses\")\n",
       "                                          lprice \n",
       "                                       \"numeric\" \n",
       "                                           lland \n",
       "                                       \"numeric\" \n",
       "                                           larea \n",
       "                                       \"numeric\" \n",
       "                                           linst \n",
       "                                       \"numeric\" \n",
       "                                             age \n",
       "                                       \"numeric\" \n",
       "I((linst - log(mean(inst))) * (age - mean(age))) \n",
       "                                       \"numeric\" \n",
       "                  I((linst - log(mean(inst)))^2) \n",
       "                                       \"numeric\" \n",
       "                          I((age - mean(age))^2) \n",
       "                                       \"numeric\" \n",
       "\n",
       "            </td>\n",
       "          </tr>\n",
       "        \n",
       "          <tr>\n",
       "            <th>\n",
       "            model\n",
       "            </th>\n",
       "            <td>\n",
       "            \n",
       "        <span>R/rpy2 DataFrame (321 x 8)</span>\n",
       "        <table>\n",
       "          <thead>\n",
       "            <tr>\n",
       "              \n",
       "              <th>lprice</th>\n",
       "              \n",
       "              <th>lland</th>\n",
       "              \n",
       "              <th>larea</th>\n",
       "              \n",
       "              <th>...</th>\n",
       "              \n",
       "              <th>I((linst - log(mean(inst))) * (age - mean(age)))</th>\n",
       "              \n",
       "              <th>I((linst - log(mean(inst)))^2)</th>\n",
       "              \n",
       "              <th>I((age - mean(age))^2)</th>\n",
       "              \n",
       "            </tr>\n",
       "          </thead>\n",
       "          <tbody>\n",
       "          \n",
       "          <tr>\n",
       "            \n",
       "            <td>\n",
       "              11.002100\n",
       "            </td>\n",
       "            \n",
       "            <td>\n",
       "              8.429017\n",
       "            </td>\n",
       "            \n",
       "            <td>\n",
       "              7.414573\n",
       "            </td>\n",
       "            \n",
       "            <td>\n",
       "              ...\n",
       "            </td>\n",
       "            \n",
       "            <td>\n",
       "              -83.968328\n",
       "            </td>\n",
       "            \n",
       "            <td>\n",
       "              7.838972\n",
       "            </td>\n",
       "            \n",
       "            <td>\n",
       "              899.439340\n",
       "            </td>\n",
       "            \n",
       "          </tr>\n",
       "          \n",
       "          <tr>\n",
       "            \n",
       "            <td>\n",
       "              10.596635\n",
       "            </td>\n",
       "            \n",
       "            <td>\n",
       "              9.032409\n",
       "            </td>\n",
       "            \n",
       "            <td>\n",
       "              7.867871\n",
       "            </td>\n",
       "            \n",
       "            <td>\n",
       "              \n",
       "            </td>\n",
       "            \n",
       "            <td>\n",
       "              -181.961904\n",
       "            </td>\n",
       "            \n",
       "            <td>\n",
       "              7.838972\n",
       "            </td>\n",
       "            \n",
       "            <td>\n",
       "              4223.785134\n",
       "            </td>\n",
       "            \n",
       "          </tr>\n",
       "          \n",
       "          <tr>\n",
       "            \n",
       "            <td>\n",
       "              10.434115\n",
       "            </td>\n",
       "            \n",
       "            <td>\n",
       "              8.517193\n",
       "            </td>\n",
       "            \n",
       "            <td>\n",
       "              7.042286\n",
       "            </td>\n",
       "            \n",
       "            <td>\n",
       "              \n",
       "            </td>\n",
       "            \n",
       "            <td>\n",
       "              -111.966493\n",
       "            </td>\n",
       "            \n",
       "            <td>\n",
       "              7.838972\n",
       "            </td>\n",
       "            \n",
       "            <td>\n",
       "              1599.252424\n",
       "            </td>\n",
       "            \n",
       "          </tr>\n",
       "          \n",
       "          <tr>\n",
       "            \n",
       "            <td>\n",
       "              11.065075\n",
       "            </td>\n",
       "            \n",
       "            <td>\n",
       "              9.210340\n",
       "            </td>\n",
       "            \n",
       "            <td>\n",
       "              7.035269\n",
       "            </td>\n",
       "            \n",
       "            <td>\n",
       "              \n",
       "            </td>\n",
       "            \n",
       "            <td>\n",
       "              19.624882\n",
       "            </td>\n",
       "            \n",
       "            <td>\n",
       "              7.838972\n",
       "            </td>\n",
       "            \n",
       "            <td>\n",
       "              49.130928\n",
       "            </td>\n",
       "            \n",
       "          </tr>\n",
       "          \n",
       "          <tr>\n",
       "            \n",
       "            <td>\n",
       "              ...\n",
       "            </td>\n",
       "            \n",
       "            <td>\n",
       "              ...\n",
       "            </td>\n",
       "            \n",
       "            <td>\n",
       "              ...\n",
       "            </td>\n",
       "            \n",
       "            <td>\n",
       "              \n",
       "            </td>\n",
       "            \n",
       "            <td>\n",
       "              ...\n",
       "            </td>\n",
       "            \n",
       "            <td>\n",
       "              ...\n",
       "            </td>\n",
       "            \n",
       "            <td>\n",
       "              ...\n",
       "            </td>\n",
       "            \n",
       "          </tr>\n",
       "          \n",
       "          <tr>\n",
       "            \n",
       "            <td>\n",
       "              11.881035\n",
       "            </td>\n",
       "            \n",
       "            <td>\n",
       "              10.795219\n",
       "            </td>\n",
       "            \n",
       "            <td>\n",
       "              8.051978\n",
       "            </td>\n",
       "            \n",
       "            <td>\n",
       "              \n",
       "            </td>\n",
       "            \n",
       "            <td>\n",
       "              -8.255190\n",
       "            </td>\n",
       "            \n",
       "            <td>\n",
       "              0.210116\n",
       "            </td>\n",
       "            \n",
       "            <td>\n",
       "              324.336536\n",
       "            </td>\n",
       "            \n",
       "          </tr>\n",
       "          \n",
       "          <tr>\n",
       "            \n",
       "            <td>\n",
       "              11.482467\n",
       "            </td>\n",
       "            \n",
       "            <td>\n",
       "              10.711458\n",
       "            </td>\n",
       "            \n",
       "            <td>\n",
       "              7.167038\n",
       "            </td>\n",
       "            \n",
       "            <td>\n",
       "              \n",
       "            </td>\n",
       "            \n",
       "            <td>\n",
       "              -0.182775\n",
       "            </td>\n",
       "            \n",
       "            <td>\n",
       "              0.008430\n",
       "            </td>\n",
       "            \n",
       "            <td>\n",
       "              3.962704\n",
       "            </td>\n",
       "            \n",
       "          </tr>\n",
       "          \n",
       "          <tr>\n",
       "            \n",
       "            <td>\n",
       "              11.461632\n",
       "            </td>\n",
       "            \n",
       "            <td>\n",
       "              10.696073\n",
       "            </td>\n",
       "            \n",
       "            <td>\n",
       "              7.045776\n",
       "            </td>\n",
       "            \n",
       "            <td>\n",
       "              \n",
       "            </td>\n",
       "            \n",
       "            <td>\n",
       "              -0.090959\n",
       "            </td>\n",
       "            \n",
       "            <td>\n",
       "              0.008430\n",
       "            </td>\n",
       "            \n",
       "            <td>\n",
       "              0.981396\n",
       "            </td>\n",
       "            \n",
       "          </tr>\n",
       "          \n",
       "          <tr>\n",
       "            \n",
       "            <td>\n",
       "              12.226268\n",
       "            </td>\n",
       "            \n",
       "            <td>\n",
       "              10.724698\n",
       "            </td>\n",
       "            \n",
       "            <td>\n",
       "              7.723562\n",
       "            </td>\n",
       "            \n",
       "            <td>\n",
       "              \n",
       "            </td>\n",
       "            \n",
       "            <td>\n",
       "              4.230693\n",
       "            </td>\n",
       "            \n",
       "            <td>\n",
       "              0.055186\n",
       "            </td>\n",
       "            \n",
       "            <td>\n",
       "              324.336536\n",
       "            </td>\n",
       "            \n",
       "          </tr>\n",
       "          \n",
       "          </tbody>\n",
       "        </table>\n",
       "    \n",
       "            </td>\n",
       "          </tr>\n",
       "        \n",
       "          <tr>\n",
       "            <th>\n",
       "            standardized.coefficients\n",
       "            </th>\n",
       "            <td>\n",
       "            \n",
       "        <span>FloatVector with 8 elements.</span>\n",
       "        <table>\n",
       "        <tbody>\n",
       "          <tr>\n",
       "          \n",
       "            <td>\n",
       "            0.000000\n",
       "            </td>\n",
       "          \n",
       "            <td>\n",
       "            0.186854\n",
       "            </td>\n",
       "          \n",
       "            <td>\n",
       "            0.496406\n",
       "            </td>\n",
       "          \n",
       "            <td>\n",
       "            ...\n",
       "            </td>\n",
       "          \n",
       "            <td>\n",
       "            0.050010\n",
       "            </td>\n",
       "          \n",
       "            <td>\n",
       "            -0.154218\n",
       "            </td>\n",
       "          \n",
       "            <td>\n",
       "            0.374905\n",
       "            </td>\n",
       "          \n",
       "          </tr>\n",
       "        </tbody>\n",
       "        </table>\n",
       "        \n",
       "            </td>\n",
       "          </tr>\n",
       "        \n",
       "        </tbody>\n",
       "        </table>\n",
       "        "
      ],
      "text/plain": [
       "<rpy2.robjects.vectors.ListVector object at 0x00000276CDA31C40> [RTYPES.VECSXP]\n",
       "R classes: ('lm.beta', 'lm')\n",
       "[FloatSexp..., FloatSexp..., FloatSexp..., IntSexpVe..., ..., LangSexpV..., LangSexpV..., ListSexpV..., FloatSexp...]\n",
       "  coefficients: <class 'rpy2.robjects.vectors.FloatVector'>\n",
       "  <rpy2.robjects.vectors.FloatVector object at 0x00000276D33B94C0> [RTYPES.REALSXP]\n",
       "R classes: ('numeric',)\n",
       "[7.036262, 0.102120, 0.638386, -0.148562, -0.008652, 0.000740, -0.052262, 0.000044]\n",
       "  residuals: <class 'rpy2.robjects.vectors.FloatVector'>\n",
       "  <rpy2.robjects.vectors.FloatVector object at 0x00000276D33BA540> [RTYPES.REALSXP]\n",
       "R classes: ('numeric',)\n",
       "[0.245695, -0.280823, -0.017002, 0.111457, ..., 0.115285, 0.378994, 0.428553, 0.557044]\n",
       "  effects: <class 'rpy2.robjects.vectors.FloatVector'>\n",
       "  <rpy2.robjects.vectors.FloatVector object at 0x00000276D33BA8C0> [RTYPES.REALSXP]\n",
       "R classes: ('numeric',)\n",
       "[-203.855741, 3.734756, 4.006019, 0.565441, ..., 0.102245, 0.340165, 0.388358, 0.504099]\n",
       "  rank: <class 'rpy2.robjects.vectors.IntVector'>\n",
       "  <rpy2.robjects.vectors.IntVector object at 0x00000276D33BABC0> [RTYPES.INTSXP]\n",
       "R classes: ('integer',)\n",
       "[8]\n",
       "...\n",
       "  assign: <class 'rpy2.robjects.language.LangVector'>\n",
       "  Rlang( lm(formula = lprice ~ lland + larea + linst + age + I((linst -  )\n",
       "  qr: <class 'rpy2.robjects.Formula'>\n",
       "  <rpy2.robjects.Formula object at 0x00000276D33BAF40> [RTYPES.LANGSXP]\n",
       "R classes: ('terms', 'formula')\n",
       "<rpy2.robjects.vectors.ListVector object at 0x00000276CDA31C40> [RTYPES.VECSXP]\n",
       "R classes: ('lm.beta', 'lm')\n",
       "[FloatSexp..., FloatSexp..., FloatSexp..., IntSexpVe..., ..., LangSexpV..., LangSexpV..., ListSexpV..., FloatSexp...]\n",
       "  xlevels: <class 'rpy2.robjects.vectors.FloatVector'>\n",
       "  <rpy2.robjects.vectors.FloatVector object at 0x00000276D33BB300> [RTYPES.REALSXP]\n",
       "R classes: ('numeric',)\n",
       "[0.000000, 0.186854, 0.496406, -0.263496, -0.643005, 0.050010, -0.154218, 0.374905]"
      ]
     },
     "execution_count": 39,
     "metadata": {},
     "output_type": "execute_result"
    }
   ],
   "source": [
    "## installing the 'lm.beta' package if not previously installed\n",
    "%R if (!require(lm.beta)) install.packages('lm.beta')\n",
    "\n",
    "%R lm.beta(ols.1)"
   ]
  },
  {
   "cell_type": "markdown",
   "metadata": {
    "slideshow": {
     "slide_type": "subslide"
    }
   },
   "source": [
    "💻 Since each $x_l$ have been standardized, comparing the _magnitudes_ of the resulting beta coefficients is now useful. The ```age``` of the house seems to have the largest effect on the price of a home."
   ]
  },
  {
   "cell_type": "markdown",
   "metadata": {
    "slideshow": {
     "slide_type": "fragment"
    }
   },
   "source": [
    "<ins>Pre-Processing in Machine Learning</ins>: In machine learning, standardizing (*re-centering* and *scaling*) predictors is commonly done before model fitting. No transformation is usually done to the outcome variable."
   ]
  },
  {
   "cell_type": "code",
   "execution_count": 40,
   "metadata": {
    "slideshow": {
     "slide_type": "fragment"
    }
   },
   "outputs": [
    {
     "data": {
      "text/plain": [
       "array([11.37811794,  0.0818747 ,  0.21751254, -0.11545734, -0.28174834,\n",
       "        0.02191305, -0.06757452,  0.16427378])"
      ]
     },
     "execution_count": 40,
     "metadata": {},
     "output_type": "execute_result"
    }
   ],
   "source": [
    "%R X1 <- model.matrix(ols.1)[,-1]\n",
    "%R datos <- cbind(data.frame(lprice=hprice3$lprice),as.data.frame(X1))\n",
    "\n",
    "## installing the 'caret' package if not previously installed\n",
    "%R if (!require(caret)) install.packages('caret')\n",
    "\n",
    "%R modelo <- train(lprice ~ .,data = datos,method = 'lm',preProcess = c('scale', 'center'))\n",
    "\n",
    "%R coef(modelo$finalModel)"
   ]
  },
  {
   "cell_type": "code",
   "execution_count": null,
   "metadata": {},
   "outputs": [],
   "source": []
  }
 ],
 "metadata": {
  "hide_input": false,
  "kernelspec": {
   "display_name": "Python 3",
   "language": "python",
   "name": "python3"
  },
  "language_info": {
   "codemirror_mode": {
    "name": "ipython",
    "version": 3
   },
   "file_extension": ".py",
   "mimetype": "text/x-python",
   "name": "python",
   "nbconvert_exporter": "python",
   "pygments_lexer": "ipython3",
   "version": "3.8.5"
  },
  "latex_envs": {
   "LaTeX_envs_menu_present": true,
   "autoclose": false,
   "autocomplete": true,
   "bibliofile": "biblio.bib",
   "cite_by": "apalike",
   "current_citInitial": 1,
   "eqLabelWithNumbers": true,
   "eqNumInitial": 1,
   "hotkeys": {
    "equation": "Ctrl-E",
    "itemize": "Ctrl-I"
   },
   "labels_anchors": false,
   "latex_user_defs": false,
   "report_style_numbering": false,
   "user_envs_cfg": false
  }
 },
 "nbformat": 4,
 "nbformat_minor": 4
}
