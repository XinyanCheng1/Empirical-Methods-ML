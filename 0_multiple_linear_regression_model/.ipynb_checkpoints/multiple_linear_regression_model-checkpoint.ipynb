{
 "cells": [
  {
   "cell_type": "markdown",
   "metadata": {
    "slideshow": {
     "slide_type": "slide"
    }
   },
   "source": [
    "# _Multiple_ Linear Regression (MLR) Model"
   ]
  },
  {
   "cell_type": "markdown",
   "metadata": {
    "slideshow": {
     "slide_type": "subslide"
    }
   },
   "source": [
    "## The Model"
   ]
  },
  {
   "cell_type": "markdown",
   "metadata": {
    "slideshow": {
     "slide_type": "fragment"
    }
   },
   "source": [
    "In the population we have <ins>scalar</ins> random variables, $[Y,X_1,\\ldots,X_{k},e]$, that fulfill the following relationship\n",
    "\n",
    "$$\n",
    "Y=\\beta_0+\\beta_1 X_1+\\ldots+\\beta_k X_k+e\\text{,}\n",
    "$$\n",
    "\n",
    "where $E[e|X_1,\\ldots,X_{k}]=0$, there are no exact linear relationships among the set of regressors (covariates, confounders, independent variables, predictors, etc.) $[X_1,\\ldots,X_{k}]$, and var$(e|X_1,\\ldots,X_{k})<+\\infty$. The scalar random variable, $Y$, is called the outcome, or the dependent variable.\n",
    "\n",
    "\n",
    "\n",
    "<p style='text-align: right;'> <a href=\"https://en.wikipedia.org/wiki/Conditional_expectation\" style=\"color: #cc0000\">Conditional Expectation</a></p>\n",
    "\n",
    "<p style='text-align: right;'> <a href=\"https://en.wikipedia.org/wiki/Conditional_variance\" style=\"color: #cc0000\">Conditional Variance</a></p>\n"
   ]
  },
  {
   "cell_type": "markdown",
   "metadata": {
    "slideshow": {
     "slide_type": "subslide"
    }
   },
   "source": [
    "## The Data"
   ]
  },
  {
   "cell_type": "markdown",
   "metadata": {
    "slideshow": {
     "slide_type": "fragment"
    }
   },
   "source": [
    "We observe a _random sample_ of $n$ observations taken from $[Y,X_1,\\ldots,X_{k},e]$, i.e., $\\{(y_i,x_{i,1},\\ldots,x_{i,k}):i=1,\\ldots,n\\}$. Therefore one has\n",
    "\n",
    "$$\n",
    "\\begin{array}\n",
    "[c]{c}\n",
    "y_{1}=\\beta_{0}+\\beta_{1}x_{1,1}+\\cdots+\\beta_{k}x_{1,k}+e_{1}\\\\\n",
    "y_{2}=\\beta_{0}+\\beta_{1}x_{2,1}+\\cdots+\\beta_{k}x_{2,k}+e_{2}\\\\\n",
    "y_{3}=\\beta_{0}+\\beta_{1}x_{3,1}+\\cdots+\\beta_{k}x_{3,k}+e_{3}\\\\\n",
    "\\vdots\\\\\n",
    "y_{n}=\\beta_{0}+\\beta_{1}x_{n,1}+\\cdots+\\beta_{k}x_{n,k}+e_{n}\n",
    "\\end{array}\n",
    "$$ or equivalently\n",
    "$$\\left[\n",
    "\\begin{array}\n",
    "[c]{c}\n",
    "y_{1}\\\\\n",
    "y_{2}\\\\\n",
    "y_{3}\\\\\n",
    "\\vdots\\\\\n",
    "y_{n}\n",
    "\\end{array}\n",
    "\\right]  =\\left[\n",
    "\\begin{array}\n",
    "[c]{cccc}\n",
    "1 & x_{1,1} & \\cdots & x_{1,k}\\\\\n",
    "1 & x_{2,1} & \\cdots & x_{2,k}\\\\\n",
    "1 & x_{3,1} & \\cdots & x_{3,k}\\\\\n",
    "\\vdots & \\vdots & \\ddots & \\vdots\\\\\n",
    "1 & x_{n,1} & \\cdots & x_{n,k}\n",
    "\\end{array}\n",
    "\\right]  \\left[\n",
    "\\begin{array}\n",
    "[c]{c}\n",
    "\\beta_{0}\\\\\n",
    "\\beta_{1}\\\\\n",
    "\\vdots\\\\\n",
    "\\beta_{k}\n",
    "\\end{array}\n",
    "\\right]  +\\left[\n",
    "\\begin{array}\n",
    "[c]{c}\n",
    "e_{1}\\\\\n",
    "e_{2}\\\\\n",
    "e_{3}\\\\\n",
    "\\vdots\\\\\n",
    "e_{n}\n",
    "\\end{array}\n",
    "\\right]\n",
    "$$"
   ]
  },
  {
   "cell_type": "markdown",
   "metadata": {
    "slideshow": {
     "slide_type": "subslide"
    }
   },
   "source": [
    "that can be rewritten in **matrix form**  as\n",
    "\n",
    "$$\n",
    "\\mathbf{y}=\\mathbf{X}\\mathbf{\\beta}+\\mathbf{e}\\text{,}\n",
    "$$\n",
    "\n",
    "where $\\mathbf{y}$ is a $n\\times 1$ [vector](https://en.wikipedia.org/wiki/Vector_(mathematics_and_physics)), $\\mathbf{X}$ is a $n\\times(k+1)$ [matrix](https://en.wikipedia.org/wiki/Matrix_(mathematics)) - sometimes called the [*design matrix*](https://en.wikipedia.org/wiki/Design_matrix), $\\mathbf{\\beta}$ is a $(k+1)\\times 1$ vector of <ins>unknown</ins> parameters, and $\\mathbf{e}$ is a $n\\times 1$ vector."
   ]
  },
  {
   "cell_type": "code",
   "execution_count": 1,
   "metadata": {},
   "outputs": [],
   "source": [
    "%load_ext rpy2.ipython"
   ]
  },
  {
   "cell_type": "code",
   "execution_count": 2,
   "metadata": {
    "slideshow": {
     "slide_type": "subslide"
    }
   },
   "outputs": [
    {
     "name": "stderr",
     "output_type": "stream",
     "text": [
      "R[write to console]: Loading required package: wooldridge\n",
      "\n"
     ]
    },
    {
     "data": {
      "text/html": [
       "<div>\n",
       "<style scoped>\n",
       "    .dataframe tbody tr th:only-of-type {\n",
       "        vertical-align: middle;\n",
       "    }\n",
       "\n",
       "    .dataframe tbody tr th {\n",
       "        vertical-align: top;\n",
       "    }\n",
       "\n",
       "    .dataframe thead th {\n",
       "        text-align: right;\n",
       "    }\n",
       "</style>\n",
       "<table border=\"1\" class=\"dataframe\">\n",
       "  <thead>\n",
       "    <tr style=\"text-align: right;\">\n",
       "      <th></th>\n",
       "      <th>price</th>\n",
       "      <th>crime</th>\n",
       "      <th>nox</th>\n",
       "      <th>rooms</th>\n",
       "      <th>dist</th>\n",
       "      <th>radial</th>\n",
       "      <th>proptax</th>\n",
       "      <th>stratio</th>\n",
       "      <th>lowstat</th>\n",
       "      <th>lprice</th>\n",
       "      <th>lnox</th>\n",
       "      <th>lproptax</th>\n",
       "    </tr>\n",
       "  </thead>\n",
       "  <tbody>\n",
       "    <tr>\n",
       "      <th>1</th>\n",
       "      <td>24000.0</td>\n",
       "      <td>0.006</td>\n",
       "      <td>5.38</td>\n",
       "      <td>6.57</td>\n",
       "      <td>4.09</td>\n",
       "      <td>1</td>\n",
       "      <td>29.600000</td>\n",
       "      <td>15.300000</td>\n",
       "      <td>4.98</td>\n",
       "      <td>10.085809</td>\n",
       "      <td>1.682688</td>\n",
       "      <td>5.690360</td>\n",
       "    </tr>\n",
       "    <tr>\n",
       "      <th>2</th>\n",
       "      <td>21599.0</td>\n",
       "      <td>0.027</td>\n",
       "      <td>4.69</td>\n",
       "      <td>6.42</td>\n",
       "      <td>4.97</td>\n",
       "      <td>2</td>\n",
       "      <td>24.200001</td>\n",
       "      <td>17.799999</td>\n",
       "      <td>9.14</td>\n",
       "      <td>9.980402</td>\n",
       "      <td>1.545433</td>\n",
       "      <td>5.488938</td>\n",
       "    </tr>\n",
       "    <tr>\n",
       "      <th>3</th>\n",
       "      <td>34700.0</td>\n",
       "      <td>0.027</td>\n",
       "      <td>4.69</td>\n",
       "      <td>7.18</td>\n",
       "      <td>4.97</td>\n",
       "      <td>2</td>\n",
       "      <td>24.200001</td>\n",
       "      <td>17.799999</td>\n",
       "      <td>4.03</td>\n",
       "      <td>10.454495</td>\n",
       "      <td>1.545433</td>\n",
       "      <td>5.488938</td>\n",
       "    </tr>\n",
       "    <tr>\n",
       "      <th>4</th>\n",
       "      <td>33400.0</td>\n",
       "      <td>0.032</td>\n",
       "      <td>4.58</td>\n",
       "      <td>7.00</td>\n",
       "      <td>6.06</td>\n",
       "      <td>3</td>\n",
       "      <td>22.200001</td>\n",
       "      <td>18.700001</td>\n",
       "      <td>2.94</td>\n",
       "      <td>10.416311</td>\n",
       "      <td>1.521699</td>\n",
       "      <td>5.402678</td>\n",
       "    </tr>\n",
       "    <tr>\n",
       "      <th>5</th>\n",
       "      <td>36199.0</td>\n",
       "      <td>0.069</td>\n",
       "      <td>4.58</td>\n",
       "      <td>7.15</td>\n",
       "      <td>6.06</td>\n",
       "      <td>3</td>\n",
       "      <td>22.200001</td>\n",
       "      <td>18.700001</td>\n",
       "      <td>5.33</td>\n",
       "      <td>10.496787</td>\n",
       "      <td>1.521699</td>\n",
       "      <td>5.402678</td>\n",
       "    </tr>\n",
       "    <tr>\n",
       "      <th>6</th>\n",
       "      <td>28701.0</td>\n",
       "      <td>0.030</td>\n",
       "      <td>4.58</td>\n",
       "      <td>6.43</td>\n",
       "      <td>6.06</td>\n",
       "      <td>3</td>\n",
       "      <td>22.200001</td>\n",
       "      <td>18.700001</td>\n",
       "      <td>5.21</td>\n",
       "      <td>10.264688</td>\n",
       "      <td>1.521699</td>\n",
       "      <td>5.402678</td>\n",
       "    </tr>\n",
       "  </tbody>\n",
       "</table>\n",
       "</div>"
      ],
      "text/plain": [
       "     price  crime   nox  rooms  dist  radial    proptax    stratio  lowstat  \\\n",
       "1  24000.0  0.006  5.38   6.57  4.09       1  29.600000  15.300000     4.98   \n",
       "2  21599.0  0.027  4.69   6.42  4.97       2  24.200001  17.799999     9.14   \n",
       "3  34700.0  0.027  4.69   7.18  4.97       2  24.200001  17.799999     4.03   \n",
       "4  33400.0  0.032  4.58   7.00  6.06       3  22.200001  18.700001     2.94   \n",
       "5  36199.0  0.069  4.58   7.15  6.06       3  22.200001  18.700001     5.33   \n",
       "6  28701.0  0.030  4.58   6.43  6.06       3  22.200001  18.700001     5.21   \n",
       "\n",
       "      lprice      lnox  lproptax  \n",
       "1  10.085809  1.682688  5.690360  \n",
       "2   9.980402  1.545433  5.488938  \n",
       "3  10.454495  1.545433  5.488938  \n",
       "4  10.416311  1.521699  5.402678  \n",
       "5  10.496787  1.521699  5.402678  \n",
       "6  10.264688  1.521699  5.402678  "
      ]
     },
     "execution_count": 2,
     "metadata": {},
     "output_type": "execute_result"
    }
   ],
   "source": [
    "## removing everything from memory\n",
    "%R rm(list=ls())\n",
    "## turning all warnings off\n",
    "%R options(warn=-1)\n",
    "\n",
    "## installing the 'wooldridge' package if not previously installed\n",
    "%R if (!require(wooldridge)) install.packages('wooldridge')\n",
    "\n",
    "## loading the packages\n",
    "%R library(wooldridge)\n",
    "\n",
    "%R data(hprice2)\n",
    "\n",
    "##  hprice2\n",
    "##  Obs:   506\n",
    "\n",
    "##  1. price                    median housing price, $\n",
    "##  2. crime                    crimes committed per capita\n",
    "##  3. nox                      nitrous oxide, parts per 100 mill.\n",
    "##  4. rooms                    avg number of rooms per house\n",
    "##  5. dist                     weighted dist. to 5 employ centers\n",
    "##  6. radial                   accessibiliy index to radial hghwys\n",
    "##  7. proptax                  property tax per $1000\n",
    "##  8. stratio                  average student-teacher ratio\n",
    "##  9. lowstat                  % of people 'lower status'\n",
    "## 10. lprice                   log(price)\n",
    "## 11. lnox                     log(nox)\n",
    "## 12. lproptax                 log(proptax)\n",
    "\n",
    "%R head(hprice2)"
   ]
  },
  {
   "cell_type": "markdown",
   "metadata": {},
   "source": [
    "We can now transfer the `hprice2` R data frame into a pandas data frame and call it `py_hprice2`."
   ]
  },
  {
   "cell_type": "code",
   "execution_count": 3,
   "metadata": {},
   "outputs": [
    {
     "data": {
      "text/html": [
       "<div>\n",
       "<style scoped>\n",
       "    .dataframe tbody tr th:only-of-type {\n",
       "        vertical-align: middle;\n",
       "    }\n",
       "\n",
       "    .dataframe tbody tr th {\n",
       "        vertical-align: top;\n",
       "    }\n",
       "\n",
       "    .dataframe thead th {\n",
       "        text-align: right;\n",
       "    }\n",
       "</style>\n",
       "<table border=\"1\" class=\"dataframe\">\n",
       "  <thead>\n",
       "    <tr style=\"text-align: right;\">\n",
       "      <th></th>\n",
       "      <th>price</th>\n",
       "      <th>crime</th>\n",
       "      <th>nox</th>\n",
       "      <th>rooms</th>\n",
       "      <th>dist</th>\n",
       "      <th>radial</th>\n",
       "      <th>proptax</th>\n",
       "      <th>stratio</th>\n",
       "      <th>lowstat</th>\n",
       "      <th>lprice</th>\n",
       "      <th>lnox</th>\n",
       "      <th>lproptax</th>\n",
       "    </tr>\n",
       "  </thead>\n",
       "  <tbody>\n",
       "    <tr>\n",
       "      <th>1</th>\n",
       "      <td>24000.0</td>\n",
       "      <td>0.006</td>\n",
       "      <td>5.38</td>\n",
       "      <td>6.57</td>\n",
       "      <td>4.09</td>\n",
       "      <td>1</td>\n",
       "      <td>29.600000</td>\n",
       "      <td>15.300000</td>\n",
       "      <td>4.98</td>\n",
       "      <td>10.085809</td>\n",
       "      <td>1.682688</td>\n",
       "      <td>5.690360</td>\n",
       "    </tr>\n",
       "    <tr>\n",
       "      <th>2</th>\n",
       "      <td>21599.0</td>\n",
       "      <td>0.027</td>\n",
       "      <td>4.69</td>\n",
       "      <td>6.42</td>\n",
       "      <td>4.97</td>\n",
       "      <td>2</td>\n",
       "      <td>24.200001</td>\n",
       "      <td>17.799999</td>\n",
       "      <td>9.14</td>\n",
       "      <td>9.980402</td>\n",
       "      <td>1.545433</td>\n",
       "      <td>5.488938</td>\n",
       "    </tr>\n",
       "    <tr>\n",
       "      <th>3</th>\n",
       "      <td>34700.0</td>\n",
       "      <td>0.027</td>\n",
       "      <td>4.69</td>\n",
       "      <td>7.18</td>\n",
       "      <td>4.97</td>\n",
       "      <td>2</td>\n",
       "      <td>24.200001</td>\n",
       "      <td>17.799999</td>\n",
       "      <td>4.03</td>\n",
       "      <td>10.454495</td>\n",
       "      <td>1.545433</td>\n",
       "      <td>5.488938</td>\n",
       "    </tr>\n",
       "    <tr>\n",
       "      <th>4</th>\n",
       "      <td>33400.0</td>\n",
       "      <td>0.032</td>\n",
       "      <td>4.58</td>\n",
       "      <td>7.00</td>\n",
       "      <td>6.06</td>\n",
       "      <td>3</td>\n",
       "      <td>22.200001</td>\n",
       "      <td>18.700001</td>\n",
       "      <td>2.94</td>\n",
       "      <td>10.416311</td>\n",
       "      <td>1.521699</td>\n",
       "      <td>5.402678</td>\n",
       "    </tr>\n",
       "    <tr>\n",
       "      <th>5</th>\n",
       "      <td>36199.0</td>\n",
       "      <td>0.069</td>\n",
       "      <td>4.58</td>\n",
       "      <td>7.15</td>\n",
       "      <td>6.06</td>\n",
       "      <td>3</td>\n",
       "      <td>22.200001</td>\n",
       "      <td>18.700001</td>\n",
       "      <td>5.33</td>\n",
       "      <td>10.496787</td>\n",
       "      <td>1.521699</td>\n",
       "      <td>5.402678</td>\n",
       "    </tr>\n",
       "    <tr>\n",
       "      <th>6</th>\n",
       "      <td>28701.0</td>\n",
       "      <td>0.030</td>\n",
       "      <td>4.58</td>\n",
       "      <td>6.43</td>\n",
       "      <td>6.06</td>\n",
       "      <td>3</td>\n",
       "      <td>22.200001</td>\n",
       "      <td>18.700001</td>\n",
       "      <td>5.21</td>\n",
       "      <td>10.264688</td>\n",
       "      <td>1.521699</td>\n",
       "      <td>5.402678</td>\n",
       "    </tr>\n",
       "  </tbody>\n",
       "</table>\n",
       "</div>"
      ],
      "text/plain": [
       "     price  crime   nox  rooms  dist  radial    proptax    stratio  lowstat  \\\n",
       "1  24000.0  0.006  5.38   6.57  4.09       1  29.600000  15.300000     4.98   \n",
       "2  21599.0  0.027  4.69   6.42  4.97       2  24.200001  17.799999     9.14   \n",
       "3  34700.0  0.027  4.69   7.18  4.97       2  24.200001  17.799999     4.03   \n",
       "4  33400.0  0.032  4.58   7.00  6.06       3  22.200001  18.700001     2.94   \n",
       "5  36199.0  0.069  4.58   7.15  6.06       3  22.200001  18.700001     5.33   \n",
       "6  28701.0  0.030  4.58   6.43  6.06       3  22.200001  18.700001     5.21   \n",
       "\n",
       "      lprice      lnox  lproptax  \n",
       "1  10.085809  1.682688  5.690360  \n",
       "2   9.980402  1.545433  5.488938  \n",
       "3  10.454495  1.545433  5.488938  \n",
       "4  10.416311  1.521699  5.402678  \n",
       "5  10.496787  1.521699  5.402678  \n",
       "6  10.264688  1.521699  5.402678  "
      ]
     },
     "execution_count": 3,
     "metadata": {},
     "output_type": "execute_result"
    }
   ],
   "source": [
    "import pandas as pd\n",
    "import rpy2.robjects as ro\n",
    "from rpy2.robjects.packages import importr\n",
    "from rpy2.robjects import pandas2ri\n",
    "\n",
    "from rpy2.robjects.conversion import localconverter\n",
    "\n",
    "with localconverter(ro.default_converter + pandas2ri.converter):\n",
    "  py_hprice2 = ro.conversion.rpy2py(ro.r('hprice2'))\n",
    "py_hprice2.head(6)"
   ]
  },
  {
   "cell_type": "markdown",
   "metadata": {},
   "source": [
    "Alternatively, we can access the `hprice2` pandas data frame directly from the `wooldridge` package."
   ]
  },
  {
   "cell_type": "code",
   "execution_count": 4,
   "metadata": {},
   "outputs": [],
   "source": [
    "import wooldridge as woo\n",
    "hprice2 = woo.dataWoo('hprice2')"
   ]
  },
  {
   "cell_type": "markdown",
   "metadata": {
    "slideshow": {
     "slide_type": "subslide"
    }
   },
   "source": [
    "## The Assumptions"
   ]
  },
  {
   "cell_type": "markdown",
   "metadata": {
    "slideshow": {
     "slide_type": "fragment"
    }
   },
   "source": [
    "**<span style=\"color:blue\">Assumption MLR.1:</span>** $\\mathbf{y}=\\mathbf{X}\\mathbf{\\beta}+\\mathbf{e}$."
   ]
  },
  {
   "cell_type": "markdown",
   "metadata": {
    "slideshow": {
     "slide_type": "fragment"
    }
   },
   "source": [
    "<ins>Example</ins>: We specify the following model \n",
    "\n",
    "$$\n",
    "\\texttt{lprice}=\\beta_{0}+\\beta_{1}\\texttt{lnox}+\\beta_{2}\\texttt{lproptax}+\\beta_{3}\\texttt{crime}+\\beta_{4}\\texttt{rooms}+\\beta_{5}\\texttt{dist}+\\beta_{6}\\texttt{radial}+\\beta_{7}\\texttt{stratio}+\\beta_{8}\\texttt{lowstat}+e\n",
    "$$"
   ]
  },
  {
   "cell_type": "markdown",
   "metadata": {
    "slideshow": {
     "slide_type": "fragment"
    }
   },
   "source": [
    "💻 We can use ```as.formula``` to specify the model."
   ]
  },
  {
   "cell_type": "code",
   "execution_count": 5,
   "metadata": {
    "slideshow": {
     "slide_type": "fragment"
    }
   },
   "outputs": [
    {
     "name": "stdout",
     "output_type": "stream",
     "text": [
      "lprice ~ lnox + lproptax + crime + rooms + dist + radial + stratio + \n",
      "    lowstat\n"
     ]
    },
    {
     "data": {
      "text/plain": [
       "<rpy2.robjects.Formula object at 0x7fbe8a635e60> [RTYPES.LANGSXP]\n",
       "R classes: ('formula',)"
      ]
     },
     "execution_count": 5,
     "metadata": {},
     "output_type": "execute_result"
    }
   ],
   "source": [
    "## specifying the outcome variable (y) and regressors (X)\n",
    "%R outcome <- 'lprice'\n",
    "%R predictors <- c('lnox', 'lproptax', 'crime', 'rooms', 'dist', 'radial', 'stratio', 'lowstat')\n",
    "\n",
    "## creating a specification of the linear model\n",
    "%R f <- as.formula(paste(outcome,paste(predictors, collapse = ' + '),sep = ' ~ '))\n",
    "%R print(f)"
   ]
  },
  {
   "cell_type": "code",
   "execution_count": 6,
   "metadata": {},
   "outputs": [
    {
     "name": "stdout",
     "output_type": "stream",
     "text": [
      "lprice~lnox+lproptax+crime+rooms+dist+radial+stratio+lowstat\n"
     ]
    }
   ],
   "source": [
    "outcome = 'lprice'\n",
    "predictors = [\"lnox\", \"lproptax\", \"crime\", \"rooms\", \"dist\", \"radial\", \"stratio\", \"lowstat\"]\n",
    "f = outcome + \"~\" + \"+\".join(predictors)\n",
    "print(f)"
   ]
  },
  {
   "cell_type": "markdown",
   "metadata": {
    "slideshow": {
     "slide_type": "subslide"
    }
   },
   "source": [
    "**<span style=\"color:blue\">Assumption MLR.2:</span>** $\\{(y_i,x_{i,1},\\ldots,x_{i,k}):i=1,\\ldots,n\\}$ is a random sample (independent and identically distributed - i.i.d.)."
   ]
  },
  {
   "cell_type": "markdown",
   "metadata": {
    "slideshow": {
     "slide_type": "fragment"
    }
   },
   "source": [
    "💻 ```head``` allows us to visualize the structure of the data."
   ]
  },
  {
   "cell_type": "code",
   "execution_count": 7,
   "metadata": {
    "slideshow": {
     "slide_type": "fragment"
    }
   },
   "outputs": [
    {
     "data": {
      "text/html": [
       "<div>\n",
       "<style scoped>\n",
       "    .dataframe tbody tr th:only-of-type {\n",
       "        vertical-align: middle;\n",
       "    }\n",
       "\n",
       "    .dataframe tbody tr th {\n",
       "        vertical-align: top;\n",
       "    }\n",
       "\n",
       "    .dataframe thead th {\n",
       "        text-align: right;\n",
       "    }\n",
       "</style>\n",
       "<table border=\"1\" class=\"dataframe\">\n",
       "  <thead>\n",
       "    <tr style=\"text-align: right;\">\n",
       "      <th></th>\n",
       "      <th>lprice</th>\n",
       "      <th>lnox</th>\n",
       "      <th>lproptax</th>\n",
       "      <th>crime</th>\n",
       "      <th>rooms</th>\n",
       "      <th>dist</th>\n",
       "      <th>radial</th>\n",
       "      <th>stratio</th>\n",
       "      <th>lowstat</th>\n",
       "    </tr>\n",
       "  </thead>\n",
       "  <tbody>\n",
       "    <tr>\n",
       "      <th>1</th>\n",
       "      <td>10.085809</td>\n",
       "      <td>1.682688</td>\n",
       "      <td>5.690360</td>\n",
       "      <td>0.006</td>\n",
       "      <td>6.57</td>\n",
       "      <td>4.09</td>\n",
       "      <td>1</td>\n",
       "      <td>15.300000</td>\n",
       "      <td>4.98</td>\n",
       "    </tr>\n",
       "    <tr>\n",
       "      <th>2</th>\n",
       "      <td>9.980402</td>\n",
       "      <td>1.545433</td>\n",
       "      <td>5.488938</td>\n",
       "      <td>0.027</td>\n",
       "      <td>6.42</td>\n",
       "      <td>4.97</td>\n",
       "      <td>2</td>\n",
       "      <td>17.799999</td>\n",
       "      <td>9.14</td>\n",
       "    </tr>\n",
       "    <tr>\n",
       "      <th>3</th>\n",
       "      <td>10.454495</td>\n",
       "      <td>1.545433</td>\n",
       "      <td>5.488938</td>\n",
       "      <td>0.027</td>\n",
       "      <td>7.18</td>\n",
       "      <td>4.97</td>\n",
       "      <td>2</td>\n",
       "      <td>17.799999</td>\n",
       "      <td>4.03</td>\n",
       "    </tr>\n",
       "    <tr>\n",
       "      <th>4</th>\n",
       "      <td>10.416311</td>\n",
       "      <td>1.521699</td>\n",
       "      <td>5.402678</td>\n",
       "      <td>0.032</td>\n",
       "      <td>7.00</td>\n",
       "      <td>6.06</td>\n",
       "      <td>3</td>\n",
       "      <td>18.700001</td>\n",
       "      <td>2.94</td>\n",
       "    </tr>\n",
       "    <tr>\n",
       "      <th>5</th>\n",
       "      <td>10.496787</td>\n",
       "      <td>1.521699</td>\n",
       "      <td>5.402678</td>\n",
       "      <td>0.069</td>\n",
       "      <td>7.15</td>\n",
       "      <td>6.06</td>\n",
       "      <td>3</td>\n",
       "      <td>18.700001</td>\n",
       "      <td>5.33</td>\n",
       "    </tr>\n",
       "    <tr>\n",
       "      <th>6</th>\n",
       "      <td>10.264688</td>\n",
       "      <td>1.521699</td>\n",
       "      <td>5.402678</td>\n",
       "      <td>0.030</td>\n",
       "      <td>6.43</td>\n",
       "      <td>6.06</td>\n",
       "      <td>3</td>\n",
       "      <td>18.700001</td>\n",
       "      <td>5.21</td>\n",
       "    </tr>\n",
       "  </tbody>\n",
       "</table>\n",
       "</div>"
      ],
      "text/plain": [
       "      lprice      lnox  lproptax  crime  rooms  dist  radial    stratio  \\\n",
       "1  10.085809  1.682688  5.690360  0.006   6.57  4.09       1  15.300000   \n",
       "2   9.980402  1.545433  5.488938  0.027   6.42  4.97       2  17.799999   \n",
       "3  10.454495  1.545433  5.488938  0.027   7.18  4.97       2  17.799999   \n",
       "4  10.416311  1.521699  5.402678  0.032   7.00  6.06       3  18.700001   \n",
       "5  10.496787  1.521699  5.402678  0.069   7.15  6.06       3  18.700001   \n",
       "6  10.264688  1.521699  5.402678  0.030   6.43  6.06       3  18.700001   \n",
       "\n",
       "   lowstat  \n",
       "1     4.98  \n",
       "2     9.14  \n",
       "3     4.03  \n",
       "4     2.94  \n",
       "5     5.33  \n",
       "6     5.21  "
      ]
     },
     "execution_count": 7,
     "metadata": {},
     "output_type": "execute_result"
    }
   ],
   "source": [
    "# R\n",
    "%R head(subset(hprice2,select=c(outcome,predictors)))"
   ]
  },
  {
   "cell_type": "code",
   "execution_count": 8,
   "metadata": {},
   "outputs": [
    {
     "data": {
      "text/html": [
       "<div>\n",
       "<style scoped>\n",
       "    .dataframe tbody tr th:only-of-type {\n",
       "        vertical-align: middle;\n",
       "    }\n",
       "\n",
       "    .dataframe tbody tr th {\n",
       "        vertical-align: top;\n",
       "    }\n",
       "\n",
       "    .dataframe thead th {\n",
       "        text-align: right;\n",
       "    }\n",
       "</style>\n",
       "<table border=\"1\" class=\"dataframe\">\n",
       "  <thead>\n",
       "    <tr style=\"text-align: right;\">\n",
       "      <th></th>\n",
       "      <th>lprice</th>\n",
       "      <th>lnox</th>\n",
       "      <th>lproptax</th>\n",
       "      <th>crime</th>\n",
       "      <th>rooms</th>\n",
       "      <th>dist</th>\n",
       "      <th>radial</th>\n",
       "      <th>stratio</th>\n",
       "      <th>lowstat</th>\n",
       "    </tr>\n",
       "  </thead>\n",
       "  <tbody>\n",
       "    <tr>\n",
       "      <th>0</th>\n",
       "      <td>10.085809</td>\n",
       "      <td>1.682688</td>\n",
       "      <td>5.690360</td>\n",
       "      <td>0.006</td>\n",
       "      <td>6.57</td>\n",
       "      <td>4.09</td>\n",
       "      <td>1</td>\n",
       "      <td>15.300000</td>\n",
       "      <td>4.98</td>\n",
       "    </tr>\n",
       "    <tr>\n",
       "      <th>1</th>\n",
       "      <td>9.980402</td>\n",
       "      <td>1.545433</td>\n",
       "      <td>5.488938</td>\n",
       "      <td>0.027</td>\n",
       "      <td>6.42</td>\n",
       "      <td>4.97</td>\n",
       "      <td>2</td>\n",
       "      <td>17.799999</td>\n",
       "      <td>9.14</td>\n",
       "    </tr>\n",
       "    <tr>\n",
       "      <th>2</th>\n",
       "      <td>10.454495</td>\n",
       "      <td>1.545433</td>\n",
       "      <td>5.488938</td>\n",
       "      <td>0.027</td>\n",
       "      <td>7.18</td>\n",
       "      <td>4.97</td>\n",
       "      <td>2</td>\n",
       "      <td>17.799999</td>\n",
       "      <td>4.03</td>\n",
       "    </tr>\n",
       "    <tr>\n",
       "      <th>3</th>\n",
       "      <td>10.416311</td>\n",
       "      <td>1.521699</td>\n",
       "      <td>5.402678</td>\n",
       "      <td>0.032</td>\n",
       "      <td>7.00</td>\n",
       "      <td>6.06</td>\n",
       "      <td>3</td>\n",
       "      <td>18.700001</td>\n",
       "      <td>2.94</td>\n",
       "    </tr>\n",
       "    <tr>\n",
       "      <th>4</th>\n",
       "      <td>10.496787</td>\n",
       "      <td>1.521699</td>\n",
       "      <td>5.402678</td>\n",
       "      <td>0.069</td>\n",
       "      <td>7.15</td>\n",
       "      <td>6.06</td>\n",
       "      <td>3</td>\n",
       "      <td>18.700001</td>\n",
       "      <td>5.33</td>\n",
       "    </tr>\n",
       "  </tbody>\n",
       "</table>\n",
       "</div>"
      ],
      "text/plain": [
       "      lprice      lnox  lproptax  crime  rooms  dist  radial    stratio  \\\n",
       "0  10.085809  1.682688  5.690360  0.006   6.57  4.09       1  15.300000   \n",
       "1   9.980402  1.545433  5.488938  0.027   6.42  4.97       2  17.799999   \n",
       "2  10.454495  1.545433  5.488938  0.027   7.18  4.97       2  17.799999   \n",
       "3  10.416311  1.521699  5.402678  0.032   7.00  6.06       3  18.700001   \n",
       "4  10.496787  1.521699  5.402678  0.069   7.15  6.06       3  18.700001   \n",
       "\n",
       "   lowstat  \n",
       "0     4.98  \n",
       "1     9.14  \n",
       "2     4.03  \n",
       "3     2.94  \n",
       "4     5.33  "
      ]
     },
     "execution_count": 8,
     "metadata": {},
     "output_type": "execute_result"
    }
   ],
   "source": [
    "# Python\n",
    "hprice2[[outcome] + predictors].head(5)"
   ]
  },
  {
   "cell_type": "markdown",
   "metadata": {
    "slideshow": {
     "slide_type": "subslide"
    }
   },
   "source": [
    "**<span style=\"color:blue\">Assumption MLR.3:</span>** rank$[E(\\mathbf{x}_i\\mathbf{x}_i^\\prime)]=k+1$, where $\\mathbf{x}_i^\\prime=[1,x_{i,1},\\ldots,x_{i,k}]$. <p style='text-align: right;'> <a href=\"https://en.wikipedia.org/wiki/Rank_(linear_algebra)\" style=\"color: #cc0000\">Rank of a Matrix</a></p>\n",
    "<p style='text-align: right;'> <a href=\"https://en.wikipedia.org/wiki/Transpose\" style=\"color: #cc0000\">Transpose</a></p> <p style='text-align: right;'> <a href=\"https://en.wikipedia.org/wiki/Expected_value\" style=\"color: #cc0000\">Expected Value</a></p>"
   ]
  },
  {
   "cell_type": "markdown",
   "metadata": {
    "slideshow": {
     "slide_type": "fragment"
    }
   },
   "source": [
    "💻 ```model.matrix``` creates a design matrix based on the declared predictors and includes a vector of ones by default as the first column."
   ]
  },
  {
   "cell_type": "code",
   "execution_count": 9,
   "metadata": {
    "slideshow": {
     "slide_type": "fragment"
    }
   },
   "outputs": [
    {
     "data": {
      "text/plain": [
       "array([506,   9], dtype=int32)"
      ]
     },
     "execution_count": 9,
     "metadata": {},
     "output_type": "execute_result"
    }
   ],
   "source": [
    "## asking R to print the design matrix for the chosen model\n",
    "%R X <- model.matrix(f,data=hprice2)\n",
    "%R dim(X)"
   ]
  },
  {
   "cell_type": "code",
   "execution_count": 10,
   "metadata": {},
   "outputs": [
    {
     "data": {
      "text/plain": [
       "(506, 9)"
      ]
     },
     "execution_count": 10,
     "metadata": {},
     "output_type": "execute_result"
    }
   ],
   "source": [
    "## asking Python to print the design matrix for the chose model\n",
    "import patsy\n",
    "y, X = patsy.dmatrices(f,hprice2,return_type='matrix')\n",
    "X.shape"
   ]
  },
  {
   "cell_type": "code",
   "execution_count": 11,
   "metadata": {
    "slideshow": {
     "slide_type": "fragment"
    }
   },
   "outputs": [
    {
     "data": {
      "text/plain": [
       "array([[  1.        ,   1.69309138,   5.9314047 ,   3.61153555,\n",
       "          6.28405138,   3.79575098,   9.54940711,  18.45928877,\n",
       "         12.70148221],\n",
       "       [  1.69309138,   2.9070443 ,  10.09557313,   6.85653662,\n",
       "         10.59639983,   6.08414261,  17.26048302,  31.35248487,\n",
       "         22.37223347],\n",
       "       [  5.9314047 ,  10.09557313,  35.33835765,  23.2951986 ,\n",
       "         37.19007467,  22.08598112,  59.61578553, 109.85126394,\n",
       "         76.80060702],\n",
       "       [  3.61153555,   6.85653662,  23.2951986 ,  86.68969882,\n",
       "         21.37703284,   6.84866655,  81.17709233,  72.02683585,\n",
       "         73.61199   ],\n",
       "       [  6.28405138,  10.59639983,  37.19007467,  21.37703284,\n",
       "         39.9819642 ,  24.15604997,  58.72818179, 115.46149344,\n",
       "         76.72279698],\n",
       "       [  3.79575098,   6.08414261,  22.08598112,   6.84866655,\n",
       "         24.15604997,  18.83477015,  27.18628454,  69.02311519,\n",
       "         40.67145505],\n",
       "       [  9.54940711,  17.26048302,  59.61578553,  81.17709233,\n",
       "         58.72818179,  27.18628454, 166.85770751, 185.0128508 ,\n",
       "        151.23399206],\n",
       "       [ 18.45928877,  31.35248487, 109.85126394,  72.02683585,\n",
       "        115.46149344,  69.02311519, 185.0128508 , 345.42684772,\n",
       "        240.17717996],\n",
       "       [ 12.70148221,  22.37223347,  76.80060702,  73.61199   ,\n",
       "         76.72279698,  40.67145505, 151.23399206, 240.17717996,\n",
       "        213.61370774]])"
      ]
     },
     "execution_count": 11,
     "metadata": {},
     "output_type": "execute_result"
    }
   ],
   "source": [
    "## calculating & printing the sample counterpart of E[xx']\n",
    "%R X.X.n <- t(X)%*%X/nrow(X)\n",
    "%R X.X.n"
   ]
  },
  {
   "cell_type": "code",
   "execution_count": 12,
   "metadata": {},
   "outputs": [
    {
     "name": "stdout",
     "output_type": "stream",
     "text": [
      "[[  1.           1.69309138   5.9314047    3.61153555   6.28405138\n",
      "    3.79575098   9.54940711  18.45928877  12.70148221]\n",
      " [  1.69309138   2.9070443   10.09557313   6.85653662  10.59639983\n",
      "    6.08414261  17.26048302  31.35248487  22.37223347]\n",
      " [  5.9314047   10.09557313  35.33835765  23.2951986   37.19007467\n",
      "   22.08598112  59.61578553 109.85126394  76.80060702]\n",
      " [  3.61153555   6.85653662  23.2951986   86.68969882  21.37703284\n",
      "    6.84866655  81.17709233  72.02683585  73.61199   ]\n",
      " [  6.28405138  10.59639983  37.19007467  21.37703284  39.9819642\n",
      "   24.15604997  58.72818179 115.46149344  76.72279698]\n",
      " [  3.79575098   6.08414261  22.08598112   6.84866655  24.15604997\n",
      "   18.83477015  27.18628454  69.02311519  40.67145505]\n",
      " [  9.54940711  17.26048302  59.61578553  81.17709233  58.72818179\n",
      "   27.18628454 166.85770751 185.0128508  151.23399206]\n",
      " [ 18.45928877  31.35248487 109.85126394  72.02683585 115.46149344\n",
      "   69.02311519 185.0128508  345.42684772 240.17717996]\n",
      " [ 12.70148221  22.37223347  76.80060702  73.61199     76.72279698\n",
      "   40.67145505 151.23399206 240.17717996 213.61370774]]\n"
     ]
    }
   ],
   "source": [
    "## calculating & printing the sample counterpart of E[xx']\n",
    "import numpy as np\n",
    "X_X_n = X.transpose()@X/X.shape[0]\n",
    "print(X_X_n)"
   ]
  },
  {
   "cell_type": "code",
   "execution_count": 13,
   "metadata": {
    "slideshow": {
     "slide_type": "fragment"
    }
   },
   "outputs": [
    {
     "data": {
      "text/plain": [
       "array([9], dtype=int32)"
      ]
     },
     "execution_count": 13,
     "metadata": {},
     "output_type": "execute_result"
    }
   ],
   "source": [
    "## asking R to calculate the actual rank of the estimated E[xx']\n",
    "%R qr(X.X.n)$rank"
   ]
  },
  {
   "cell_type": "code",
   "execution_count": 14,
   "metadata": {},
   "outputs": [
    {
     "name": "stdout",
     "output_type": "stream",
     "text": [
      "9\n"
     ]
    }
   ],
   "source": [
    "## asking Python to calculate the actual rank of the estimated E[xx']\n",
    "print(np.linalg.matrix_rank(X_X_n))"
   ]
  },
  {
   "cell_type": "markdown",
   "metadata": {
    "slideshow": {
     "slide_type": "subslide"
    }
   },
   "source": [
    "**<span style=\"color:blue\">Assumption MLR.4:</span>** $E[\\mathbf{e}|\\mathbf{X}]=\\mathbf{0}$.\n",
    "\n",
    "$$\n",
    "E[\\mathbf{e}|\\mathbf{X}]=\\left[\n",
    "\\begin{array}\n",
    "[c]{c}\n",
    "E[e_{1}|\\mathbf{X}]\\\\\n",
    "E[e_{2}|\\mathbf{X}]\\\\\n",
    "E[e_{3}|\\mathbf{X}]\\\\\n",
    "\\vdots\\\\\n",
    "E[e_{n}|\\mathbf{X}]\n",
    "\\end{array}\n",
    "\\right]  =\\left[\n",
    "\\begin{array}\n",
    "[c]{c}\n",
    "0\\\\\n",
    "0\\\\\n",
    "0\\\\\n",
    "\\vdots\\\\\n",
    "0\n",
    "\\end{array}\n",
    "\\right]=\\mathbf{0}.  $$"
   ]
  },
  {
   "cell_type": "markdown",
   "metadata": {
    "slideshow": {
     "slide_type": "subslide"
    }
   },
   "source": [
    "**<span style=\"color:blue\">Assumption MLR.5:</span>** var$(\\mathbf{e}|\\mathbf{X})=E[\\mathbf{e}\\mathbf{e}^{\\prime}|\\mathbf{X}]=\\mathbf{D}$, i.e.,\n",
    "\n",
    "$$\n",
    "E[\\mathbf{e}\\mathbf{e}^{\\prime}|\\mathbf{X}]=\n",
    "\\begin{bmatrix}\n",
    "E[e_{1}^{2}|\\mathbf{X}] & 0 & \\cdots & 0\\\\\n",
    "0 & E[e_{2}^{2}|\\mathbf{X}] & \\cdots & 0\\\\\n",
    "0 & 0 & \\cdots & 0\\\\\n",
    "\\vdots & \\vdots & \\ddots & \\vdots\\\\\n",
    "0 & 0 & \\cdots & E[e_{n}^{2}|\\mathbf{X}]\n",
    "\\end{bmatrix}  = \\mathbf{D}\n",
    "$$\n",
    "\n",
    "where $\\vert\\mathbf{D}\\vert < +\\infty$.\n",
    "\n",
    "<p style='text-align: right;'> <a href=\"https://en.wikipedia.org/wiki/Determinant\" style=\"color: #cc0000\">Determinant</a></p>"
   ]
  },
  {
   "cell_type": "markdown",
   "metadata": {
    "slideshow": {
     "slide_type": "slide"
    }
   },
   "source": [
    "## The *Ordinary Least Squares* (OLS) Estimator"
   ]
  },
  {
   "cell_type": "markdown",
   "metadata": {
    "slideshow": {
     "slide_type": "fragment"
    }
   },
   "source": [
    "Define the Sum of Squared Errors ($\\mathrm{SSE}$) as a function of any candidate guess, $\\mathbf{b}=[b_{0},b_{1},\\cdots,b_{k}]^{\\prime}$, for the unknown $[\\beta_{0},\\beta_{1},\\beta_{2},\\cdots,\\beta_{k}]^{\\prime}\\equiv\\mathbf{\\beta}$, i.e.,\n",
    "\n",
    "$$\n",
    "\\mathrm{SSE}(\\mathbf{b})=\\Sigma_{i=1}^{n}(y_{i}-b_{0}-b_{1}x_{1,i}-b_{2}x_{2,i}\n",
    "-\\cdots-b_{k}x_{k,i})^{2}=(\\mathbf{y}-\\mathbf{Xb})^{\\prime}(\\mathbf{y}\n",
    "-\\mathbf{Xb})\n",
    "$$\n",
    "\n",
    "By standard [matrix calculus](https://en.wikipedia.org/wiki/Matrix_calculus) one has\n",
    "$$\n",
    "\\frac{\\partial \\mathrm{SSE}(\\mathbf{b})}{\\partial\\mathbf{b}}=\\left[\n",
    "\\begin{array}\n",
    "[c]{c}\n",
    "\\partial \\mathrm{SSE}(\\mathbf{b})/\\partial b_{0}\\\\\n",
    "\\partial \\mathrm{SSE}(\\mathbf{b})/\\partial b_{1}\\\\\n",
    "\\partial \\mathrm{SSE}(\\mathbf{b})/\\partial b_{2}\\\\\n",
    "\\vdots\\\\\n",
    "\\partial \\mathrm{SSE}(\\mathbf{b})/\\partial b_{k}\n",
    "\\end{array}\n",
    "\\right]  =-2\\mathbf{X}^{\\prime}(\\mathbf{y}-\\mathbf{Xb})\\text{,}\n",
    "$$"
   ]
  },
  {
   "cell_type": "markdown",
   "metadata": {
    "slideshow": {
     "slide_type": "subslide"
    }
   },
   "source": [
    "and\n",
    "\n",
    "$$\n",
    "\\frac{\\partial^{2}\\mathrm{SSE}(\\mathbf{b})}{\\partial\\mathbf{b}\\partial\\mathbf{b}\n",
    "^{\\prime}}=\\left[\n",
    "\\begin{array}\n",
    "[c]{cccc}\n",
    "\\partial^{2}\\mathrm{SSE}(\\mathbf{b})/\\partial b_{0}^{2} & \\partial^{2}\\mathrm{SSE}(\\mathbf{b}\n",
    ")/\\partial b_{0}\\partial b_{1} & \\cdots & \\partial^{2}\\mathrm{SSE}(\\mathbf{b})/\\partial\n",
    "b_{0}\\partial b_{k}\\\\\n",
    "\\partial^{2}\\mathrm{SSE}(\\mathbf{b})/\\partial b_{1}\\partial b_{0} & \\partial\n",
    "^{2}\\mathrm{SSE}(\\mathbf{b})/\\partial b_{1}^{2} & \\cdots & \\partial^{2}\\mathrm{SSE}(\\mathbf{b}\n",
    ")/\\partial b_{1}\\partial b_{k}\\\\\n",
    "\\partial^{2}\\mathrm{SSE}(\\mathbf{b})/\\partial b_{2}\\partial b_{0} & \\partial\n",
    "^{2}\\mathrm{SSE}(\\mathbf{b})/\\partial b_{2}\\partial b_{1} & \\cdots & \\partial\n",
    "^{2}\\mathrm{SSE}(\\mathbf{b})/\\partial b_{2}\\partial b_{k}\\\\\n",
    "\\vdots & \\vdots & \\ddots & \\vdots\\\\\n",
    "\\partial^{2}\\mathrm{SSE}(\\mathbf{b})/\\partial b_{k}\\partial b_{0} & \\partial\n",
    "^{2}\\mathrm{SSE}(\\mathbf{b})/\\partial b_{k}\\partial b_{1} & \\cdots & \\partial\n",
    "^{2}\\mathrm{SSE}(\\mathbf{b})/\\partial b_{k}^{2}\n",
    "\\end{array}\n",
    "\\right]  =2\\mathbf{X}^{\\prime}\\mathbf{X}\\text{,}\n",
    "$$\n",
    "\n",
    "where $\\mathbf{X}^{\\prime}\\mathbf{X}$ is a [positive definite matrix](https://en.wikipedia.org/wiki/Definiteness_of_a_matrix) by **<span style=\"color:blue\">Assumption MLR.3</span>**."
   ]
  },
  {
   "cell_type": "code",
   "execution_count": 15,
   "metadata": {
    "slideshow": {
     "slide_type": "fragment"
    }
   },
   "outputs": [
    {
     "data": {
      "text/plain": [
       "array([[  1012.        ,   1713.40847802,   6002.58155155,\n",
       "          3654.87397676,   6359.45999765,   3841.2999959 ,\n",
       "          9664.        ,  18680.80023766,  12853.89999175],\n",
       "       [  1713.40847802,   2941.92883376,  10216.72001235,\n",
       "          6938.8150594 ,  10723.55663263,   6157.15232569,\n",
       "         17467.60881209,  31728.71468777,  22640.70027378],\n",
       "       [  6002.58155155,  10216.72001235,  35762.41793831,\n",
       "         23574.74098372,  37636.35556945,  22351.0128984 ,\n",
       "         60331.17495346, 111169.47910286,  77722.21430324],\n",
       "       [  3654.87397676,   6938.8150594 ,  23574.74098372,\n",
       "         87729.97520854,  21633.55723406,   6930.85055137,\n",
       "         82151.21743452,  72891.15787958,  74495.33387686],\n",
       "       [  6359.45999765,  10723.55663263,  37636.35556945,\n",
       "         21633.55723406,  40461.74776667,  24445.92256768,\n",
       "         59432.91997051, 116847.03135794,  77643.47053913],\n",
       "       [  3841.2999959 ,   6157.15232569,  22351.0128984 ,\n",
       "          6930.85055137,  24445.92256768,  19060.78738724,\n",
       "         27512.51995349,  69851.3925711 ,  41159.51251029],\n",
       "       [  9664.        ,  17467.60881209,  60331.17495346,\n",
       "         82151.21743452,  59432.91997051,  27512.51995349,\n",
       "        168860.        , 187233.0050106 , 153048.79996276],\n",
       "       [ 18680.80023766,  31728.71468777, 111169.47910286,\n",
       "         72891.15787958, 116847.03135794,  69851.3925711 ,\n",
       "        187233.0050106 , 349571.96989769, 243059.30612074],\n",
       "       [ 12853.89999175,  22640.70027378,  77722.21430324,\n",
       "         74495.33387686,  77643.47053913,  41159.51251029,\n",
       "        153048.79996276, 243059.30612074, 216177.07223356]])"
      ]
     },
     "execution_count": 15,
     "metadata": {},
     "output_type": "execute_result"
    }
   ],
   "source": [
    "## printing 2X'X\n",
    "%R 2*t(X)%*%X"
   ]
  },
  {
   "cell_type": "code",
   "execution_count": 16,
   "metadata": {},
   "outputs": [
    {
     "name": "stdout",
     "output_type": "stream",
     "text": [
      "[[  1012.           1713.40847802   6002.58155155   3654.87397676\n",
      "    6359.45999765   3841.2999959    9664.          18680.80023766\n",
      "   12853.89999175]\n",
      " [  1713.40847802   2941.92883376  10216.72001235   6938.8150594\n",
      "   10723.55663263   6157.15232569  17467.60881209  31728.71468777\n",
      "   22640.70027378]\n",
      " [  6002.58155155  10216.72001235  35762.41793831  23574.74098372\n",
      "   37636.35556945  22351.0128984   60331.17495346 111169.47910286\n",
      "   77722.21430324]\n",
      " [  3654.87397676   6938.8150594   23574.74098372  87729.97520854\n",
      "   21633.55723406   6930.85055137  82151.21743452  72891.15787958\n",
      "   74495.33387686]\n",
      " [  6359.45999765  10723.55663263  37636.35556945  21633.55723406\n",
      "   40461.74776667  24445.92256768  59432.91997051 116847.03135794\n",
      "   77643.47053913]\n",
      " [  3841.2999959    6157.15232569  22351.0128984    6930.85055137\n",
      "   24445.92256768  19060.78738724  27512.51995349  69851.3925711\n",
      "   41159.51251029]\n",
      " [  9664.          17467.60881209  60331.17495346  82151.21743452\n",
      "   59432.91997051  27512.51995349 168860.         187233.0050106\n",
      "  153048.79996276]\n",
      " [ 18680.80023766  31728.71468777 111169.47910286  72891.15787958\n",
      "  116847.03135794  69851.3925711  187233.0050106  349571.96989769\n",
      "  243059.30612074]\n",
      " [ 12853.89999175  22640.70027378  77722.21430324  74495.33387686\n",
      "   77643.47053913  41159.51251029 153048.79996276 243059.30612074\n",
      "  216177.07223356]]\n"
     ]
    }
   ],
   "source": [
    "## printing 2X'X\n",
    "print(2*X.transpose()@X)"
   ]
  },
  {
   "cell_type": "markdown",
   "metadata": {
    "slideshow": {
     "slide_type": "subslide"
    }
   },
   "source": [
    "Therefore $\\left.  \\partial \\mathrm{SSE}(\\mathbf{b})/\\partial\\mathbf{b}\\right\\vert _{\\mathbf{b}=\\widehat{\\boldsymbol{\\beta}}\n",
    "}=\\mathbf{0}$ defines a minima, i.e.,\n",
    "\n",
    "$$\\widehat{\\boldsymbol{\\beta}}=(\\mathbf{X}\n",
    "^{\\prime}\\mathbf{X})^{-1}\\mathbf{X}^{\\prime}\\mathbf{y}.$$\n",
    "\n",
    "Here we have used the\n",
    "notation $\\mathbf{A}^{-1}$ to denote the inverse of a matrix $\\mathbf{A}$.\n",
    "\n",
    "<p style='text-align: right;'> <a href=\"https://en.wikipedia.org/wiki/Euclidean_distance\" style=\"color: #cc0000\">Euclidean Distance</a></p>\n",
    "<p style='text-align: right;'> <a href=\"https://en.wikipedia.org/wiki/Invertible_matrix\" style=\"color: #cc0000\">Inverse</a></p>\n",
    "<p style='text-align: right;'> <a href=\"https://en.wikipedia.org/wiki/Maxima_and_minima\" style=\"color: #cc0000\">Maxima</a></p>"
   ]
  },
  {
   "cell_type": "markdown",
   "metadata": {
    "slideshow": {
     "slide_type": "fragment"
    }
   },
   "source": [
    "💻 Calculating the OLS estimator by hand first and then using the highly optimized ```lm``` command."
   ]
  },
  {
   "cell_type": "code",
   "execution_count": 17,
   "metadata": {
    "slideshow": {
     "slide_type": "fragment"
    }
   },
   "outputs": [
    {
     "data": {
      "text/plain": [
       "array([[ 1.26516153e+01],\n",
       "       [-4.50332967e-01],\n",
       "       [-2.27375247e-01],\n",
       "       [-1.12651464e-02],\n",
       "       [ 9.89982473e-02],\n",
       "       [-4.88052487e-02],\n",
       "       [ 1.14693349e-02],\n",
       "       [-4.04184528e-02],\n",
       "       [-2.82684469e-02]])"
      ]
     },
     "execution_count": 17,
     "metadata": {},
     "output_type": "execute_result"
    }
   ],
   "source": [
    "## calculating OLS by hand\n",
    "%R solve(t(X)%*%X)%*%(t(X)%*%hprice2$lprice)"
   ]
  },
  {
   "cell_type": "code",
   "execution_count": 18,
   "metadata": {},
   "outputs": [
    {
     "name": "stdout",
     "output_type": "stream",
     "text": [
      "[[12.65161528]\n",
      " [-0.45033297]\n",
      " [-0.22737525]\n",
      " [-0.01126515]\n",
      " [ 0.09899825]\n",
      " [-0.04880525]\n",
      " [ 0.01146933]\n",
      " [-0.04041845]\n",
      " [-0.02826845]]\n"
     ]
    }
   ],
   "source": [
    "## calculating OLS by hand\n",
    "from numpy.linalg import inv\n",
    "\n",
    "np.set_printoptions(suppress=True)\n",
    "print(inv(X.transpose()@X)@X.transpose()@y)"
   ]
  },
  {
   "cell_type": "code",
   "execution_count": 19,
   "metadata": {
    "slideshow": {
     "slide_type": "fragment"
    }
   },
   "outputs": [
    {
     "data": {
      "text/plain": [
       "array([12.65161528, -0.45033297, -0.22737525, -0.01126515,  0.09899825,\n",
       "       -0.04880525,  0.01146933, -0.04041845, -0.02826845])"
      ]
     },
     "execution_count": 19,
     "metadata": {},
     "output_type": "execute_result"
    }
   ],
   "source": [
    "## calculating OLS using the `lm' command in R\n",
    "%R coef(lm(f,data=hprice2))"
   ]
  },
  {
   "cell_type": "code",
   "execution_count": 20,
   "metadata": {},
   "outputs": [
    {
     "name": "stdout",
     "output_type": "stream",
     "text": [
      "Intercept    12.651615\n",
      "lnox         -0.450333\n",
      "lproptax     -0.227375\n",
      "crime        -0.011265\n",
      "rooms         0.098998\n",
      "dist         -0.048805\n",
      "radial        0.011469\n",
      "stratio      -0.040418\n",
      "lowstat      -0.028268\n",
      "dtype: float64\n"
     ]
    }
   ],
   "source": [
    "## calculating OLS using the `formula' framework in statsmodels in Python\n",
    "import statsmodels.formula.api as smf\n",
    "ols = smf.ols(formula=f,data=hprice2).fit()\n",
    "print(ols.params)"
   ]
  },
  {
   "cell_type": "markdown",
   "metadata": {
    "slideshow": {
     "slide_type": "slide"
    }
   },
   "source": [
    "### The _Algebra_ of the OLS Estimator"
   ]
  },
  {
   "cell_type": "markdown",
   "metadata": {
    "slideshow": {
     "slide_type": "fragment"
    }
   },
   "source": [
    "💻 We now save the ```lm``` object and call it ```ols```"
   ]
  },
  {
   "cell_type": "code",
   "execution_count": 21,
   "metadata": {
    "slideshow": {
     "slide_type": "fragment"
    }
   },
   "outputs": [
    {
     "data": {
      "text/html": [
       "\n",
       "        <span>ListVector with 12 elements.</span>\n",
       "        <table>\n",
       "        <tbody>\n",
       "        \n",
       "          <tr>\n",
       "            <th>\n",
       "            coefficients\n",
       "            </th>\n",
       "            <td>\n",
       "            \n",
       "        <span>FloatVector with 9 elements.</span>\n",
       "        <table>\n",
       "        <tbody>\n",
       "          <tr>\n",
       "          \n",
       "            <td>\n",
       "            12.651615\n",
       "            </td>\n",
       "          \n",
       "            <td>\n",
       "            -0.450333\n",
       "            </td>\n",
       "          \n",
       "            <td>\n",
       "            -0.227375\n",
       "            </td>\n",
       "          \n",
       "            <td>\n",
       "            ...\n",
       "            </td>\n",
       "          \n",
       "            <td>\n",
       "            0.011469\n",
       "            </td>\n",
       "          \n",
       "            <td>\n",
       "            -0.040418\n",
       "            </td>\n",
       "          \n",
       "            <td>\n",
       "            -0.028268\n",
       "            </td>\n",
       "          \n",
       "          </tr>\n",
       "        </tbody>\n",
       "        </table>\n",
       "        \n",
       "            </td>\n",
       "          </tr>\n",
       "        \n",
       "          <tr>\n",
       "            <th>\n",
       "            residuals\n",
       "            </th>\n",
       "            <td>\n",
       "            \n",
       "        <span>FloatVector with 506 elements.</span>\n",
       "        <table>\n",
       "        <tbody>\n",
       "          <tr>\n",
       "          \n",
       "            <td>\n",
       "            -0.217217\n",
       "            </td>\n",
       "          \n",
       "            <td>\n",
       "            -0.165025\n",
       "            </td>\n",
       "          \n",
       "            <td>\n",
       "            0.089378\n",
       "            </td>\n",
       "          \n",
       "            <td>\n",
       "            ...\n",
       "            </td>\n",
       "          \n",
       "            <td>\n",
       "            -0.096076\n",
       "            </td>\n",
       "          \n",
       "            <td>\n",
       "            -0.125026\n",
       "            </td>\n",
       "          \n",
       "            <td>\n",
       "            -0.619569\n",
       "            </td>\n",
       "          \n",
       "          </tr>\n",
       "        </tbody>\n",
       "        </table>\n",
       "        \n",
       "            </td>\n",
       "          </tr>\n",
       "        \n",
       "          <tr>\n",
       "            <th>\n",
       "            effects\n",
       "            </th>\n",
       "            <td>\n",
       "            \n",
       "        <span>FloatVector with 506 elements.</span>\n",
       "        <table>\n",
       "        <tbody>\n",
       "          <tr>\n",
       "          \n",
       "            <td>\n",
       "            -223.618550\n",
       "            </td>\n",
       "          \n",
       "            <td>\n",
       "            -4.721404\n",
       "            </td>\n",
       "          \n",
       "            <td>\n",
       "            -2.627107\n",
       "            </td>\n",
       "          \n",
       "            <td>\n",
       "            ...\n",
       "            </td>\n",
       "          \n",
       "            <td>\n",
       "            -0.054015\n",
       "            </td>\n",
       "          \n",
       "            <td>\n",
       "            -0.081853\n",
       "            </td>\n",
       "          \n",
       "            <td>\n",
       "            -0.566554\n",
       "            </td>\n",
       "          \n",
       "          </tr>\n",
       "        </tbody>\n",
       "        </table>\n",
       "        \n",
       "            </td>\n",
       "          </tr>\n",
       "        \n",
       "          <tr>\n",
       "            <th>\n",
       "            ...\n",
       "            </th>\n",
       "            <td>\n",
       "            ...\n",
       "            </td>\n",
       "          </tr>\n",
       "        \n",
       "          <tr>\n",
       "            <th>\n",
       "            call\n",
       "            </th>\n",
       "            <td>\n",
       "            \n",
       "Call:\n",
       "lm(formula = f, data = hprice2)\n",
       "\n",
       "Coefficients:\n",
       "(Intercept)         lnox     lproptax        crime        rooms         dist  \n",
       "   12.65162     -0.45033     -0.22738     -0.01127      0.09900     -0.04881  \n",
       "     radial      stratio      lowstat  \n",
       "    0.01147     -0.04042     -0.02827  \n",
       "\n",
       "\n",
       "            </td>\n",
       "          </tr>\n",
       "        \n",
       "          <tr>\n",
       "            <th>\n",
       "            terms\n",
       "            </th>\n",
       "            <td>\n",
       "            lprice ~ lnox + lproptax + crime + rooms + dist + radial + stratio + \n",
       "    lowstat\n",
       "attr(,\"variables\")\n",
       "list(lprice, lnox, lproptax, crime, rooms, dist, radial, stratio, \n",
       "    lowstat)\n",
       "attr(,\"factors\")\n",
       "         lnox lproptax crime rooms dist radial stratio lowstat\n",
       "lprice      0        0     0     0    0      0       0       0\n",
       "lnox        1        0     0     0    0      0       0       0\n",
       "lproptax    0        1     0     0    0      0       0       0\n",
       "crime       0        0     1     0    0      0       0       0\n",
       "rooms       0        0     0     1    0      0       0       0\n",
       "dist        0        0     0     0    1      0       0       0\n",
       "radial      0        0     0     0    0      1       0       0\n",
       "stratio     0        0     0     0    0      0       1       0\n",
       "lowstat     0        0     0     0    0      0       0       1\n",
       "attr(,\"term.labels\")\n",
       "[1] \"lnox\"     \"lproptax\" \"crime\"    \"rooms\"    \"dist\"     \"radial\"   \"stratio\" \n",
       "[8] \"lowstat\" \n",
       "attr(,\"order\")\n",
       "[1] 1 1 1 1 1 1 1 1\n",
       "attr(,\"intercept\")\n",
       "[1] 1\n",
       "attr(,\"response\")\n",
       "[1] 1\n",
       "attr(,\".Environment\")\n",
       "<environment: R_GlobalEnv>\n",
       "attr(,\"predvars\")\n",
       "list(lprice, lnox, lproptax, crime, rooms, dist, radial, stratio, \n",
       "    lowstat)\n",
       "attr(,\"dataClasses\")\n",
       "   lprice      lnox  lproptax     crime     rooms      dist    radial   stratio \n",
       "\"numeric\" \"numeric\" \"numeric\" \"numeric\" \"numeric\" \"numeric\" \"numeric\" \"numeric\" \n",
       "  lowstat \n",
       "\"numeric\" \n",
       "\n",
       "            </td>\n",
       "          </tr>\n",
       "        \n",
       "          <tr>\n",
       "            <th>\n",
       "            model\n",
       "            </th>\n",
       "            <td>\n",
       "            \n",
       "        <span>R/rpy2 DataFrame (506 x 9)</span>\n",
       "        <table>\n",
       "          <thead>\n",
       "            <tr>\n",
       "              \n",
       "              <th>lprice</th>\n",
       "              \n",
       "              <th>lnox</th>\n",
       "              \n",
       "              <th>lproptax</th>\n",
       "              \n",
       "              <th>...</th>\n",
       "              \n",
       "              <th>radial</th>\n",
       "              \n",
       "              <th>stratio</th>\n",
       "              \n",
       "              <th>lowstat</th>\n",
       "              \n",
       "            </tr>\n",
       "          </thead>\n",
       "          <tbody>\n",
       "          \n",
       "          <tr>\n",
       "            \n",
       "            <td>\n",
       "              10.085809\n",
       "            </td>\n",
       "            \n",
       "            <td>\n",
       "              1.682688\n",
       "            </td>\n",
       "            \n",
       "            <td>\n",
       "              5.690360\n",
       "            </td>\n",
       "            \n",
       "            <td>\n",
       "              ...\n",
       "            </td>\n",
       "            \n",
       "            <td>\n",
       "              1\n",
       "            </td>\n",
       "            \n",
       "            <td>\n",
       "              15.300000\n",
       "            </td>\n",
       "            \n",
       "            <td>\n",
       "              4.980000\n",
       "            </td>\n",
       "            \n",
       "          </tr>\n",
       "          \n",
       "          <tr>\n",
       "            \n",
       "            <td>\n",
       "              9.980402\n",
       "            </td>\n",
       "            \n",
       "            <td>\n",
       "              1.545433\n",
       "            </td>\n",
       "            \n",
       "            <td>\n",
       "              5.488938\n",
       "            </td>\n",
       "            \n",
       "            <td>\n",
       "              \n",
       "            </td>\n",
       "            \n",
       "            <td>\n",
       "              2\n",
       "            </td>\n",
       "            \n",
       "            <td>\n",
       "              17.799999\n",
       "            </td>\n",
       "            \n",
       "            <td>\n",
       "              9.140000\n",
       "            </td>\n",
       "            \n",
       "          </tr>\n",
       "          \n",
       "          <tr>\n",
       "            \n",
       "            <td>\n",
       "              10.454495\n",
       "            </td>\n",
       "            \n",
       "            <td>\n",
       "              1.545433\n",
       "            </td>\n",
       "            \n",
       "            <td>\n",
       "              5.488938\n",
       "            </td>\n",
       "            \n",
       "            <td>\n",
       "              \n",
       "            </td>\n",
       "            \n",
       "            <td>\n",
       "              2\n",
       "            </td>\n",
       "            \n",
       "            <td>\n",
       "              17.799999\n",
       "            </td>\n",
       "            \n",
       "            <td>\n",
       "              4.030000\n",
       "            </td>\n",
       "            \n",
       "          </tr>\n",
       "          \n",
       "          <tr>\n",
       "            \n",
       "            <td>\n",
       "              10.416311\n",
       "            </td>\n",
       "            \n",
       "            <td>\n",
       "              1.521699\n",
       "            </td>\n",
       "            \n",
       "            <td>\n",
       "              5.402678\n",
       "            </td>\n",
       "            \n",
       "            <td>\n",
       "              \n",
       "            </td>\n",
       "            \n",
       "            <td>\n",
       "              3\n",
       "            </td>\n",
       "            \n",
       "            <td>\n",
       "              18.700001\n",
       "            </td>\n",
       "            \n",
       "            <td>\n",
       "              2.940000\n",
       "            </td>\n",
       "            \n",
       "          </tr>\n",
       "          \n",
       "          <tr>\n",
       "            \n",
       "            <td>\n",
       "              ...\n",
       "            </td>\n",
       "            \n",
       "            <td>\n",
       "              ...\n",
       "            </td>\n",
       "            \n",
       "            <td>\n",
       "              ...\n",
       "            </td>\n",
       "            \n",
       "            <td>\n",
       "              \n",
       "            </td>\n",
       "            \n",
       "            <td>\n",
       "              ...\n",
       "            </td>\n",
       "            \n",
       "            <td>\n",
       "              ...\n",
       "            </td>\n",
       "            \n",
       "            <td>\n",
       "              ...\n",
       "            </td>\n",
       "            \n",
       "          </tr>\n",
       "          \n",
       "          <tr>\n",
       "            \n",
       "            <td>\n",
       "              9.933046\n",
       "            </td>\n",
       "            \n",
       "            <td>\n",
       "              1.745715\n",
       "            </td>\n",
       "            \n",
       "            <td>\n",
       "              5.609472\n",
       "            </td>\n",
       "            \n",
       "            <td>\n",
       "              \n",
       "            </td>\n",
       "            \n",
       "            <td>\n",
       "              1\n",
       "            </td>\n",
       "            \n",
       "            <td>\n",
       "              21.000000\n",
       "            </td>\n",
       "            \n",
       "            <td>\n",
       "              9.080000\n",
       "            </td>\n",
       "            \n",
       "          </tr>\n",
       "          \n",
       "          <tr>\n",
       "            \n",
       "            <td>\n",
       "              10.081592\n",
       "            </td>\n",
       "            \n",
       "            <td>\n",
       "              1.745715\n",
       "            </td>\n",
       "            \n",
       "            <td>\n",
       "              5.609472\n",
       "            </td>\n",
       "            \n",
       "            <td>\n",
       "              \n",
       "            </td>\n",
       "            \n",
       "            <td>\n",
       "              1\n",
       "            </td>\n",
       "            \n",
       "            <td>\n",
       "              21.000000\n",
       "            </td>\n",
       "            \n",
       "            <td>\n",
       "              5.640000\n",
       "            </td>\n",
       "            \n",
       "          </tr>\n",
       "          \n",
       "          <tr>\n",
       "            \n",
       "            <td>\n",
       "              9.998797\n",
       "            </td>\n",
       "            \n",
       "            <td>\n",
       "              1.745715\n",
       "            </td>\n",
       "            \n",
       "            <td>\n",
       "              5.609472\n",
       "            </td>\n",
       "            \n",
       "            <td>\n",
       "              \n",
       "            </td>\n",
       "            \n",
       "            <td>\n",
       "              1\n",
       "            </td>\n",
       "            \n",
       "            <td>\n",
       "              21.000000\n",
       "            </td>\n",
       "            \n",
       "            <td>\n",
       "              6.480000\n",
       "            </td>\n",
       "            \n",
       "          </tr>\n",
       "          \n",
       "          <tr>\n",
       "            \n",
       "            <td>\n",
       "              9.384294\n",
       "            </td>\n",
       "            \n",
       "            <td>\n",
       "              1.745715\n",
       "            </td>\n",
       "            \n",
       "            <td>\n",
       "              5.609472\n",
       "            </td>\n",
       "            \n",
       "            <td>\n",
       "              \n",
       "            </td>\n",
       "            \n",
       "            <td>\n",
       "              1\n",
       "            </td>\n",
       "            \n",
       "            <td>\n",
       "              21.000000\n",
       "            </td>\n",
       "            \n",
       "            <td>\n",
       "              7.880000\n",
       "            </td>\n",
       "            \n",
       "          </tr>\n",
       "          \n",
       "          </tbody>\n",
       "        </table>\n",
       "    \n",
       "            </td>\n",
       "          </tr>\n",
       "        \n",
       "        </tbody>\n",
       "        </table>\n",
       "        "
      ],
      "text/plain": [
       "<rpy2.robjects.vectors.ListVector object at 0x7fbe824743c0> [RTYPES.VECSXP]\n",
       "R classes: ('lm',)\n",
       "[FloatSexp..., FloatSexp..., FloatSexp..., IntSexpVe..., ..., ListSexpV..., LangSexpV..., LangSexpV..., ListSexpV...]\n",
       "  coefficients: <class 'rpy2.robjects.vectors.FloatVector'>\n",
       "  <rpy2.robjects.vectors.FloatVector object at 0x7fbe8246d370> [RTYPES.REALSXP]\n",
       "R classes: ('numeric',)\n",
       "[12.651615, -0.450333, -0.227375, -0.011265, ..., -0.048805, 0.011469, -0.040418, -0.028268]\n",
       "  residuals: <class 'rpy2.robjects.vectors.FloatVector'>\n",
       "  <rpy2.robjects.vectors.FloatVector object at 0x7fbe82478fa0> [RTYPES.REALSXP]\n",
       "R classes: ('numeric',)\n",
       "[-0.217217, -0.165025, 0.089378, 0.086061, ..., -0.056563, -0.096076, -0.125026, -0.619569]\n",
       "  effects: <class 'rpy2.robjects.vectors.FloatVector'>\n",
       "  <rpy2.robjects.vectors.FloatVector object at 0x7fbe82488410> [RTYPES.REALSXP]\n",
       "R classes: ('numeric',)\n",
       "[-223.618550, -4.721404, -2.627107, 2.275712, ..., -0.007135, -0.054015, -0.081853, -0.566554]\n",
       "  rank: <class 'rpy2.robjects.vectors.IntVector'>\n",
       "  <rpy2.robjects.vectors.IntVector object at 0x7fbe824785a0> [RTYPES.INTSXP]\n",
       "R classes: ('integer',)\n",
       "[9]\n",
       "...\n",
       "<rpy2.robjects.vectors.ListVector object at 0x7fbe824743c0> [RTYPES.VECSXP]\n",
       "R classes: ('lm',)\n",
       "[FloatSexp..., FloatSexp..., FloatSexp..., IntSexpVe..., ..., ListSexpV..., LangSexpV..., LangSexpV..., ListSexpV...]\n",
       "  qr: <class 'rpy2.robjects.language.LangVector'>\n",
       "  Rlang( lm(formula = f, data = hprice2) )\n",
       "  df.residual: <class 'rpy2.robjects.Formula'>\n",
       "  <rpy2.robjects.Formula object at 0x7fbe887c55f0> [RTYPES.LANGSXP]\n",
       "R classes: ('terms', 'formula')\n",
       "<rpy2.robjects.vectors.ListVector object at 0x7fbe824743c0> [RTYPES.VECSXP]\n",
       "R classes: ('lm',)\n",
       "[FloatSexp..., FloatSexp..., FloatSexp..., IntSexpVe..., ..., ListSexpV..., LangSexpV..., LangSexpV..., ListSexpV...]"
      ]
     },
     "execution_count": 21,
     "metadata": {},
     "output_type": "execute_result"
    }
   ],
   "source": [
    "%R ols <- lm(f,data=hprice2)"
   ]
  },
  {
   "cell_type": "code",
   "execution_count": 22,
   "metadata": {},
   "outputs": [],
   "source": [
    "ols = smf.ols(formula=f,data=hprice2).fit()"
   ]
  },
  {
   "cell_type": "markdown",
   "metadata": {
    "slideshow": {
     "slide_type": "fragment"
    }
   },
   "source": [
    "*Fitted Values*: $\\widehat{\\mathbf{y}}=\\mathbf{X}\\widehat{\\boldsymbol{\\beta}}$.\n",
    "\n",
    "*Residuals*: $\\widehat{\\mathbf{e}}=\\mathbf{y}-\\mathbf{X} \\widehat{\\boldsymbol{\\beta}}$."
   ]
  },
  {
   "cell_type": "code",
   "execution_count": 23,
   "metadata": {
    "slideshow": {
     "slide_type": "fragment"
    }
   },
   "outputs": [
    {
     "data": {
      "text/html": [
       "<div>\n",
       "<style scoped>\n",
       "    .dataframe tbody tr th:only-of-type {\n",
       "        vertical-align: middle;\n",
       "    }\n",
       "\n",
       "    .dataframe tbody tr th {\n",
       "        vertical-align: top;\n",
       "    }\n",
       "\n",
       "    .dataframe thead th {\n",
       "        text-align: right;\n",
       "    }\n",
       "</style>\n",
       "<table border=\"1\" class=\"dataframe\">\n",
       "  <thead>\n",
       "    <tr style=\"text-align: right;\">\n",
       "      <th></th>\n",
       "      <th>y</th>\n",
       "      <th>y.hat</th>\n",
       "      <th>e.hat</th>\n",
       "    </tr>\n",
       "  </thead>\n",
       "  <tbody>\n",
       "    <tr>\n",
       "      <th>1</th>\n",
       "      <td>10.085809</td>\n",
       "      <td>10.303026</td>\n",
       "      <td>-0.217217</td>\n",
       "    </tr>\n",
       "    <tr>\n",
       "      <th>2</th>\n",
       "      <td>9.980402</td>\n",
       "      <td>10.145427</td>\n",
       "      <td>-0.165025</td>\n",
       "    </tr>\n",
       "    <tr>\n",
       "      <th>3</th>\n",
       "      <td>10.454495</td>\n",
       "      <td>10.365117</td>\n",
       "      <td>0.089378</td>\n",
       "    </tr>\n",
       "    <tr>\n",
       "      <th>4</th>\n",
       "      <td>10.416311</td>\n",
       "      <td>10.330250</td>\n",
       "      <td>0.086061</td>\n",
       "    </tr>\n",
       "    <tr>\n",
       "      <th>5</th>\n",
       "      <td>10.496787</td>\n",
       "      <td>10.277121</td>\n",
       "      <td>0.219666</td>\n",
       "    </tr>\n",
       "    <tr>\n",
       "      <th>6</th>\n",
       "      <td>10.264688</td>\n",
       "      <td>10.209674</td>\n",
       "      <td>0.055013</td>\n",
       "    </tr>\n",
       "  </tbody>\n",
       "</table>\n",
       "</div>"
      ],
      "text/plain": [
       "           y      y.hat     e.hat\n",
       "1  10.085809  10.303026 -0.217217\n",
       "2   9.980402  10.145427 -0.165025\n",
       "3  10.454495  10.365117  0.089378\n",
       "4  10.416311  10.330250  0.086061\n",
       "5  10.496787  10.277121  0.219666\n",
       "6  10.264688  10.209674  0.055013"
      ]
     },
     "execution_count": 23,
     "metadata": {},
     "output_type": "execute_result"
    }
   ],
   "source": [
    "## OLS: printing the first 6 outcomes, fitted values, & residuals\n",
    "%R head(data.frame(y=hprice2$lprice,y.hat=fitted(ols),e.hat=resid(ols)))"
   ]
  },
  {
   "cell_type": "code",
   "execution_count": 24,
   "metadata": {},
   "outputs": [
    {
     "data": {
      "text/html": [
       "<div>\n",
       "<style scoped>\n",
       "    .dataframe tbody tr th:only-of-type {\n",
       "        vertical-align: middle;\n",
       "    }\n",
       "\n",
       "    .dataframe tbody tr th {\n",
       "        vertical-align: top;\n",
       "    }\n",
       "\n",
       "    .dataframe thead th {\n",
       "        text-align: right;\n",
       "    }\n",
       "</style>\n",
       "<table border=\"1\" class=\"dataframe\">\n",
       "  <thead>\n",
       "    <tr style=\"text-align: right;\">\n",
       "      <th></th>\n",
       "      <th>y</th>\n",
       "      <th>y_hat</th>\n",
       "      <th>e_hat</th>\n",
       "    </tr>\n",
       "  </thead>\n",
       "  <tbody>\n",
       "    <tr>\n",
       "      <th>0</th>\n",
       "      <td>10.085809</td>\n",
       "      <td>10.303026</td>\n",
       "      <td>-0.217217</td>\n",
       "    </tr>\n",
       "    <tr>\n",
       "      <th>1</th>\n",
       "      <td>9.980402</td>\n",
       "      <td>10.145427</td>\n",
       "      <td>-0.165025</td>\n",
       "    </tr>\n",
       "    <tr>\n",
       "      <th>2</th>\n",
       "      <td>10.454495</td>\n",
       "      <td>10.365117</td>\n",
       "      <td>0.089378</td>\n",
       "    </tr>\n",
       "    <tr>\n",
       "      <th>3</th>\n",
       "      <td>10.416311</td>\n",
       "      <td>10.330250</td>\n",
       "      <td>0.086061</td>\n",
       "    </tr>\n",
       "    <tr>\n",
       "      <th>4</th>\n",
       "      <td>10.496787</td>\n",
       "      <td>10.277121</td>\n",
       "      <td>0.219666</td>\n",
       "    </tr>\n",
       "    <tr>\n",
       "      <th>5</th>\n",
       "      <td>10.264688</td>\n",
       "      <td>10.209674</td>\n",
       "      <td>0.055013</td>\n",
       "    </tr>\n",
       "  </tbody>\n",
       "</table>\n",
       "</div>"
      ],
      "text/plain": [
       "           y      y_hat     e_hat\n",
       "0  10.085809  10.303026 -0.217217\n",
       "1   9.980402  10.145427 -0.165025\n",
       "2  10.454495  10.365117  0.089378\n",
       "3  10.416311  10.330250  0.086061\n",
       "4  10.496787  10.277121  0.219666\n",
       "5  10.264688  10.209674  0.055013"
      ]
     },
     "execution_count": 24,
     "metadata": {},
     "output_type": "execute_result"
    }
   ],
   "source": [
    "## OLS: printing the first 6 outcomes, fitted values, & residuals\n",
    "import pandas as pd\n",
    "pd.DataFrame({'y':hprice2['lprice'],'y_hat':ols.fittedvalues.values,'e_hat':ols.resid}).head(6)"
   ]
  },
  {
   "cell_type": "markdown",
   "metadata": {
    "slideshow": {
     "slide_type": "subslide"
    }
   },
   "source": [
    "*Orthogonality*: $\\mathbf{X}^{\\prime}\\widehat{\\mathbf{e}}=\\mathbf{0}$.\n",
    "\n",
    "✏️ This follows from $\\left.  \\partial \\mathrm{SSE}(\\mathbf{b})/\\partial\\mathbf{b}\\right\\vert _{\\mathbf{b}=\\widehat{\\boldsymbol{\\beta}}\n",
    "}=\\mathbf{0}$, since $$-2\\mathbf{X}^{\\prime}(\\mathbf{y}-\\mathbf{X\\widehat{\\boldsymbol{\\beta}}})=-2\\mathbf{X}^{\\prime}\\widehat{\\mathbf{e}}=\\mathbf{0}$$"
   ]
  },
  {
   "cell_type": "code",
   "execution_count": 25,
   "metadata": {
    "slideshow": {
     "slide_type": "fragment"
    }
   },
   "outputs": [
    {
     "data": {
      "text/plain": [
       "array([[-0.],\n",
       "       [ 0.],\n",
       "       [ 0.],\n",
       "       [-0.],\n",
       "       [-0.],\n",
       "       [-0.],\n",
       "       [ 0.],\n",
       "       [-0.],\n",
       "       [-0.]])"
      ]
     },
     "execution_count": 25,
     "metadata": {},
     "output_type": "execute_result"
    }
   ],
   "source": [
    "## OLS: showing the orthogonality of the residuals and predictors\n",
    "%R round(t(X)%*%resid(ols))"
   ]
  },
  {
   "cell_type": "code",
   "execution_count": 26,
   "metadata": {},
   "outputs": [
    {
     "data": {
      "text/plain": [
       "array([0., 0., 0., 0., 0., 0., 0., 0., 0.])"
      ]
     },
     "execution_count": 26,
     "metadata": {},
     "output_type": "execute_result"
    }
   ],
   "source": [
    "## OLS: showing the orthogonality of the residuals and predictors\n",
    "np.round(X.transpose()@ols.resid)"
   ]
  },
  {
   "cell_type": "markdown",
   "metadata": {
    "slideshow": {
     "slide_type": "subslide"
    }
   },
   "source": [
    "*Analysis-of-variance*:\n",
    "\n",
    "$$\n",
    "\\begin{aligned}\n",
    "\\sum_{i=1}^{n}\\left(y_{i}-\\bar{y}\\right)^{2}&=\\sum_{i=1}^{n}\\left(\\widehat{y}_{i}-\\bar{y}\\right)^{2}+\\sum_{i=1}^{n} \\widehat{e}_{i}^{2},\\\\\n",
    "\\text{Total Sum of Squares}&=\\text{Explained Sum of Squares} + \\text{Residual Sum of Squares},\\\\\n",
    "\\left(\\mathbf{y}-\\boldsymbol{\\iota}_{n} \\bar{y}\\right)^{\\prime}\\left(\\mathbf{y}-\\boldsymbol{\\iota}_{n} \\bar{y}\\right)&=\\left(\\widehat{\\mathbf{y}}-\\boldsymbol{\\iota}_{n} \\bar{y}\\right)^{\\prime}\\left(\\widehat{\\mathbf{y}}-\\boldsymbol{\\iota}_{n} \\bar{y}\\right)+\\widehat{\\mathbf{e}}^{\\prime} \\widehat{\\mathbf{e}}.\n",
    "\\end{aligned}\n",
    "$$\n",
    "\n",
    "where $\\boldsymbol{\\iota}_n$ is a $n\\times 1$ vector of ones."
   ]
  },
  {
   "cell_type": "code",
   "execution_count": 27,
   "metadata": {
    "slideshow": {
     "slide_type": "fragment"
    }
   },
   "outputs": [
    {
     "name": "stdout",
     "output_type": "stream",
     "text": [
      "[1] 84.58222\n",
      "[1] 64.89315\n",
      "[1] 19.68908\n"
     ]
    },
    {
     "data": {
      "text/plain": [
       "array([19.6890755])"
      ]
     },
     "execution_count": 27,
     "metadata": {},
     "output_type": "execute_result"
    }
   ],
   "source": [
    "## OLS: total sum of squares\n",
    "%R print(sum(anova(ols)[,2]))\n",
    "\n",
    "## OLS: explained sum of squares\n",
    "%R print(sum(anova(ols)[-9,2]))\n",
    "\n",
    "## OLS: residual sum of squares\n",
    "%R print(sum(anova(ols)[9,2]))"
   ]
  },
  {
   "cell_type": "code",
   "execution_count": 28,
   "metadata": {},
   "outputs": [
    {
     "name": "stdout",
     "output_type": "stream",
     "text": [
      "84.58222496430884\n",
      "64.89314946080448\n",
      "19.689075503504355\n"
     ]
    }
   ],
   "source": [
    "## OLS: total sum of squares\n",
    "print(ols.centered_tss)\n",
    "\n",
    "## OLS: explained sum of squares\n",
    "print(ols.ess)\n",
    "\n",
    "## OLS: residual sum of squares\n",
    "print(ols.ssr)"
   ]
  },
  {
   "cell_type": "markdown",
   "metadata": {
    "slideshow": {
     "slide_type": "subslide"
    }
   },
   "source": [
    "*Coefficient of Determination* (*$R^2$*):\n",
    "\n",
    "$$\n",
    "R^{2}=\\frac{\\sum_{i=1}^{n}\\left(\\widehat{y}_{i}-\\bar{y}\\right)^{2}}{\\sum_{i=1}^{n}\\left(y_{i}-\\bar{y}\\right)^{2}}=1-\\frac{\\sum_{i=1}^{n} \\widehat{e}_{i}^{2}}{\\sum_{i=1}^{n}\\left(y_{i}-\\bar{y}\\right)^{2}}.\n",
    "$$\n",
    "\n",
    "✏️ More generally the $R^2$ in most models (linear and *non-linear*) is defined as $(\\widehat{\\text{corr}(\\widehat{y},y)})^2$, i.e., the squared of the sample correlation coefficient between the true values and the fitted values."
   ]
  },
  {
   "cell_type": "code",
   "execution_count": 29,
   "metadata": {
    "slideshow": {
     "slide_type": "fragment"
    }
   },
   "outputs": [
    {
     "name": "stdout",
     "output_type": "stream",
     "text": [
      "[1] 0.7672197\n",
      "[1] 0.7672197\n"
     ]
    },
    {
     "data": {
      "text/plain": [
       "array([0.7672197])"
      ]
     },
     "execution_count": 29,
     "metadata": {},
     "output_type": "execute_result"
    }
   ],
   "source": [
    "## OLS: R2 (manually)\n",
    "%R print(sum(anova(ols)[-9,2])/sum(anova(ols)[,2]))\n",
    "\n",
    "## OLS: R2 (from lm)\n",
    "%R print(summary(ols)$r.squared)"
   ]
  },
  {
   "cell_type": "code",
   "execution_count": 30,
   "metadata": {},
   "outputs": [
    {
     "name": "stdout",
     "output_type": "stream",
     "text": [
      "0.7672197023451138\n"
     ]
    },
    {
     "data": {
      "text/plain": [
       "0.7672197023451138"
      ]
     },
     "execution_count": 30,
     "metadata": {},
     "output_type": "execute_result"
    }
   ],
   "source": [
    "## OLS: R2 (manually)\n",
    "print(ols.ess/ols.centered_tss)\n",
    "\n",
    "## OLS: R2 (from lm)\n",
    "ols.rsquared"
   ]
  },
  {
   "cell_type": "markdown",
   "metadata": {
    "slideshow": {
     "slide_type": "subslide"
    }
   },
   "source": [
    "*Adjusted R-squared* ($\\overline{R}^2$):\n",
    "\n",
    "$$\n",
    "\\overline{R}^{2}=1-\\frac{(n-1) \\sum_{i=1}^{n} \\widehat{e}_{i}^{2}}{(n-k-1) \\sum_{i=1}^{n}\\left(y_{i}-\\bar{y}\\right)^{2}}\n",
    "$$\n",
    "\n",
    "✏️ Unlike the $R^2$ which cannot decrease as $k$ increases, $\\overline{R}^2$ can either increase _or_ decrease with $k$."
   ]
  },
  {
   "cell_type": "code",
   "execution_count": 31,
   "metadata": {
    "slideshow": {
     "slide_type": "fragment"
    }
   },
   "outputs": [
    {
     "name": "stdout",
     "output_type": "stream",
     "text": [
      "[1] 0.7634727\n",
      "[1] 0.7634727\n"
     ]
    },
    {
     "data": {
      "text/plain": [
       "array([0.76347274])"
      ]
     },
     "execution_count": 31,
     "metadata": {},
     "output_type": "execute_result"
    }
   ],
   "source": [
    "## OLS: adj. R2 (manually)\n",
    "%R print(1-(sum(anova(ols)[9,2])/sum(anova(ols)[,2]))*(sum(anova(ols)[,1])/anova(ols)[9,1]))\n",
    "\n",
    "## OLS: adj. R2 (from lm)\n",
    "%R print(summary(ols)$adj.r.squared)"
   ]
  },
  {
   "cell_type": "code",
   "execution_count": 32,
   "metadata": {},
   "outputs": [
    {
     "name": "stdout",
     "output_type": "stream",
     "text": [
      "0.7634727357832645\n"
     ]
    },
    {
     "data": {
      "text/plain": [
       "0.7634727357832645"
      ]
     },
     "execution_count": 32,
     "metadata": {},
     "output_type": "execute_result"
    }
   ],
   "source": [
    "## OLS: adj. R2 (manually)\n",
    "print(1-((ols.nobs-1)/ols.df_resid)*(ols.ssr/ols.centered_tss))\n",
    "\n",
    "## OLS: adj. R2 (from lm)\n",
    "ols.rsquared_adj"
   ]
  },
  {
   "cell_type": "markdown",
   "metadata": {
    "slideshow": {
     "slide_type": "subslide"
    }
   },
   "source": [
    "*Leverage Values*:\n",
    "\n",
    "The [leverage values](https://en.wikipedia.org/wiki/Leverage_(statistics)) for the design matrix $\\mathbf{X}$ are the [diagonal](https://en.wikipedia.org/wiki/Main_diagonal) elements of the matrix $\\mathbf{X}\\left(\\mathbf{X}^{\\prime} \\mathbf{X}\\right)^{-1} \\mathbf{X}^{\\prime}$. There are $n$ leverage values, and are typically written as $h_{i i}$ for $i=1, \\ldots, n$. since\n",
    "\n",
    "$$\n",
    "\\mathbf{X}\\left(\\mathbf{X}^{\\prime} \\mathbf{X}\\right)^{-1} \\mathbf{X}^{\\prime}=\n",
    "\\left(\\begin{array}{c}{\\mathbf{x}_{1}^{\\prime}} \\\\ {\\mathbf{x}_{2}^{\\prime}} \\\\ {\\vdots} \\\\ {\\mathbf{x}_{n}^{\\prime}}\\end{array}\\right)\\left(\\mathbf{X}^{\\prime} \\mathbf{X}\\right)^{-1}\\left(\\begin{array}{llll}{\\mathbf{x}_{1}} & {\\mathbf{x}_{2}} & {\\cdots} & {\\mathbf{x}_{n}}\\end{array}\\right)\n",
    "$$\n",
    "\n",
    "they are\n",
    "$$\n",
    "h_{i i}=\\mathbf{x}_{i}^{\\prime}\\left(\\mathbf{X}^{\\prime} \\mathbf{X}\\right)^{-1} \\mathbf{x}_{i}.\n",
    "$$"
   ]
  },
  {
   "cell_type": "code",
   "execution_count": 33,
   "metadata": {
    "slideshow": {
     "slide_type": "fragment"
    }
   },
   "outputs": [
    {
     "data": {
      "text/plain": [
       "array([0.00972777, 0.00465545, 0.00745927, 0.01159637, 0.01147144,\n",
       "       0.01015462])"
      ]
     },
     "execution_count": 33,
     "metadata": {},
     "output_type": "execute_result"
    }
   ],
   "source": [
    "## OLS: leverage values\n",
    "%R hii <- hatvalues(ols)\n",
    "%R head(hii)"
   ]
  },
  {
   "cell_type": "code",
   "execution_count": 34,
   "metadata": {},
   "outputs": [
    {
     "data": {
      "text/plain": [
       "array([0.00972777, 0.00465545, 0.00745927, 0.01159637, 0.01147144])"
      ]
     },
     "execution_count": 34,
     "metadata": {},
     "output_type": "execute_result"
    }
   ],
   "source": [
    "## OLS: leverage values\n",
    "from statsmodels.stats.outliers_influence import OLSInfluence\n",
    "\n",
    "hii = OLSInfluence(ols).hat_matrix_diag\n",
    "hii[0:5,]"
   ]
  },
  {
   "cell_type": "markdown",
   "metadata": {
    "slideshow": {
     "slide_type": "subslide"
    }
   },
   "source": [
    "*Prediction Error* (leave-one-out residual or prediction residual):\n",
    "\n",
    "$$\\widetilde{e}_{i}=y_{i}-\\widetilde{y}_{i},$$ \n",
    "\n",
    "where we use the leave-one-out predicted value for $y_i$, i.e.,\n",
    "\n",
    "$$\n",
    "\\widetilde{y}_{i}=\\mathbf{x}_{i}^{\\prime} \\widehat{\\boldsymbol{\\beta}}_{(-i)},$$\n",
    "\n",
    "and\n",
    "\n",
    "$$\n",
    "\\begin{aligned} \\widehat{\\boldsymbol{\\beta}}_{(-i)} &=\\left(\\sum_{j \\neq i} \\mathbf{x}_{j} \\mathbf{x}_{j}^{\\prime}\\right)^{-1}\\left(\\sum_{j \\neq i} \\mathbf{x}_{j} y_{j}\\right) \\\\ &=\\left(\\mathbf{X}^{\\prime} \\mathbf{X}-\\mathbf{x}_{i} \\mathbf{x}_{i}^{\\prime}\\right)^{-1}\\left(\\mathbf{X}^{\\prime} \\mathbf{y}-\\mathbf{x}_{i} y_{i}\\right) \\\\ &=\\left(\\mathbf{X}_{(-i)}^{\\prime} \\mathbf{X}_{(-i)}\\right)^{-1} \\mathbf{X}_{(-i)}^{\\prime} \\mathbf{y}_{(-i)}. \\end{aligned}\n",
    "$$\n",
    "\n",
    "Here, $\\mathbf{X}_{(-i)}$ and $\\mathbf{y}_{(-i)}$ are the data matrices omitting the $i$th row. The notation $\\widehat{\\boldsymbol{\\beta}}_{(-i)}$ or $\\widehat{\\boldsymbol{\\beta}}_{-i}$ is commonly\n",
    "used to denote an estimator with the $i$th observation omitted."
   ]
  },
  {
   "cell_type": "markdown",
   "metadata": {
    "slideshow": {
     "slide_type": "subslide"
    }
   },
   "source": [
    "✏️ There is a leave-one-out estimator for each observation, $i=1,\\ldots,n$ so we have $n$ such estimators, and one can show that\n",
    "\n",
    "$$\n",
    "\\widehat{\\boldsymbol{\\beta}}_{(-i)}=\\widehat{\\boldsymbol{\\beta}}-\\left(\\mathbf{X}^{\\prime} \\mathbf{X}\\right)^{-1} \\mathbf{x}_{i} \\widetilde{e}_{i},\n",
    "$$\n",
    "\n",
    "and\n",
    "\n",
    "$$\n",
    "\\widetilde{e}_{i}=\\left(1-h_{i i}\\right)^{-1} \\widehat{e}_{i}.\n",
    "$$"
   ]
  },
  {
   "cell_type": "code",
   "execution_count": 35,
   "metadata": {
    "slideshow": {
     "slide_type": "fragment"
    }
   },
   "outputs": [
    {
     "data": {
      "text/plain": [
       "array([-0.21935093, -0.16579646,  0.09005014,  0.08707092,  0.2222148 ,\n",
       "        0.05557772,  0.02427339,  0.3929688 ,  0.26609114,  0.01653613,\n",
       "       -0.17277717, -0.11268626,  0.07033313,  0.01614417, -0.06937145,\n",
       "       -0.00137454,  0.09062426,  0.01979657,  0.11043849, -0.03473935,\n",
       "       -0.02897445,  0.10166097, -0.03065515, -0.00896624, -0.03623844,\n",
       "       -0.11133632,  0.00790438, -0.06970582, -0.02373774,  0.06031682,\n",
       "       -0.04535186, -0.22254142,  0.10662645, -0.15765348, -0.10702175,\n",
       "       -0.23223231, -0.11557105, -0.54854711,  0.07159079,  0.03476663,\n",
       "        0.05120792, -0.11262999, -0.07562519, -0.05708181, -0.13741705,\n",
       "       -0.20492115, -0.06711085, -0.11745484,  0.15949384,  0.02887645,\n",
       "       -0.0924543 , -0.18235369, -0.24108527,  0.10992122,  0.11405849,\n",
       "        0.17131592, -0.02805461,  0.2220009 ,  0.04354661, -0.08714798,\n",
       "       -0.01113158, -0.15183171, -0.07062033,  0.13695255,  0.31777821,\n",
       "       -0.20705265, -0.19211669, -0.00711814, -0.07184727, -0.0384413 ,\n",
       "       -0.07502741, -0.04823405, -0.13362975, -0.06638268, -0.0593537 ,\n",
       "       -0.10720307, -0.11038417, -0.10344115,  0.01126539, -0.11427225,\n",
       "       -0.00762677, -0.10108015, -0.04631975, -0.09113887, -0.05475165,\n",
       "       -0.07545328, -0.00260936, -0.186711  , -0.27137445, -0.07605634,\n",
       "       -0.17811735, -0.22073085, -0.18742906, -0.13215407, -0.20892206,\n",
       "       -0.03822551, -0.14425281,  0.06041643,  0.19252296,  0.02588589,\n",
       "        0.19327239,  0.10417152, -0.13778559,  0.00591576, -0.00288731,\n",
       "        0.10182407,  0.17115815,  0.05166082, -0.04960692,  0.05524642,\n",
       "        0.13209097, -0.06717809, -0.02535695, -0.00867166, -0.24433918,\n",
       "       -0.06144307, -0.0311609 , -0.16366788,  0.0436673 , -0.00716477,\n",
       "        0.77170529, -0.08542653,  0.0292001 ,  0.07594339, -0.06538068,\n",
       "       -0.02423725,  0.08253773,  0.07334009,  0.05615469,  0.00104117,\n",
       "        0.05410545,  0.09571717,  0.2183052 ,  0.16228282,  0.06732646,\n",
       "        0.13480945,  0.1222505 , -0.01905781, -0.03189608,  0.15711246,\n",
       "        0.06902025,  0.52579588,  0.05434455,  0.20683294,  0.04161667,\n",
       "        0.03281991, -0.11321195,  0.26869685,  0.41476851,  0.02431847,\n",
       "        0.09342537,  0.04429515, -0.21305583,  0.09597902, -0.11725806,\n",
       "       -0.18658915, -0.25894811,  0.24103187, -0.16356803, -0.05533512,\n",
       "       -0.09969687,  0.30652269,  0.28902504,  0.27623909, -0.01705623,\n",
       "        0.00411875,  0.33011762,  0.03774429, -0.04721199, -0.10497593,\n",
       "       -0.22020671, -0.18491955,  0.02983906, -0.19269281, -0.16156992,\n",
       "       -0.06645346, -0.09533165, -0.18662053, -0.0459242 ,  0.0592117 ,\n",
       "        0.11814669,  0.23208143,  0.04867231, -0.01605398,  0.11510238,\n",
       "        0.16566588,  0.27703768,  0.0078476 , -0.06424462,  0.05751775,\n",
       "        0.22632294,  0.0391838 ,  0.12260621, -0.02082864, -0.08665762,\n",
       "        0.19677287, -0.05595058, -0.00300055,  0.05925895,  0.27034028,\n",
       "        0.19086421, -0.11432656,  0.1882942 ,  0.14190729,  0.12806085,\n",
       "       -0.00803167,  0.04863263,  0.2243238 ,  0.17393205,  0.27347341,\n",
       "        0.12329021,  0.24661388,  0.12409768,  0.12072458,  0.61763693,\n",
       "        0.02543215,  0.00692125,  0.0487832 ,  0.03554601, -0.1264395 ,\n",
       "       -0.12600795,  0.13045915, -0.01888705,  0.03158937,  0.14642819,\n",
       "        0.24052033, -0.02111255, -0.01602512,  0.26274476, -0.02428902,\n",
       "        0.01117181, -0.04668117,  0.07090515,  0.26003578,  0.01273182,\n",
       "       -0.03478015, -0.05479003, -0.03606049, -0.18465059, -0.18576212,\n",
       "       -0.15123164, -0.13237631, -0.05829063, -0.16706291, -0.01775797,\n",
       "        0.20346748,  0.16817087,  0.01064088,  0.14113108,  0.09571582,\n",
       "        0.00594712, -0.03774925,  0.16211218,  0.41946872, -0.05251546,\n",
       "        0.0002279 ,  0.17797438,  0.12849796,  0.01100313, -0.14252047,\n",
       "        0.0212076 ,  0.1719697 ,  0.18024347, -0.03070478,  0.04694253,\n",
       "       -0.19636749,  0.09643936,  0.21167431,  0.04954557, -0.08454838,\n",
       "       -0.05018347, -0.09335056, -0.14898524,  0.09714158, -0.03684059,\n",
       "       -0.06420813,  0.04415135,  0.03406626, -0.00963204, -0.08436818,\n",
       "        0.0718074 , -0.04451482,  0.10762241,  0.13003233,  0.12317227,\n",
       "       -0.18900158,  0.02836399, -0.1328998 , -0.16964455, -0.03267529,\n",
       "       -0.11225453,  0.13765876, -0.07156822, -0.11258163, -0.14619048,\n",
       "       -0.02898284, -0.03927685,  0.00479249, -0.23708256, -0.05553963,\n",
       "       -0.15969736, -0.22201143, -0.05108687,  0.05867137,  0.1105691 ,\n",
       "       -0.04531266, -0.04495568, -0.12524331, -0.21879086, -0.12744716,\n",
       "       -0.1899853 , -0.1888155 , -0.14244118, -0.14676551, -0.02204756,\n",
       "       -0.2433976 ,  0.02789257,  0.08055782, -0.00548776,  0.01677381,\n",
       "       -0.04390839, -0.07815774, -0.13508582, -0.08638186, -0.01236449,\n",
       "       -0.02749939, -0.05149882,  0.12391488, -0.1266436 , -0.08801979,\n",
       "       -0.12047561, -0.1590546 , -0.1640823 , -0.06699908, -0.10668768,\n",
       "       -0.04658381, -0.09584106, -0.11082103, -0.11952252, -0.15540472,\n",
       "       -0.18346181,  0.09799757, -0.29700182, -0.04194382,  0.17346711,\n",
       "       -0.06066651, -0.00537552,  0.01355488, -0.04111461,  0.2144457 ,\n",
       "        0.10878927,  0.1715524 ,  0.04134055,  0.18029797,  0.15230307,\n",
       "        0.18049961,  0.16310892,  0.18390784,  0.23096691,  0.24110163,\n",
       "        0.17887077,  0.12550356,  0.13500951, -0.00394413, -0.35610132,\n",
       "        0.50097421,  0.28885373,  0.49321707,  0.7785825 ,  0.60563121,\n",
       "        0.55154896,  0.84531508,  0.87783935,  0.44690967,  0.70969133,\n",
       "       -0.22182568,  0.00095861, -0.17676473,  0.07905284, -0.27865367,\n",
       "        0.48073396, -0.28014559, -0.12530912, -0.02632645,  0.05775779,\n",
       "       -0.27107108,  0.19307065, -0.11087447,  0.09750326, -0.17560226,\n",
       "       -0.04286189,  0.39700782, -0.13394261, -0.22925686, -0.19628519,\n",
       "       -0.25633726, -0.26774842, -0.55787528, -0.43058159, -0.56960395,\n",
       "       -0.60978872, -0.70106281, -0.23303584, -0.35073884,  0.06320897,\n",
       "       -0.37577737,  0.14680203,  0.44560682,  0.27509112,  0.51883566,\n",
       "        0.16411312,  0.10027993,  0.79294363,  0.31494422,  0.31007937,\n",
       "       -0.41934017, -0.59068212,  0.08257802,  0.27020529, -0.52915817,\n",
       "       -0.01575523, -0.16594365,  0.20051754, -0.08060586, -0.34082908,\n",
       "       -0.3720586 , -0.51275889, -0.16820511, -0.29379868, -0.36506729,\n",
       "       -0.19226013, -0.19102924, -0.2699425 , -0.18467325, -0.30417017,\n",
       "        0.00282882, -0.43542316, -0.26047032, -0.07944059,  0.01048303,\n",
       "       -0.08431307,  0.1454053 ,  0.10511803,  0.01165874, -0.11439869,\n",
       "       -0.10081257, -0.07552672, -0.22669202, -0.07829748, -0.17486229,\n",
       "       -0.23408812, -0.10057382, -0.02378423, -0.00703349, -0.04728775,\n",
       "       -0.15608842, -0.17645151, -0.11957991, -0.08130018,  0.18107541,\n",
       "       -0.06147543, -0.01594904,  0.10996065,  0.01470855,  0.1788487 ,\n",
       "        0.129163  ,  0.14639473,  0.2056949 ,  0.14790595,  0.20469659,\n",
       "        0.10576328, -0.05324419,  0.16361586,  0.30611118, -0.12224736,\n",
       "       -0.09241328, -0.03809619,  0.02935424, -0.10807607,  0.16850126,\n",
       "        0.08349579, -0.02940666, -0.04210869,  0.06771639,  0.10062823,\n",
       "        0.03451213,  0.07600175,  0.04321826,  0.1171951 , -0.51874307,\n",
       "       -0.16111197, -0.05157924,  0.22963978,  0.09097437,  0.2325161 ,\n",
       "        0.33282229,  0.30323843, -0.00771149,  0.05993322, -0.02745417,\n",
       "       -0.13074265,  0.00695532, -0.05758672, -0.09837305, -0.12771992,\n",
       "       -0.63155525])"
      ]
     },
     "execution_count": 35,
     "metadata": {},
     "output_type": "execute_result"
    }
   ],
   "source": [
    "## OLS: original residuals\n",
    "%R e.hat <- resid(ols)\n",
    "\n",
    "## OLS: calculating the prediction error\n",
    "%R e.tilde <- resid(ols)/(1-hii)"
   ]
  },
  {
   "cell_type": "code",
   "execution_count": 36,
   "metadata": {},
   "outputs": [],
   "source": [
    "## OLS: original residuals\n",
    "e_hat = ols.resid\n",
    "\n",
    "## OLS: calculating the prediction error\n",
    "e_tilde = ols.resid/(1-hii)"
   ]
  },
  {
   "cell_type": "code",
   "execution_count": 37,
   "metadata": {
    "slideshow": {
     "slide_type": "fragment"
    }
   },
   "outputs": [
    {
     "data": {
      "text/html": [
       "<div>\n",
       "<style scoped>\n",
       "    .dataframe tbody tr th:only-of-type {\n",
       "        vertical-align: middle;\n",
       "    }\n",
       "\n",
       "    .dataframe tbody tr th {\n",
       "        vertical-align: top;\n",
       "    }\n",
       "\n",
       "    .dataframe thead th {\n",
       "        text-align: right;\n",
       "    }\n",
       "</style>\n",
       "<table border=\"1\" class=\"dataframe\">\n",
       "  <thead>\n",
       "    <tr style=\"text-align: right;\">\n",
       "      <th></th>\n",
       "      <th>beta.hat</th>\n",
       "      <th>beta.hat.i</th>\n",
       "    </tr>\n",
       "  </thead>\n",
       "  <tbody>\n",
       "    <tr>\n",
       "      <th>(Intercept)</th>\n",
       "      <td>12.651615</td>\n",
       "      <td>12.633795</td>\n",
       "    </tr>\n",
       "    <tr>\n",
       "      <th>lnox</th>\n",
       "      <td>-0.450333</td>\n",
       "      <td>-0.438075</td>\n",
       "    </tr>\n",
       "    <tr>\n",
       "      <th>lproptax</th>\n",
       "      <td>-0.227375</td>\n",
       "      <td>-0.227047</td>\n",
       "    </tr>\n",
       "    <tr>\n",
       "      <th>crime</th>\n",
       "      <td>-0.011265</td>\n",
       "      <td>-0.011239</td>\n",
       "    </tr>\n",
       "    <tr>\n",
       "      <th>rooms</th>\n",
       "      <td>0.098998</td>\n",
       "      <td>0.098922</td>\n",
       "    </tr>\n",
       "    <tr>\n",
       "      <th>dist</th>\n",
       "      <td>-0.048805</td>\n",
       "      <td>-0.048356</td>\n",
       "    </tr>\n",
       "    <tr>\n",
       "      <th>radial</th>\n",
       "      <td>0.011469</td>\n",
       "      <td>0.011339</td>\n",
       "    </tr>\n",
       "    <tr>\n",
       "      <th>stratio</th>\n",
       "      <td>-0.040418</td>\n",
       "      <td>-0.040631</td>\n",
       "    </tr>\n",
       "    <tr>\n",
       "      <th>lowstat</th>\n",
       "      <td>-0.028268</td>\n",
       "      <td>-0.028320</td>\n",
       "    </tr>\n",
       "  </tbody>\n",
       "</table>\n",
       "</div>"
      ],
      "text/plain": [
       "              beta.hat  beta.hat.i\n",
       "(Intercept)  12.651615   12.633795\n",
       "lnox         -0.450333   -0.438075\n",
       "lproptax     -0.227375   -0.227047\n",
       "crime        -0.011265   -0.011239\n",
       "rooms         0.098998    0.098922\n",
       "dist         -0.048805   -0.048356\n",
       "radial        0.011469    0.011339\n",
       "stratio      -0.040418   -0.040631\n",
       "lowstat      -0.028268   -0.028320"
      ]
     },
     "execution_count": 37,
     "metadata": {},
     "output_type": "execute_result"
    }
   ],
   "source": [
    "## OLS: manually re-calculating OLS without observation 156\n",
    "%R data.frame(beta.hat=coef(ols),beta.hat.i=coef(ols)-solve(t(X)%*%X)%*%X[156,]%*%e.tilde[156])"
   ]
  },
  {
   "cell_type": "code",
   "execution_count": 38,
   "metadata": {},
   "outputs": [
    {
     "data": {
      "text/html": [
       "<div>\n",
       "<style scoped>\n",
       "    .dataframe tbody tr th:only-of-type {\n",
       "        vertical-align: middle;\n",
       "    }\n",
       "\n",
       "    .dataframe tbody tr th {\n",
       "        vertical-align: top;\n",
       "    }\n",
       "\n",
       "    .dataframe thead th {\n",
       "        text-align: right;\n",
       "    }\n",
       "</style>\n",
       "<table border=\"1\" class=\"dataframe\">\n",
       "  <thead>\n",
       "    <tr style=\"text-align: right;\">\n",
       "      <th></th>\n",
       "      <th>beta_hat</th>\n",
       "      <th>beta_hat_i</th>\n",
       "    </tr>\n",
       "  </thead>\n",
       "  <tbody>\n",
       "    <tr>\n",
       "      <th>Intercept</th>\n",
       "      <td>12.651615</td>\n",
       "      <td>12.633795</td>\n",
       "    </tr>\n",
       "    <tr>\n",
       "      <th>lnox</th>\n",
       "      <td>-0.450333</td>\n",
       "      <td>-0.438075</td>\n",
       "    </tr>\n",
       "    <tr>\n",
       "      <th>lproptax</th>\n",
       "      <td>-0.227375</td>\n",
       "      <td>-0.227047</td>\n",
       "    </tr>\n",
       "    <tr>\n",
       "      <th>crime</th>\n",
       "      <td>-0.011265</td>\n",
       "      <td>-0.011239</td>\n",
       "    </tr>\n",
       "    <tr>\n",
       "      <th>rooms</th>\n",
       "      <td>0.098998</td>\n",
       "      <td>0.098922</td>\n",
       "    </tr>\n",
       "    <tr>\n",
       "      <th>dist</th>\n",
       "      <td>-0.048805</td>\n",
       "      <td>-0.048356</td>\n",
       "    </tr>\n",
       "    <tr>\n",
       "      <th>radial</th>\n",
       "      <td>0.011469</td>\n",
       "      <td>0.011339</td>\n",
       "    </tr>\n",
       "    <tr>\n",
       "      <th>stratio</th>\n",
       "      <td>-0.040418</td>\n",
       "      <td>-0.040631</td>\n",
       "    </tr>\n",
       "    <tr>\n",
       "      <th>lowstat</th>\n",
       "      <td>-0.028268</td>\n",
       "      <td>-0.028320</td>\n",
       "    </tr>\n",
       "  </tbody>\n",
       "</table>\n",
       "</div>"
      ],
      "text/plain": [
       "            beta_hat  beta_hat_i\n",
       "Intercept  12.651615   12.633795\n",
       "lnox       -0.450333   -0.438075\n",
       "lproptax   -0.227375   -0.227047\n",
       "crime      -0.011265   -0.011239\n",
       "rooms       0.098998    0.098922\n",
       "dist       -0.048805   -0.048356\n",
       "radial      0.011469    0.011339\n",
       "stratio    -0.040418   -0.040631\n",
       "lowstat    -0.028268   -0.028320"
      ]
     },
     "execution_count": 38,
     "metadata": {},
     "output_type": "execute_result"
    }
   ],
   "source": [
    "## OLS: manually re-calculating OLS without observation 156\n",
    "pd.DataFrame({'beta_hat':ols.params,\n",
    "           'beta_hat_i':ols.params-inv(X.transpose()@X)@(X[155,]*e_tilde[155])})"
   ]
  },
  {
   "cell_type": "markdown",
   "metadata": {
    "slideshow": {
     "slide_type": "subslide"
    }
   },
   "source": [
    "*Estimation of Error Variance*:\n",
    "\n",
    "The _unconditional_ error variance $\\sigma^2=E(e^2_{i})$ can be estimated as\n",
    "\n",
    "1. Estimator 1:\n",
    "\n",
    "$$s^{2}=\\frac{1}{n-k-1} \\sum_{i=1}^{n} \\widehat{e}_{i}^{2}.$$\n",
    "\n",
    "2. Estimator 2:\n",
    "\n",
    "$$\\widehat{\\sigma}^{2}=\\frac{1}{n} \\sum_{i=1}^{n} \\widehat{e}_{i}^{2}.$$\n",
    "\n",
    "3. Estimator 3:\n",
    "\n",
    "$$\\bar{\\sigma}^{2}=\\frac{1}{n} \\sum_{i=1}^{n} \\tilde{e}_{i}^{2}=\\frac{1}{n} \\sum_{i=1}^{n}\\left(1-h_{i i}\\right)^{-2} \\widehat{e}_{i}^{2}.$$\n"
   ]
  },
  {
   "cell_type": "markdown",
   "metadata": {
    "slideshow": {
     "slide_type": "subslide"
    }
   },
   "source": [
    "✏️ When $k / n$ is small (typically, this occurs when $n$ is large), the estimators $\\widehat{\\sigma}^{2}, s^{2}$ and $\\overline{\\sigma}^{2}$ are likely to be similar to one another. However, if $k / n$ is large then $s^{2}$ and $\\overline{\\sigma}^{2}$ are generally preferred to $\\widehat{\\sigma}^{2}$. Consequently it is best to use one of the bias-corrected variance estimators in applications."
   ]
  },
  {
   "cell_type": "code",
   "execution_count": 39,
   "metadata": {
    "slideshow": {
     "slide_type": "fragment"
    }
   },
   "outputs": [
    {
     "data": {
      "text/html": [
       "<div>\n",
       "<style scoped>\n",
       "    .dataframe tbody tr th:only-of-type {\n",
       "        vertical-align: middle;\n",
       "    }\n",
       "\n",
       "    .dataframe tbody tr th {\n",
       "        vertical-align: top;\n",
       "    }\n",
       "\n",
       "    .dataframe thead th {\n",
       "        text-align: right;\n",
       "    }\n",
       "</style>\n",
       "<table border=\"1\" class=\"dataframe\">\n",
       "  <thead>\n",
       "    <tr style=\"text-align: right;\">\n",
       "      <th></th>\n",
       "      <th>s2</th>\n",
       "      <th>sigma.hat2</th>\n",
       "      <th>sigma.bar2</th>\n",
       "    </tr>\n",
       "  </thead>\n",
       "  <tbody>\n",
       "    <tr>\n",
       "      <th>1</th>\n",
       "      <td>0.039616</td>\n",
       "      <td>0.038911</td>\n",
       "      <td>0.041166</td>\n",
       "    </tr>\n",
       "  </tbody>\n",
       "</table>\n",
       "</div>"
      ],
      "text/plain": [
       "         s2  sigma.hat2  sigma.bar2\n",
       "1  0.039616    0.038911    0.041166"
      ]
     },
     "execution_count": 39,
     "metadata": {},
     "output_type": "execute_result"
    }
   ],
   "source": [
    "## OLS: error variance estimators\n",
    "%R s2 <- sum(e.hat^2)/(length(e.hat)-dim(X)[2])\n",
    "%R sigma.hat2 <- sum(e.hat^2)/length(e.hat)\n",
    "%R sigma.bar2 <- sum((e.hat/(1-hii))^2)/length(e.hat)\n",
    "%R data.frame(s2=s2,sigma.hat2=sigma.hat2,sigma.bar2=sigma.bar2)"
   ]
  },
  {
   "cell_type": "code",
   "execution_count": 40,
   "metadata": {},
   "outputs": [
    {
     "name": "stdout",
     "output_type": "stream",
     "text": [
      "         s2  sigma_hat2  sigma_bar2\n",
      "0  0.039616    0.038911    0.041166\n"
     ]
    }
   ],
   "source": [
    "## OLS: error variance estimators\n",
    "s2 = ols.ssr/ols.df_resid\n",
    "sigma_hat2 = ols.ssr/ols.nobs\n",
    "sigma_bar2 = ((e_hat/(1-hii))**2).sum(axis=0)/ols.nobs\n",
    "\n",
    "## Because all values are 'scalars' we need to pass them inside []\n",
    "print(pd.DataFrame({'s2':[s2],'sigma_hat2':[sigma_hat2],'sigma_bar2':[sigma_bar2]}))"
   ]
  },
  {
   "cell_type": "markdown",
   "metadata": {
    "slideshow": {
     "slide_type": "slide"
    }
   },
   "source": [
    "### The _Finite Sample_ Properties of the OLS Estimator"
   ]
  },
  {
   "cell_type": "markdown",
   "metadata": {
    "slideshow": {
     "slide_type": "subslide"
    }
   },
   "source": [
    "**<span style=\"color:blue\">Mean of OLS:</span>** Under Assumptions MLR.1, MLR.2, MLR.3, and MLR.4 one has\n",
    "\n",
    "$\\begin{aligned} E(\\widehat{\\boldsymbol{\\beta}} | \\mathbf{X}) &=E\\left(\\left(\\mathbf{X}^{\\prime} \\mathbf{X}\\right)^{-1} \\mathbf{X}^{\\prime} \\mathbf{y} | \\mathbf{X}\\right) \\\\ &=\\left(\\mathbf{X}^{\\prime} \\mathbf{X}\\right)^{-1} \\mathbf{X}^{\\prime} E(\\mathbf{y} | \\mathbf{X}) \\\\ &=\\left(\\mathbf{X}^{\\prime} \\mathbf{X}\\right)^{-1} \\mathbf{X}^{\\prime} \\mathbf{X} \\boldsymbol{\\beta} \\\\ &=\\boldsymbol{\\beta} \\end{aligned}$"
   ]
  },
  {
   "cell_type": "markdown",
   "metadata": {
    "slideshow": {
     "slide_type": "subslide"
    }
   },
   "source": [
    "**<span style=\"color:blue\">Variance of OLS:</span>** Firstly, let us use the notation $\\mathbf{V}_{\\widehat{\\beta}} \\stackrel{d e f}{=} \\text{var}(\\widehat{\\boldsymbol{\\beta}} | \\mathbf{X})$ and recall from Assumption MLR.5 that var$(\\mathbf{e}|\\mathbf{X})=E[\\mathbf{e}\\mathbf{e}^{\\prime}|\\mathbf{X}]=\\mathbf{D}$. Then under Assumptions MLR.1, MLR.2, MLR.3, MLR.4, and MLR.5 one has\n",
    "\n",
    "$\\begin{aligned} \\mathbf{V}_{\\widehat{\\beta}} &=\\text{var}(\\widehat{\\boldsymbol{\\beta}} | \\mathbf{X}) \\\\ &=\\left(\\mathbf{X}^{\\prime} \\mathbf{X}\\right)^{-1}\\left(\\mathbf{X}^{\\prime} \\mathbf{D} \\mathbf{X}\\right)\\left(\\mathbf{X}^{\\prime} \\mathbf{X}\\right)^{-1} \\end{aligned}$"
   ]
  },
  {
   "cell_type": "markdown",
   "metadata": {
    "slideshow": {
     "slide_type": "fragment"
    }
   },
   "source": [
    "✏️ If one has *homoskedasticity*, i.e., $\\mathbf{D}=\\sigma^2\\mathbf{I}_n$, then $\\mathbf{V}_{\\widehat{\\boldsymbol{\\beta}}}=\\sigma^{2}\\left(\\mathbf{X}^{\\prime} \\mathbf{X}\\right)^{-1}$."
   ]
  },
  {
   "cell_type": "markdown",
   "metadata": {
    "slideshow": {
     "slide_type": "slide"
    }
   },
   "source": [
    "### Asymptotic Properties of the OLS Estimator"
   ]
  },
  {
   "cell_type": "markdown",
   "metadata": {
    "slideshow": {
     "slide_type": "subslide"
    }
   },
   "source": [
    "**<span style=\"color:blue\">(Asymptotic) Consistency of OLS:</span>** As $n\\rightarrow\\infty$, under Assumptions MLR.1, MLR.2, MLR.3 and MLR.4 one has\n",
    "\n",
    "$$\n",
    "\\widehat{\\boldsymbol{\\beta}}\\stackrel{p}{\\longrightarrow} \\boldsymbol{\\beta}\n",
    "$$\n",
    "\n",
    "<p style='text-align: right;'> <a href=\"https://en.wikipedia.org/wiki/Convergence_of_random_variables#Convergence_in_probability\" style=\"color: #cc0000\">Convergence in probability</a></p>"
   ]
  },
  {
   "cell_type": "markdown",
   "metadata": {
    "slideshow": {
     "slide_type": "subslide"
    }
   },
   "source": [
    "**<span style=\"color:blue\">(Asymptotic) Distribution of OLS:</span>** As $n\\rightarrow\\infty$, under Assumptions MLR.1, MLR.2, MLR.3, MLR.4, and MLR.5 one has\n",
    "\n",
    "$$\\sqrt{n}(\\widehat{\\boldsymbol{\\beta}}-\\boldsymbol{\\beta}) \\stackrel{d}{\\longrightarrow} \\mathbf{N}\\left(\\mathbf{0}, \\mathbf{V}_{\\boldsymbol{\\beta}}\\right),$$\n",
    "\n",
    "<p style='text-align: right;'> <a href=\"https://en.wikipedia.org/wiki/Convergence_of_random_variables#Convergence_in_distribution\" style=\"color: #cc0000\">Convergence in Distribution</a></p>\n",
    "\n",
    "where\n",
    "\n",
    "$$\n",
    "\\mathbf{V}_{\\boldsymbol{\\beta}}=E(\\mathbf{x}_i\\mathbf{x}_i^{\\prime})^{-1}E[\\mathbf{x}_{i}E(e_i^2|\\mathbf{x}_i)\\mathbf{x}_{i}^{\\prime}]E(\\mathbf{x}_i\\mathbf{x}_i^{\\prime})^{-1},\n",
    "$$\n",
    "\n",
    "and the notation $\\mathbf{N}(\\boldsymbol{\\mu},\\boldsymbol{\\Sigma})$ denotes a [multivariate normal distribution](https://en.wikipedia.org/wiki/Multivariate_normal_distribution). $\\mathbf{V}_{\\boldsymbol{\\beta}}$ is the asymptotic (asy.) [variance-covariance matrix](https://en.wikipedia.org/wiki/Covariance_matrix) of $\\sqrt{n}(\\widehat{\\boldsymbol{\\beta}}-\\boldsymbol{\\beta})$ and therefore $n^{-1}\\mathbf{V}_{\\boldsymbol{\\beta}}$ is the asymptotic variance of $\\widehat{\\boldsymbol{\\beta}}$ and it is generally _unknown_ and needs to be estimated.\n",
    "\n",
    "$$\n",
    "n^{-1}\\mathbf{V}_{\\boldsymbol{\\beta}}=\\left[\n",
    "\\begin{array}\n",
    "[c]{cccc}\n",
    "\\text{asy. var}(\\widehat{\\beta}_{0}) & \\text{asy. cov}(\\widehat{\\beta}\n",
    "_{0},\\widehat{\\beta}_{1}) & \\cdots & \\text{asy. cov}(\\widehat{\\beta}\n",
    "_{0},\\widehat{\\beta}_{k})\\\\\n",
    "\\text{asy. cov}(\\widehat{\\beta}_{1},\\widehat{\\beta}_{0}) & \\text{asy.\n",
    "var}(\\widehat{\\beta}_{1}) & \\cdots & \\text{asy. cov}(\\widehat{\\beta}\n",
    "_{1},\\widehat{\\beta}_{k})\\\\\n",
    "\\text{asy. cov}(\\widehat{\\beta}_{2},\\widehat{\\beta}_{0}) & \\text{asy.\n",
    "cov}(\\widehat{\\beta}_{2},\\widehat{\\beta}_{1}) & \\cdots & \\text{asy.\n",
    "cov}(\\widehat{\\beta}_{2},\\widehat{\\beta}_{k})\\\\\n",
    "\\vdots & \\vdots & \\ddots & \\vdots\\\\\n",
    "\\text{asy. cov}(\\widehat{\\beta}_{k},\\widehat{\\beta}_{0}) & \\text{asy.\n",
    "cov}(\\widehat{\\beta}_{k},\\widehat{\\beta}_{1}) & \\cdots & \\text{asy.\n",
    "var}(\\widehat{\\beta}_{k})\n",
    "\\end{array}\n",
    "\\right]\n",
    "$$\n",
    "\n",
    "✏️ Notice that $\\mathbf{V}_{\\boldsymbol{\\beta}}$ is a $(k+1)\\times(k+1)$ [square](https://en.wikipedia.org/wiki/Square_matrix), [symmetric](https://en.wikipedia.org/wiki/Symmetric_matrix), and [positive semi-definite](https://en.wikipedia.org/wiki/Definiteness_of_a_matrix) matrix."
   ]
  },
  {
   "cell_type": "markdown",
   "metadata": {
    "slideshow": {
     "slide_type": "subslide"
    }
   },
   "source": [
    "<ins>(Asymptotic) OLS Variance Estimation</ins>:"
   ]
  },
  {
   "cell_type": "markdown",
   "metadata": {
    "slideshow": {
     "slide_type": "fragment"
    }
   },
   "source": [
    "Firstly notice that\n",
    "\n",
    "$$\n",
    "\\begin{aligned} n\\mathbf{V}_{\\widehat{\\boldsymbol{\\beta}}} &=n\\text{ var}(\\widehat{\\boldsymbol{\\beta}} | \\mathbf{X}) \\\\ &=\\left(n^{-1}\\mathbf{X}^{\\prime} \\mathbf{X}\\right)^{-1}\\left(n^{-1}\\mathbf{X}^{\\prime} \\mathbf{D} \\mathbf{X}\\right)\\left(n^{-1}\\mathbf{X}^{\\prime} \\mathbf{X}\\right)^{-1}, \\end{aligned}\n",
    "$$\n",
    "\n",
    "and it has been shown that\n",
    "\n",
    "$$n \\mathbf{V}_{\\widehat{\\boldsymbol{\\beta}}} \\stackrel{p}{\\longrightarrow} \\mathbf{V}_{\\boldsymbol{\\beta}}$$\n",
    "\n",
    "<p style='text-align: right;'> <a href=\"https://en.wikipedia.org/wiki/Convergence_of_random_variables#Convergence_in_probability\" style=\"color: #cc0000\">Convergence in probability</a></p>\n",
    "\n",
    "🛑 Unfortunately $n\\mathbf{V}_{\\widehat{\\boldsymbol{\\beta}}}$ is _infeasible_ as matrix $\\mathbf{D}$ (defined in Assumption MLR.5) is *not known*."
   ]
  },
  {
   "cell_type": "markdown",
   "metadata": {
    "slideshow": {
     "slide_type": "subslide"
    }
   },
   "source": [
    "**<span style=\"color:red\">HC0:</span>**\n",
    "\n",
    "$$\n",
    "\\widehat{\\mathbf{V}}_{\\widehat{\\boldsymbol{\\beta}}}^{\\mathrm{HC0}}=\\left(\\mathbf{X}^{\\prime} \\mathbf{X}\\right)^{-1}\\left(\\sum_{i=1}^{n} \\mathbf{x}_{i} \\widehat{e}_{i}^{2}\\mathbf{x}_{i}^{\\prime} \\right)\\left(\\mathbf{X}^{\\prime} \\mathbf{X}\\right)^{-1}\n",
    "$$\n",
    "\n",
    "**<span style=\"color:red\">HC1:</span>** (most common in *econometrics*)\n",
    "\n",
    "$$\n",
    "\\widehat{\\mathbf{V}}_{\\widehat{\\boldsymbol{\\beta}}}^{\\mathrm{HCl}}=\\left(\\frac{n}{n-k-1}\\right)\\left(\\mathbf{X}^{\\prime} \\mathbf{X}\\right)^{-1}\\left(\\sum_{i=1}^{n} \\mathbf{x}_{i} \\widehat{e}_{i}^{2}\\mathbf{x}_{i}^{\\prime}\\right)\\left(\\mathbf{X}^{\\prime} \\mathbf{X}\\right)^{-1}\n",
    "$$\n",
    "\n",
    "**<span style=\"color:red\">HC2:</span>**\n",
    "\n",
    "$$\n",
    "\\widehat{\\mathbf{V}}_{\\widehat{\\boldsymbol{\\beta}}}^{\\mathrm{HC2}}=\\left(\\mathbf{X}^{\\prime} \\mathbf{X}\\right)^{-1}\\left(\\sum_{i=1}^{n} \\mathbf{x}_{i} \\left(1-h_{i i}\\right)^{-1}\\widehat{e}_{i}^{2} \\mathbf{x}_{i}^{\\prime} \\right)\\left(\\mathbf{X}^{\\prime} \\mathbf{X}\\right)^{-1}\n",
    "$$\n",
    "\n",
    "**<span style=\"color:red\">HC3:</span>**\n",
    "\n",
    "$$\n",
    "\\widehat{\\mathbf{V}}_{\\widehat{\\boldsymbol{\\beta}}}^{\\mathrm{HC3}}=\\left(\\mathbf{X}^{\\prime} \\mathbf{X}\\right)^{-1}\\left(\\sum_{i=1}^{n} \\mathbf{x}_{i} \\left(1-h_{i i}\\right)^{-2}\\widehat{e}_{i}^{2} \\mathbf{x}_{i}^{\\prime} \\right)\\left(\\mathbf{X}^{\\prime} \\mathbf{X}\\right)^{-1}\n",
    "$$"
   ]
  },
  {
   "cell_type": "markdown",
   "metadata": {
    "slideshow": {
     "slide_type": "subslide"
    }
   },
   "source": [
    "💻 Unfortunately the default variance covariance matrix reported in ```lm``` corresponds to the _homoskedastic_ case, i.e., $\\widehat{\\sigma}^2(\\mathbf{X}^{\\prime}\\mathbf{X})^{-1}$. All four estimators can be computed using the ```sandwich``` package."
   ]
  },
  {
   "cell_type": "code",
   "execution_count": 41,
   "metadata": {
    "slideshow": {
     "slide_type": "fragment"
    }
   },
   "outputs": [
    {
     "name": "stderr",
     "output_type": "stream",
     "text": [
      "R[write to console]: Loading required package: sandwich\n",
      "\n"
     ]
    },
    {
     "data": {
      "text/plain": [
       "array([[ 0.15308689, -0.01709982, -0.0107832 , -0.00008238, -0.00690054,\n",
       "        -0.00153057,  0.00070551, -0.00078314, -0.00019621],\n",
       "       [-0.01709982,  0.00852641, -0.00041684,  0.00002021,  0.00040348,\n",
       "         0.00048147, -0.00006726,  0.00012459, -0.00008911],\n",
       "       [-0.0107832 , -0.00041684,  0.00198502,  0.00000371,  0.00009641,\n",
       "        -0.00002094, -0.00006478,  0.00000695, -0.0000259 ],\n",
       "       [-0.00008238,  0.00002021,  0.00000371,  0.00000369,  0.0000032 ,\n",
       "         0.00000198, -0.000002  ,  0.00000075, -0.00000071],\n",
       "       [-0.00690054,  0.00040348,  0.00009641,  0.0000032 ,  0.00066031,\n",
       "         0.00007805, -0.00002522,  0.0000372 ,  0.00005703],\n",
       "       [-0.00153057,  0.00048147, -0.00002094,  0.00000198,  0.00007805,\n",
       "         0.00005287, -0.00000555,  0.0000062 ,  0.0000049 ],\n",
       "       [ 0.00070551, -0.00006726, -0.00006478, -0.000002  , -0.00002522,\n",
       "        -0.00000555,  0.00000647, -0.00000334, -0.00000123],\n",
       "       [-0.00078314,  0.00012459,  0.00000695,  0.00000075,  0.0000372 ,\n",
       "         0.0000062 , -0.00000334,  0.00001702, -0.0000011 ],\n",
       "       [-0.00019621, -0.00008911, -0.0000259 , -0.00000071,  0.00005703,\n",
       "         0.0000049 , -0.00000123, -0.0000011 ,  0.00001263]])"
      ]
     },
     "execution_count": 41,
     "metadata": {},
     "output_type": "execute_result"
    }
   ],
   "source": [
    "## installing the 'sandwich' package if not previously installed\n",
    "%R if (!require(sandwich)) install.packages('sandwich')\n",
    "\n",
    "## loading the packages\n",
    "%R library(sandwich)\n",
    "\n",
    "## OLS: calculating estimated asymptotic vcov matrices\n",
    "#%R vcovHC(ols,type=\"HC0\")\n",
    "%R vcovHC(ols,type=\"HC1\")\n",
    "#%R vcovHC(ols,type=\"HC2\")\n",
    "#%R vcovHC(ols,type=\"HC3\")"
   ]
  },
  {
   "cell_type": "code",
   "execution_count": 42,
   "metadata": {},
   "outputs": [
    {
     "name": "stdout",
     "output_type": "stream",
     "text": [
      "[[ 0.15308689 -0.01709982 -0.0107832  -0.00008238 -0.00690054 -0.00153057\n",
      "   0.00070551 -0.00078314 -0.00019621]\n",
      " [-0.01709982  0.00852641 -0.00041684  0.00002021  0.00040348  0.00048147\n",
      "  -0.00006726  0.00012459 -0.00008911]\n",
      " [-0.0107832  -0.00041684  0.00198502  0.00000371  0.00009641 -0.00002094\n",
      "  -0.00006478  0.00000695 -0.0000259 ]\n",
      " [-0.00008238  0.00002021  0.00000371  0.00000369  0.0000032   0.00000198\n",
      "  -0.000002    0.00000075 -0.00000071]\n",
      " [-0.00690054  0.00040348  0.00009641  0.0000032   0.00066031  0.00007805\n",
      "  -0.00002522  0.0000372   0.00005703]\n",
      " [-0.00153057  0.00048147 -0.00002094  0.00000198  0.00007805  0.00005287\n",
      "  -0.00000555  0.0000062   0.0000049 ]\n",
      " [ 0.00070551 -0.00006726 -0.00006478 -0.000002   -0.00002522 -0.00000555\n",
      "   0.00000647 -0.00000334 -0.00000123]\n",
      " [-0.00078314  0.00012459  0.00000695  0.00000075  0.0000372   0.0000062\n",
      "  -0.00000334  0.00001702 -0.0000011 ]\n",
      " [-0.00019621 -0.00008911 -0.0000259  -0.00000071  0.00005703  0.0000049\n",
      "  -0.00000123 -0.0000011   0.00001263]]\n"
     ]
    }
   ],
   "source": [
    "## OLS: calculating estimated asymptotic vcov matrices\n",
    "#print(ols.cov_HC0)\n",
    "print(ols.cov_HC1)\n",
    "#print(ols.cov_HC2)\n",
    "#print(ols.cov_HC3)"
   ]
  },
  {
   "cell_type": "markdown",
   "metadata": {
    "slideshow": {
     "slide_type": "subslide"
    }
   },
   "source": [
    "<ins>(Asymptotic) Standard Errors</ins>:\n",
    "\n",
    "These corresponds to the estimator of the standard deviation of the distribution of the OLS estimator $\\widehat{\\boldsymbol{\\beta}}$, i.e., \n",
    "\n",
    "$$\n",
    "s\\left(\\widehat{\\beta}_{j}\\right)=\\sqrt{\\widehat{\\mathbf{V}}^{\\mathrm{HC?}}_{\\widehat{\\beta}_{j}}}=\\sqrt{\\left[\\widehat{\\mathbf{V}}^{\\mathrm{HC?}}_{\\widehat{\\boldsymbol{\\beta}}}\\right]_{j j}},\n",
    "$$\n",
    "\n",
    "for $?=0,1,2,3$.\n",
    "\n"
   ]
  },
  {
   "cell_type": "markdown",
   "metadata": {
    "slideshow": {
     "slide_type": "fragment"
    }
   },
   "source": [
    "💻 Computationally they simply correspond to the square root of the main diagonal elements of the $\\widehat{\\mathbf{V}}^{\\mathrm{HC0}}_{\\widehat{\\boldsymbol{\\beta}}}$, $\\widehat{\\mathbf{V}}^{\\mathrm{HC1}}_{\\widehat{\\boldsymbol{\\beta}}}$, $\\widehat{\\mathbf{V}}^{\\mathrm{HC2}}_{\\widehat{\\boldsymbol{\\beta}}}$, or $\\widehat{\\mathbf{V}}^{\\mathrm{HC3}}_{\\widehat{\\boldsymbol{\\beta}}}$."
   ]
  },
  {
   "cell_type": "code",
   "execution_count": 43,
   "metadata": {
    "slideshow": {
     "slide_type": "fragment"
    }
   },
   "outputs": [
    {
     "data": {
      "text/html": [
       "<div>\n",
       "<style scoped>\n",
       "    .dataframe tbody tr th:only-of-type {\n",
       "        vertical-align: middle;\n",
       "    }\n",
       "\n",
       "    .dataframe tbody tr th {\n",
       "        vertical-align: top;\n",
       "    }\n",
       "\n",
       "    .dataframe thead th {\n",
       "        text-align: right;\n",
       "    }\n",
       "</style>\n",
       "<table border=\"1\" class=\"dataframe\">\n",
       "  <thead>\n",
       "    <tr style=\"text-align: right;\">\n",
       "      <th></th>\n",
       "      <th>se.HC0</th>\n",
       "      <th>se.HC1</th>\n",
       "      <th>se.HC2</th>\n",
       "      <th>se.HC3</th>\n",
       "    </tr>\n",
       "  </thead>\n",
       "  <tbody>\n",
       "    <tr>\n",
       "      <th>(Intercept)</th>\n",
       "      <td>0.387768</td>\n",
       "      <td>0.391263</td>\n",
       "      <td>0.396025</td>\n",
       "      <td>0.404742</td>\n",
       "    </tr>\n",
       "    <tr>\n",
       "      <th>lnox</th>\n",
       "      <td>0.091514</td>\n",
       "      <td>0.092339</td>\n",
       "      <td>0.092993</td>\n",
       "      <td>0.094534</td>\n",
       "    </tr>\n",
       "    <tr>\n",
       "      <th>lproptax</th>\n",
       "      <td>0.044156</td>\n",
       "      <td>0.044554</td>\n",
       "      <td>0.045101</td>\n",
       "      <td>0.046080</td>\n",
       "    </tr>\n",
       "    <tr>\n",
       "      <th>crime</th>\n",
       "      <td>0.001904</td>\n",
       "      <td>0.001922</td>\n",
       "      <td>0.002116</td>\n",
       "      <td>0.002369</td>\n",
       "    </tr>\n",
       "    <tr>\n",
       "      <th>rooms</th>\n",
       "      <td>0.025467</td>\n",
       "      <td>0.025696</td>\n",
       "      <td>0.026115</td>\n",
       "      <td>0.026799</td>\n",
       "    </tr>\n",
       "    <tr>\n",
       "      <th>dist</th>\n",
       "      <td>0.007207</td>\n",
       "      <td>0.007272</td>\n",
       "      <td>0.007322</td>\n",
       "      <td>0.007441</td>\n",
       "    </tr>\n",
       "    <tr>\n",
       "      <th>radial</th>\n",
       "      <td>0.002521</td>\n",
       "      <td>0.002544</td>\n",
       "      <td>0.002600</td>\n",
       "      <td>0.002692</td>\n",
       "    </tr>\n",
       "    <tr>\n",
       "      <th>stratio</th>\n",
       "      <td>0.004088</td>\n",
       "      <td>0.004125</td>\n",
       "      <td>0.004155</td>\n",
       "      <td>0.004226</td>\n",
       "    </tr>\n",
       "    <tr>\n",
       "      <th>lowstat</th>\n",
       "      <td>0.003522</td>\n",
       "      <td>0.003554</td>\n",
       "      <td>0.003609</td>\n",
       "      <td>0.003699</td>\n",
       "    </tr>\n",
       "  </tbody>\n",
       "</table>\n",
       "</div>"
      ],
      "text/plain": [
       "               se.HC0    se.HC1    se.HC2    se.HC3\n",
       "(Intercept)  0.387768  0.391263  0.396025  0.404742\n",
       "lnox         0.091514  0.092339  0.092993  0.094534\n",
       "lproptax     0.044156  0.044554  0.045101  0.046080\n",
       "crime        0.001904  0.001922  0.002116  0.002369\n",
       "rooms        0.025467  0.025696  0.026115  0.026799\n",
       "dist         0.007207  0.007272  0.007322  0.007441\n",
       "radial       0.002521  0.002544  0.002600  0.002692\n",
       "stratio      0.004088  0.004125  0.004155  0.004226\n",
       "lowstat      0.003522  0.003554  0.003609  0.003699"
      ]
     },
     "execution_count": 43,
     "metadata": {},
     "output_type": "execute_result"
    }
   ],
   "source": [
    "%R data.frame(se.HC0=sqrt(diag(vcovHC(ols,type=\"HC0\"))),se.HC1=sqrt(diag(vcovHC(ols,type=\"HC1\"))),se.HC2=sqrt(diag(vcovHC(ols,type=\"HC2\"))),se.HC3=sqrt(diag(vcovHC(ols,type=\"HC3\"))))"
   ]
  },
  {
   "cell_type": "code",
   "execution_count": 44,
   "metadata": {},
   "outputs": [
    {
     "data": {
      "text/html": [
       "<div>\n",
       "<style scoped>\n",
       "    .dataframe tbody tr th:only-of-type {\n",
       "        vertical-align: middle;\n",
       "    }\n",
       "\n",
       "    .dataframe tbody tr th {\n",
       "        vertical-align: top;\n",
       "    }\n",
       "\n",
       "    .dataframe thead th {\n",
       "        text-align: right;\n",
       "    }\n",
       "</style>\n",
       "<table border=\"1\" class=\"dataframe\">\n",
       "  <thead>\n",
       "    <tr style=\"text-align: right;\">\n",
       "      <th></th>\n",
       "      <th>se_HC0</th>\n",
       "      <th>se_HC1</th>\n",
       "      <th>se_HC2</th>\n",
       "      <th>se_HC3</th>\n",
       "    </tr>\n",
       "  </thead>\n",
       "  <tbody>\n",
       "    <tr>\n",
       "      <th>Intercept</th>\n",
       "      <td>0.387768</td>\n",
       "      <td>0.391263</td>\n",
       "      <td>0.396025</td>\n",
       "      <td>0.404742</td>\n",
       "    </tr>\n",
       "    <tr>\n",
       "      <th>lnox</th>\n",
       "      <td>0.091514</td>\n",
       "      <td>0.092339</td>\n",
       "      <td>0.092993</td>\n",
       "      <td>0.094534</td>\n",
       "    </tr>\n",
       "    <tr>\n",
       "      <th>lproptax</th>\n",
       "      <td>0.044156</td>\n",
       "      <td>0.044554</td>\n",
       "      <td>0.045101</td>\n",
       "      <td>0.046080</td>\n",
       "    </tr>\n",
       "    <tr>\n",
       "      <th>crime</th>\n",
       "      <td>0.001904</td>\n",
       "      <td>0.001922</td>\n",
       "      <td>0.002116</td>\n",
       "      <td>0.002369</td>\n",
       "    </tr>\n",
       "    <tr>\n",
       "      <th>rooms</th>\n",
       "      <td>0.025467</td>\n",
       "      <td>0.025696</td>\n",
       "      <td>0.026115</td>\n",
       "      <td>0.026799</td>\n",
       "    </tr>\n",
       "    <tr>\n",
       "      <th>dist</th>\n",
       "      <td>0.007207</td>\n",
       "      <td>0.007272</td>\n",
       "      <td>0.007322</td>\n",
       "      <td>0.007441</td>\n",
       "    </tr>\n",
       "    <tr>\n",
       "      <th>radial</th>\n",
       "      <td>0.002521</td>\n",
       "      <td>0.002544</td>\n",
       "      <td>0.002600</td>\n",
       "      <td>0.002692</td>\n",
       "    </tr>\n",
       "    <tr>\n",
       "      <th>stratio</th>\n",
       "      <td>0.004088</td>\n",
       "      <td>0.004125</td>\n",
       "      <td>0.004155</td>\n",
       "      <td>0.004226</td>\n",
       "    </tr>\n",
       "    <tr>\n",
       "      <th>lowstat</th>\n",
       "      <td>0.003522</td>\n",
       "      <td>0.003554</td>\n",
       "      <td>0.003609</td>\n",
       "      <td>0.003699</td>\n",
       "    </tr>\n",
       "  </tbody>\n",
       "</table>\n",
       "</div>"
      ],
      "text/plain": [
       "             se_HC0    se_HC1    se_HC2    se_HC3\n",
       "Intercept  0.387768  0.391263  0.396025  0.404742\n",
       "lnox       0.091514  0.092339  0.092993  0.094534\n",
       "lproptax   0.044156  0.044554  0.045101  0.046080\n",
       "crime      0.001904  0.001922  0.002116  0.002369\n",
       "rooms      0.025467  0.025696  0.026115  0.026799\n",
       "dist       0.007207  0.007272  0.007322  0.007441\n",
       "radial     0.002521  0.002544  0.002600  0.002692\n",
       "stratio    0.004088  0.004125  0.004155  0.004226\n",
       "lowstat    0.003522  0.003554  0.003609  0.003699"
      ]
     },
     "execution_count": 44,
     "metadata": {},
     "output_type": "execute_result"
    }
   ],
   "source": [
    "pd.DataFrame({'se_HC0':ols.HC0_se,'se_HC1':ols.HC1_se,'se_HC2':ols.HC2_se,'se_HC3':ols.HC3_se})"
   ]
  },
  {
   "cell_type": "markdown",
   "metadata": {
    "slideshow": {
     "slide_type": "subslide"
    }
   },
   "source": [
    "<ins>$t$-statistic</ins>:\n",
    "\n",
    "$$t=\\frac{\\widehat{\\beta}_j-\\beta_j}{s(\\widehat{\\beta}_j)}\\stackrel{d}{\\longrightarrow}N(0,1).$$\n",
    "\n",
    "<p style='text-align: right;'> <a href=\"https://en.wikipedia.org/wiki/T-statistic\" style=\"color: #cc0000\">t-statistic</a></p>\n",
    "<p style='text-align: right;'> <a href=\"https://en.wikipedia.org/wiki/Normal_distribution#Definition\" style=\"color: #cc0000\">Standard Normal</a></p>"
   ]
  },
  {
   "cell_type": "markdown",
   "metadata": {
    "slideshow": {
     "slide_type": "fragment"
    }
   },
   "source": [
    "💻 Most statistical packages will use the Student's $t$ distribution with $n-k-1$ degrees-of-freedom."
   ]
  },
  {
   "cell_type": "code",
   "execution_count": 45,
   "metadata": {
    "slideshow": {
     "slide_type": "fragment"
    }
   },
   "outputs": [
    {
     "name": "stderr",
     "output_type": "stream",
     "text": [
      "R[write to console]: Loading required package: lmtest\n",
      "\n",
      "R[write to console]: Loading required package: zoo\n",
      "\n",
      "R[write to console]: \n",
      "Attaching package: ‘zoo’\n",
      "\n",
      "\n",
      "R[write to console]: The following objects are masked from ‘package:base’:\n",
      "\n",
      "    as.Date, as.Date.numeric\n",
      "\n",
      "\n"
     ]
    },
    {
     "data": {
      "text/plain": [
       "array([[12.65161528,  0.39126319, 32.33530665,  0.        ],\n",
       "       [-0.45033297,  0.09233855, -4.87697677,  0.00000145],\n",
       "       [-0.22737525,  0.04455353, -5.10341677,  0.00000048],\n",
       "       [-0.01126515,  0.00192159, -5.86239466,  0.00000001],\n",
       "       [ 0.09899825,  0.02569648,  3.85260002,  0.00013217],\n",
       "       [-0.04880525,  0.0072715 , -6.71184979,  0.        ],\n",
       "       [ 0.01146933,  0.00254375,  4.50882291,  0.00000814],\n",
       "       [-0.04041845,  0.00412502, -9.79836278,  0.        ],\n",
       "       [-0.02826845,  0.00355379, -7.95444473,  0.        ]])"
      ]
     },
     "execution_count": 45,
     "metadata": {},
     "output_type": "execute_result"
    }
   ],
   "source": [
    "## installing the 'lmtest' package if not previously installed\n",
    "%R if (!require(lmtest)) install.packages('lmtest')\n",
    "\n",
    "## loading the packages\n",
    "%R library(lmtest)\n",
    "\n",
    "## OLS: calculating standard t-statistics for 'significance'\n",
    "%R coeftest(ols, vcov = vcovHC, type = 'HC1')"
   ]
  },
  {
   "cell_type": "code",
   "execution_count": 46,
   "metadata": {},
   "outputs": [
    {
     "data": {
      "text/html": [
       "<table class=\"simpletable\">\n",
       "<tr>\n",
       "      <td></td>         <th>coef</th>     <th>std err</th>      <th>z</th>      <th>P>|z|</th>  <th>[0.025</th>    <th>0.975]</th>  \n",
       "</tr>\n",
       "<tr>\n",
       "  <th>Intercept</th> <td>   12.6516</td> <td>    0.391</td> <td>   32.335</td> <td> 0.000</td> <td>   11.885</td> <td>   13.418</td>\n",
       "</tr>\n",
       "<tr>\n",
       "  <th>lnox</th>      <td>   -0.4503</td> <td>    0.092</td> <td>   -4.877</td> <td> 0.000</td> <td>   -0.631</td> <td>   -0.269</td>\n",
       "</tr>\n",
       "<tr>\n",
       "  <th>lproptax</th>  <td>   -0.2274</td> <td>    0.045</td> <td>   -5.103</td> <td> 0.000</td> <td>   -0.315</td> <td>   -0.140</td>\n",
       "</tr>\n",
       "<tr>\n",
       "  <th>crime</th>     <td>   -0.0113</td> <td>    0.002</td> <td>   -5.862</td> <td> 0.000</td> <td>   -0.015</td> <td>   -0.007</td>\n",
       "</tr>\n",
       "<tr>\n",
       "  <th>rooms</th>     <td>    0.0990</td> <td>    0.026</td> <td>    3.853</td> <td> 0.000</td> <td>    0.049</td> <td>    0.149</td>\n",
       "</tr>\n",
       "<tr>\n",
       "  <th>dist</th>      <td>   -0.0488</td> <td>    0.007</td> <td>   -6.712</td> <td> 0.000</td> <td>   -0.063</td> <td>   -0.035</td>\n",
       "</tr>\n",
       "<tr>\n",
       "  <th>radial</th>    <td>    0.0115</td> <td>    0.003</td> <td>    4.509</td> <td> 0.000</td> <td>    0.006</td> <td>    0.016</td>\n",
       "</tr>\n",
       "<tr>\n",
       "  <th>stratio</th>   <td>   -0.0404</td> <td>    0.004</td> <td>   -9.798</td> <td> 0.000</td> <td>   -0.049</td> <td>   -0.032</td>\n",
       "</tr>\n",
       "<tr>\n",
       "  <th>lowstat</th>   <td>   -0.0283</td> <td>    0.004</td> <td>   -7.954</td> <td> 0.000</td> <td>   -0.035</td> <td>   -0.021</td>\n",
       "</tr>\n",
       "</table>"
      ],
      "text/plain": [
       "<class 'statsmodels.iolib.table.SimpleTable'>"
      ]
     },
     "execution_count": 46,
     "metadata": {},
     "output_type": "execute_result"
    }
   ],
   "source": [
    "smf.ols(formula=f,data=hprice2).fit(cov_type='HC1').summary().tables[1]"
   ]
  },
  {
   "cell_type": "markdown",
   "metadata": {
    "slideshow": {
     "slide_type": "subslide"
    }
   },
   "source": [
    "<ins>(Asymptotic) Confidence Interval</ins>:\n",
    "\n",
    "The OLS estimator $\\widehat{\\beta}_j$ is called a _point estimator_ of the unknown slope parameter $\\beta_j$. A broader concept is a _set estimator_ $\\widehat{C}=[\\widehat{L},\\widehat{U}]$ which is an _interval estimator_ of $\\beta_j$. An interval estimator $\\widehat{C}$ is called a **confidence interval** when the goal is to set the coverage probability\n",
    "to equal a pre-specified target such as $90 \\%$ or $95 \\%$. The conventional confidence interval for $\\beta_j$ takes the form\n",
    "\n",
    "$$\n",
    "\\widehat{C}=[\\widehat{\\beta}_j-c\\cdot s(\\widehat{\\beta}_j),\\widehat{\\beta}_j+c\\cdot s(\\widehat{\\beta}_j)],\n",
    "$$\n",
    "\n",
    "where $c$ equals the $1-\\alpha$ [quantile](https://en.wikipedia.org/wiki/Quantile) of the distribution of $|Z|$, i.e., $c$ is equivalent to the $1-\\alpha/2$ quantile of the standard normal distribution.\n",
    "\n",
    "<p style='text-align: right;'> <a href=\"https://en.wikipedia.org/wiki/Confidence_interval\" style=\"color: #cc0000\">Confidence Interval</a></p>"
   ]
  },
  {
   "cell_type": "code",
   "execution_count": 47,
   "metadata": {
    "slideshow": {
     "slide_type": "fragment"
    }
   },
   "outputs": [
    {
     "data": {
      "text/plain": [
       "array([[12.00684276, 13.2963878 ],\n",
       "       [-0.6025    , -0.29816593],\n",
       "       [-0.30079614, -0.15395435],\n",
       "       [-0.01443179, -0.0080985 ],\n",
       "       [ 0.05665237,  0.14134412],\n",
       "       [-0.06078815, -0.03682235],\n",
       "       [ 0.00727742,  0.01566125],\n",
       "       [-0.04721618, -0.03362073],\n",
       "       [-0.03412483, -0.02241206]])"
      ]
     },
     "execution_count": 47,
     "metadata": {},
     "output_type": "execute_result"
    }
   ],
   "source": [
    "## OLS: calculating asymptotic 90% confidence interval\n",
    "%R coefci(ols, level = 0.90, vcov = vcovHC, type = 'HC1')"
   ]
  },
  {
   "cell_type": "markdown",
   "metadata": {},
   "source": [
    "⚠️ The `statsmodels` package in Python uses the quantiles from a *_t_*-distribution instead."
   ]
  },
  {
   "cell_type": "code",
   "execution_count": 48,
   "metadata": {},
   "outputs": [
    {
     "data": {
      "text/html": [
       "<div>\n",
       "<style scoped>\n",
       "    .dataframe tbody tr th:only-of-type {\n",
       "        vertical-align: middle;\n",
       "    }\n",
       "\n",
       "    .dataframe tbody tr th {\n",
       "        vertical-align: top;\n",
       "    }\n",
       "\n",
       "    .dataframe thead th {\n",
       "        text-align: right;\n",
       "    }\n",
       "</style>\n",
       "<table border=\"1\" class=\"dataframe\">\n",
       "  <thead>\n",
       "    <tr style=\"text-align: right;\">\n",
       "      <th></th>\n",
       "      <th>0</th>\n",
       "      <th>1</th>\n",
       "    </tr>\n",
       "  </thead>\n",
       "  <tbody>\n",
       "    <tr>\n",
       "      <th>Intercept</th>\n",
       "      <td>12.008045</td>\n",
       "      <td>13.295186</td>\n",
       "    </tr>\n",
       "    <tr>\n",
       "      <th>lnox</th>\n",
       "      <td>-0.602216</td>\n",
       "      <td>-0.298450</td>\n",
       "    </tr>\n",
       "    <tr>\n",
       "      <th>lproptax</th>\n",
       "      <td>-0.300659</td>\n",
       "      <td>-0.154091</td>\n",
       "    </tr>\n",
       "    <tr>\n",
       "      <th>crime</th>\n",
       "      <td>-0.014426</td>\n",
       "      <td>-0.008104</td>\n",
       "    </tr>\n",
       "    <tr>\n",
       "      <th>rooms</th>\n",
       "      <td>0.056731</td>\n",
       "      <td>0.141265</td>\n",
       "    </tr>\n",
       "    <tr>\n",
       "      <th>dist</th>\n",
       "      <td>-0.060766</td>\n",
       "      <td>-0.036845</td>\n",
       "    </tr>\n",
       "    <tr>\n",
       "      <th>radial</th>\n",
       "      <td>0.007285</td>\n",
       "      <td>0.015653</td>\n",
       "    </tr>\n",
       "    <tr>\n",
       "      <th>stratio</th>\n",
       "      <td>-0.047204</td>\n",
       "      <td>-0.033633</td>\n",
       "    </tr>\n",
       "    <tr>\n",
       "      <th>lowstat</th>\n",
       "      <td>-0.034114</td>\n",
       "      <td>-0.022423</td>\n",
       "    </tr>\n",
       "  </tbody>\n",
       "</table>\n",
       "</div>"
      ],
      "text/plain": [
       "                   0          1\n",
       "Intercept  12.008045  13.295186\n",
       "lnox       -0.602216  -0.298450\n",
       "lproptax   -0.300659  -0.154091\n",
       "crime      -0.014426  -0.008104\n",
       "rooms       0.056731   0.141265\n",
       "dist       -0.060766  -0.036845\n",
       "radial      0.007285   0.015653\n",
       "stratio    -0.047204  -0.033633\n",
       "lowstat    -0.034114  -0.022423"
      ]
     },
     "execution_count": 48,
     "metadata": {},
     "output_type": "execute_result"
    }
   ],
   "source": [
    "smf.ols(formula=f,data=hprice2).fit(cov_type='HC1').conf_int(alpha=0.10, cols=None)"
   ]
  },
  {
   "cell_type": "markdown",
   "metadata": {
    "slideshow": {
     "slide_type": "slide"
    }
   },
   "source": [
    "### Regression Intervals"
   ]
  },
  {
   "cell_type": "markdown",
   "metadata": {
    "slideshow": {
     "slide_type": "subslide"
    }
   },
   "source": [
    "In the linear regression model the conditional mean of $y_{i}$ given $\\mathbf{x}_{i}=\\mathbf{x}$ is\n",
    "$$\n",
    "m(\\mathbf{x})=E\\left(y_{i} | \\mathbf{x}_{i}=\\mathbf{x}\\right)=\\mathbf{x}^{\\prime} \\beta\n",
    "$$\n",
    "Thus an asymptotic 95% confidence interval for $m(\\mathbf{x})$ is\n",
    "$$\n",
    "\\left[\\mathbf{x}^{\\prime} \\widehat{\\boldsymbol{\\beta}} \\pm 1.96 \\sqrt{\\mathbf{x}^{\\prime} \\widehat{\\mathbf{V}}_{\\widehat{\\boldsymbol{\\beta}}}^{\\mathrm{HC?}} \\mathbf{x}}\\right]\n",
    "$$\n",
    "for $?=0,1,2,3$."
   ]
  },
  {
   "cell_type": "code",
   "execution_count": 49,
   "metadata": {
    "slideshow": {
     "slide_type": "subslide"
    }
   },
   "outputs": [
    {
     "name": "stderr",
     "output_type": "stream",
     "text": [
      "R[write to console]: Loading required package: mgcv\n",
      "\n",
      "R[write to console]: Loading required package: nlme\n",
      "\n",
      "R[write to console]: This is mgcv 1.8-33. For overview type 'help(\"mgcv-package\")'.\n",
      "\n"
     ]
    },
    {
     "data": {
      "text/html": [
       "<div>\n",
       "<style scoped>\n",
       "    .dataframe tbody tr th:only-of-type {\n",
       "        vertical-align: middle;\n",
       "    }\n",
       "\n",
       "    .dataframe tbody tr th {\n",
       "        vertical-align: top;\n",
       "    }\n",
       "\n",
       "    .dataframe thead th {\n",
       "        text-align: right;\n",
       "    }\n",
       "</style>\n",
       "<table border=\"1\" class=\"dataframe\">\n",
       "  <thead>\n",
       "    <tr style=\"text-align: right;\">\n",
       "      <th></th>\n",
       "      <th>L.hat</th>\n",
       "      <th>U.hat</th>\n",
       "    </tr>\n",
       "  </thead>\n",
       "  <tbody>\n",
       "    <tr>\n",
       "      <th>1</th>\n",
       "      <td>9.923714</td>\n",
       "      <td>9.9584</td>\n",
       "    </tr>\n",
       "  </tbody>\n",
       "</table>\n",
       "</div>"
      ],
      "text/plain": [
       "      L.hat   U.hat\n",
       "1  9.923714  9.9584"
      ]
     },
     "execution_count": 49,
     "metadata": {},
     "output_type": "execute_result"
    }
   ],
   "source": [
    "## installing the 'mgcv' package if not previously installed\n",
    "%R if (!require(mgcv)) install.packages('mgcv')\n",
    "\n",
    "## loading the packages\n",
    "%R library(mgcv)\n",
    "\n",
    "## OLS: performing OLS using the 'gam' function in 'mgcv'\n",
    "%R ols.gam <- gam(f,data=hprice2)\n",
    "\n",
    "## OLS: replacing the default homoskedastic vcov\n",
    "%R ols.gam$Vp <- vcovHC(ols,type='HC1')\n",
    "\n",
    "## OLS: creating the x_i=mean(x)\n",
    "%R attach(hprice2)\n",
    "%R new.dat=data.frame(lnox=mean(lnox),lproptax=mean(lproptax),crime=mean(crime),rooms=mean(rooms),dist=mean(dist),radial=mean(radial),stratio=mean(stratio),lowstat=mean(lowstat))\n",
    "%R detach(hprice2)\n",
    "\n",
    "## OLS: using the predict command to get the robust s.e.\n",
    "%R reg.int <- predict(ols.gam,newdata=new.dat,se.fit=TRUE)\n",
    "\n",
    "## OLS: manually estimating the (robust) regression interval\n",
    "%R data.frame(L.hat=reg.int$fit-1.96*reg.int$se.fit,U.hat=reg.int$fit+1.96*reg.int$se.fit)"
   ]
  },
  {
   "cell_type": "code",
   "execution_count": 50,
   "metadata": {},
   "outputs": [
    {
     "data": {
      "text/html": [
       "<div>\n",
       "<style scoped>\n",
       "    .dataframe tbody tr th:only-of-type {\n",
       "        vertical-align: middle;\n",
       "    }\n",
       "\n",
       "    .dataframe tbody tr th {\n",
       "        vertical-align: top;\n",
       "    }\n",
       "\n",
       "    .dataframe thead th {\n",
       "        text-align: right;\n",
       "    }\n",
       "</style>\n",
       "<table border=\"1\" class=\"dataframe\">\n",
       "  <thead>\n",
       "    <tr style=\"text-align: right;\">\n",
       "      <th></th>\n",
       "      <th>L.hat</th>\n",
       "      <th>U.hat</th>\n",
       "    </tr>\n",
       "  </thead>\n",
       "  <tbody>\n",
       "    <tr>\n",
       "      <th>0</th>\n",
       "      <td>9.923715</td>\n",
       "      <td>9.958399</td>\n",
       "    </tr>\n",
       "  </tbody>\n",
       "</table>\n",
       "</div>"
      ],
      "text/plain": [
       "      L.hat     U.hat\n",
       "0  9.923715  9.958399"
      ]
     },
     "execution_count": 50,
     "metadata": {},
     "output_type": "execute_result"
    }
   ],
   "source": [
    "import statsmodels.api as sm\n",
    "\n",
    "## OLS: creating the x_i=mean(x)\n",
    "r_ols = sm.OLS(y,X).fit(cov_type='HC1')\n",
    "\n",
    "## OLS: creating the x_i=mean(x)\n",
    "pred_mean_x = r_ols.get_prediction(X.mean(axis=0))\n",
    "pd.DataFrame({'L.hat':pred_mean_x.summary_frame(alpha=0.05)['mean_ci_lower'],\n",
    "              'U.hat':pred_mean_x.summary_frame(alpha=0.05)['mean_ci_upper']})\n"
   ]
  },
  {
   "cell_type": "markdown",
   "metadata": {
    "slideshow": {
     "slide_type": "slide"
    }
   },
   "source": [
    "### Forecast Intervals"
   ]
  },
  {
   "cell_type": "markdown",
   "metadata": {
    "slideshow": {
     "slide_type": "subslide"
    }
   },
   "source": [
    "Suppose we are given a value of the regressor vector $\\mathbf{x}_{n+1}$ for an individual outside the sample, and\n",
    "we want to forecast (guess) $y_{n+1}$ for this individual. This is equivalent to forecasting $y_{n+1}$ given $\\mathbf{x}_{n+1}=\\mathbf{x}$, which will generally be a function of $\\mathbf{x}$. A reasonable forecasting rule is the conditional mean $m(\\mathbf{x})$ as it is the mean-square-minimizing forecast. A point forecast is the estimated conditional mean $\\widehat{m}(\\mathbf{x})=\\mathbf{x}^{\\prime} \\widehat{\\beta}$. We would also like a measure of uncertainty for the forecast.\n",
    "\n",
    "The forecast error is $\\widehat{e}_{n+1}=y_{n+1}-\\widehat{m}(\\mathbf{x})=e_{n+1}-\\mathbf{x}^{\\prime}(\\widehat{\\boldsymbol{\\beta}}-\\boldsymbol{\\beta})$. As the out-of-sample error $e_{n+1}$ is independent of the in-sample estimate $\\widehat{\\boldsymbol{\\beta}}$, this has conditional variance\n",
    "\n",
    "$$\n",
    "\\begin{aligned}\n",
    "E\\left(\\widehat{e}_{n+1}^{2} | \\mathbf{x}_{n+1}=\\mathbf{x}\\right) &=E\\left(e_{n+1}^{2}-2 \\mathbf{x}^{\\prime}(\\widehat{\\boldsymbol{\\beta}}-\\boldsymbol{\\beta}) e_{n+1}+\\mathbf{x}^{\\prime}(\\hat{\\boldsymbol{\\beta}}-\\boldsymbol{\\beta})(\\hat{\\boldsymbol{\\beta}}-\\boldsymbol{\\beta})^{\\prime} \\mathbf{x} | \\mathbf{x}_{n+1}=\\mathbf{x}\\right) \\\\ &=E\\left(e_{n+1}^{2} | \\mathbf{x}_{n+1}=\\mathbf{x}\\right)+\\mathbf{x}^{\\prime} E[(\\widehat{\\boldsymbol{\\beta}}-\\boldsymbol{\\beta})(\\widehat{\\boldsymbol{\\beta}}-\\boldsymbol{\\beta})^{\\prime}|\\mathbf{x}_{n+1}=\\mathbf{x}] \\mathbf{x} \\\\ &=\\sigma^{2}(\\mathbf{x})+\\mathbf{x}^{\\prime} \\mathbf{V}_{\\widehat{\\boldsymbol{\\beta}}} \\mathbf{x} \\end{aligned}\n",
    "$$"
   ]
  },
  {
   "cell_type": "markdown",
   "metadata": {
    "slideshow": {
     "slide_type": "subslide"
    }
   },
   "source": [
    "Under homoskedasticity $E\\left(e_{n+1}^{2} | \\mathbf{x}_{n+1}\\right)=\\sigma^{2}$. In this case $\\widehat{\\sigma}^{2}+\\mathbf{x}^{\\prime} \\widehat{\\mathbf{V}}_{\\widehat{\\beta}}^{\\mathrm{HC?}} \\mathbf{x}$ is a consistent estimator of this conditional variance, so a standard error for the forecast is $\\widehat{s}(\\mathbf{x})=\\sqrt{\\widehat{\\sigma}^{2}+\\mathbf{x}^{\\prime} \\widehat{\\mathbf{V}}_{\\widehat{\\boldsymbol{\\beta}}}^{\\mathrm{HC?}} \\mathbf{x}}$, and the conventional 95% forecast insterval for $y_{n+1}$ uses a normal approximation and sets\n",
    "\n",
    "$$\\left[\\mathbf{x}^{\\prime} \\widehat{\\boldsymbol{\\beta}} \\pm 1.96 \\widehat{s}(\\mathbf{x})\\right].$$\n",
    "\n",
    "🛑 This interval is only valid if $e_{n+1}$ comes from a _homoskedastic_ normal distribution, i.e., $e_{n+1}\\sim N(0,\\sigma^2)$!"
   ]
  },
  {
   "cell_type": "markdown",
   "metadata": {
    "slideshow": {
     "slide_type": "subslide"
    }
   },
   "source": [
    "💻 We now _manually_ calculate the forecast interval for the same mean values of $\\mathbf{x}$ as before."
   ]
  },
  {
   "cell_type": "code",
   "execution_count": 51,
   "metadata": {
    "slideshow": {
     "slide_type": "fragment"
    }
   },
   "outputs": [
    {
     "data": {
      "text/html": [
       "<div>\n",
       "<style scoped>\n",
       "    .dataframe tbody tr th:only-of-type {\n",
       "        vertical-align: middle;\n",
       "    }\n",
       "\n",
       "    .dataframe tbody tr th {\n",
       "        vertical-align: top;\n",
       "    }\n",
       "\n",
       "    .dataframe thead th {\n",
       "        text-align: right;\n",
       "    }\n",
       "</style>\n",
       "<table border=\"1\" class=\"dataframe\">\n",
       "  <thead>\n",
       "    <tr style=\"text-align: right;\">\n",
       "      <th></th>\n",
       "      <th>L.hat</th>\n",
       "      <th>U.hat</th>\n",
       "    </tr>\n",
       "  </thead>\n",
       "  <tbody>\n",
       "    <tr>\n",
       "      <th>1</th>\n",
       "      <td>9.550559</td>\n",
       "      <td>10.331556</td>\n",
       "    </tr>\n",
       "  </tbody>\n",
       "</table>\n",
       "</div>"
      ],
      "text/plain": [
       "      L.hat      U.hat\n",
       "1  9.550559  10.331556"
      ]
     },
     "execution_count": 51,
     "metadata": {},
     "output_type": "execute_result"
    }
   ],
   "source": [
    "## OLS: manually estimating the forecast interval\n",
    "%R s.hat <- sqrt(summary(ols)$sigma^2+reg.int$se.fit^2)\n",
    "%R data.frame(L.hat=reg.int$fit-1.96*s.hat,U.hat=reg.int$fit+1.96*s.hat)"
   ]
  },
  {
   "cell_type": "code",
   "execution_count": 52,
   "metadata": {},
   "outputs": [
    {
     "data": {
      "text/html": [
       "<div>\n",
       "<style scoped>\n",
       "    .dataframe tbody tr th:only-of-type {\n",
       "        vertical-align: middle;\n",
       "    }\n",
       "\n",
       "    .dataframe tbody tr th {\n",
       "        vertical-align: top;\n",
       "    }\n",
       "\n",
       "    .dataframe thead th {\n",
       "        text-align: right;\n",
       "    }\n",
       "</style>\n",
       "<table border=\"1\" class=\"dataframe\">\n",
       "  <thead>\n",
       "    <tr style=\"text-align: right;\">\n",
       "      <th></th>\n",
       "      <th>L.hat</th>\n",
       "      <th>U.hat</th>\n",
       "    </tr>\n",
       "  </thead>\n",
       "  <tbody>\n",
       "    <tr>\n",
       "      <th>0</th>\n",
       "      <td>9.550566</td>\n",
       "      <td>10.331548</td>\n",
       "    </tr>\n",
       "  </tbody>\n",
       "</table>\n",
       "</div>"
      ],
      "text/plain": [
       "      L.hat      U.hat\n",
       "0  9.550566  10.331548"
      ]
     },
     "execution_count": 52,
     "metadata": {},
     "output_type": "execute_result"
    }
   ],
   "source": [
    "## OLS: creating the x_i=mean(x)\n",
    "pred_mean_x = r_ols.get_prediction(X.mean(axis=0))\n",
    "pd.DataFrame({'L.hat':pred_mean_x.summary_frame(alpha=0.05)['obs_ci_lower'],\n",
    "              'U.hat':pred_mean_x.summary_frame(alpha=0.05)['obs_ci_upper']})\n"
   ]
  }
 ],
 "metadata": {
  "author": "lde",
  "hide_input": false,
  "kernelspec": {
   "display_name": "Python 3",
   "language": "python",
   "name": "python3"
  },
  "language_info": {
   "codemirror_mode": {
    "name": "ipython",
    "version": 3
   },
   "file_extension": ".py",
   "mimetype": "text/x-python",
   "name": "python",
   "nbconvert_exporter": "python",
   "pygments_lexer": "ipython3",
   "version": "3.7.9"
  },
  "latex_envs": {
   "LaTeX_envs_menu_present": true,
   "autoclose": false,
   "autocomplete": true,
   "bibliofile": "biblio.bib",
   "cite_by": "apalike",
   "current_citInitial": 1,
   "eqLabelWithNumbers": true,
   "eqNumInitial": 1,
   "hotkeys": {
    "equation": "Ctrl-E",
    "itemize": "Ctrl-I"
   },
   "labels_anchors": false,
   "latex_user_defs": false,
   "report_style_numbering": false,
   "user_envs_cfg": false
  },
  "toc-autonumbering": true,
  "toc-showmarkdowntxt": false
 },
 "nbformat": 4,
 "nbformat_minor": 4
}
